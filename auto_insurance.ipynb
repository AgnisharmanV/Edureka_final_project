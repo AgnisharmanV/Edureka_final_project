{
 "cells": [
  {
   "cell_type": "code",
   "execution_count": 0,
   "metadata": {
    "colab": {},
    "colab_type": "code",
    "id": "BbYQI6TACFgN"
   },
   "outputs": [],
   "source": [
    "import numpy as np\n",
    "import pandas as pd\n",
    "from scipy import stats\n",
    "import matplotlib.pyplot as plt\n",
    "import seaborn as sns\n",
    "%matplotlib inline\n",
    "import warnings\n",
    "warnings.filterwarnings('ignore')\n",
    "\n",
    "from sklearn.model_selection import train_test_split, cross_val_score, GridSearchCV\n",
    "from sklearn.metrics import confusion_matrix, classification_report \n",
    "from sklearn.ensemble import RandomForestClassifier, AdaBoostClassifier\n",
    "from sklearn.neighbors import KNeighborsClassifier\n",
    "from sklearn.feature_selection import SelectFromModel\n",
    "from sklearn.decomposition import PCA\n",
    "import xgboost\n",
    "from sklearn.linear_model import LogisticRegression\n",
    "from sklearn.svm import SVC, LinearSVC\n",
    "from imblearn.over_sampling import SMOTE\n",
    "from collections import Counter"
   ]
  },
  {
   "cell_type": "code",
   "execution_count": 0,
   "metadata": {
    "colab": {
     "base_uri": "https://localhost:8080/",
     "height": 235
    },
    "colab_type": "code",
    "id": "3Ir5IcVCCFgS",
    "outputId": "5cd728fa-989b-48db-9c5b-414e640c947d",
    "scrolled": true
   },
   "outputs": [
    {
     "name": "stdout",
     "output_type": "stream",
     "text": [
      "   id  target  ps_ind_01  ps_ind_02_cat  ps_ind_03  ps_ind_04_cat  \\\n",
      "0   7       0          2              2          5              1   \n",
      "1   9       0          1              1          7              0   \n",
      "2  13       0          5              4          9              1   \n",
      "3  16       0          0              1          2              0   \n",
      "4  17       0          0              2          0              1   \n",
      "5  19       0          5              1          4              0   \n",
      "6  20       0          2              1          3              1   \n",
      "7  22       0          5              1          4              0   \n",
      "8  26       0          5              1          3              1   \n",
      "9  28       1          1              1          2              0   \n",
      "\n",
      "   ps_ind_05_cat  ps_ind_06_bin  ps_ind_07_bin  ps_ind_08_bin       ...        \\\n",
      "0              0              0              1              0       ...         \n",
      "1              0              0              0              1       ...         \n",
      "2              0              0              0              1       ...         \n",
      "3              0              1              0              0       ...         \n",
      "4              0              1              0              0       ...         \n",
      "5              0              0              0              0       ...         \n",
      "6              0              0              1              0       ...         \n",
      "7              0              1              0              0       ...         \n",
      "8              0              0              0              1       ...         \n",
      "9              0              0              1              0       ...         \n",
      "\n",
      "   ps_calc_11  ps_calc_12  ps_calc_13  ps_calc_14  ps_calc_15_bin  \\\n",
      "0           9           1           5           8               0   \n",
      "1           3           1           1           9               0   \n",
      "2           4           2           7           7               0   \n",
      "3           2           2           4           9               0   \n",
      "4           3           1           1           3               0   \n",
      "5           4           2           0           9               0   \n",
      "6           3           0           0          10               0   \n",
      "7           7           1           3           6               1   \n",
      "8           4           2           1           5               0   \n",
      "9           3           5           0           6               0   \n",
      "\n",
      "   ps_calc_16_bin  ps_calc_17_bin  ps_calc_18_bin  ps_calc_19_bin  \\\n",
      "0               1               1               0               0   \n",
      "1               1               1               0               1   \n",
      "2               1               1               0               1   \n",
      "3               0               0               0               0   \n",
      "4               0               0               1               1   \n",
      "5               1               0               1               1   \n",
      "6               1               0               0               1   \n",
      "7               0               1               0               1   \n",
      "8               1               0               0               0   \n",
      "9               1               0               0               1   \n",
      "\n",
      "   ps_calc_20_bin  \n",
      "0               1  \n",
      "1               0  \n",
      "2               0  \n",
      "3               0  \n",
      "4               0  \n",
      "5               1  \n",
      "6               0  \n",
      "7               0  \n",
      "8               1  \n",
      "9               0  \n",
      "\n",
      "[10 rows x 59 columns]\n"
     ]
    }
   ],
   "source": [
    "''' Loading csv file '''\n",
    "df = pd.read_csv('train.csv')\n",
    "print(df.head(10))"
   ]
  },
  {
   "cell_type": "markdown",
   "metadata": {
    "colab_type": "text",
    "id": "JPjYORXoCFgW"
   },
   "source": [
    "# Checking summary statistics using info() and describe() methods"
   ]
  },
  {
   "cell_type": "code",
   "execution_count": 0,
   "metadata": {
    "colab": {
     "base_uri": "https://localhost:8080/",
     "height": 304
    },
    "colab_type": "code",
    "id": "XMs2cHKECFgW",
    "outputId": "b280e770-acce-469f-b8b9-389b242f9c0f"
   },
   "outputs": [
    {
     "data": {
      "text/html": [
       "<div>\n",
       "<style scoped>\n",
       "    .dataframe tbody tr th:only-of-type {\n",
       "        vertical-align: middle;\n",
       "    }\n",
       "\n",
       "    .dataframe tbody tr th {\n",
       "        vertical-align: top;\n",
       "    }\n",
       "\n",
       "    .dataframe thead th {\n",
       "        text-align: right;\n",
       "    }\n",
       "</style>\n",
       "<table border=\"1\" class=\"dataframe\">\n",
       "  <thead>\n",
       "    <tr style=\"text-align: right;\">\n",
       "      <th></th>\n",
       "      <th>id</th>\n",
       "      <th>target</th>\n",
       "      <th>ps_ind_01</th>\n",
       "      <th>ps_ind_02_cat</th>\n",
       "      <th>ps_ind_03</th>\n",
       "      <th>ps_ind_04_cat</th>\n",
       "      <th>ps_ind_05_cat</th>\n",
       "      <th>ps_ind_06_bin</th>\n",
       "      <th>ps_ind_07_bin</th>\n",
       "      <th>ps_ind_08_bin</th>\n",
       "      <th>...</th>\n",
       "      <th>ps_calc_11</th>\n",
       "      <th>ps_calc_12</th>\n",
       "      <th>ps_calc_13</th>\n",
       "      <th>ps_calc_14</th>\n",
       "      <th>ps_calc_15_bin</th>\n",
       "      <th>ps_calc_16_bin</th>\n",
       "      <th>ps_calc_17_bin</th>\n",
       "      <th>ps_calc_18_bin</th>\n",
       "      <th>ps_calc_19_bin</th>\n",
       "      <th>ps_calc_20_bin</th>\n",
       "    </tr>\n",
       "  </thead>\n",
       "  <tbody>\n",
       "    <tr>\n",
       "      <th>count</th>\n",
       "      <td>5.952120e+05</td>\n",
       "      <td>595212.000000</td>\n",
       "      <td>595212.000000</td>\n",
       "      <td>595212.000000</td>\n",
       "      <td>595212.000000</td>\n",
       "      <td>595212.000000</td>\n",
       "      <td>595212.000000</td>\n",
       "      <td>595212.000000</td>\n",
       "      <td>595212.000000</td>\n",
       "      <td>595212.000000</td>\n",
       "      <td>...</td>\n",
       "      <td>595212.000000</td>\n",
       "      <td>595212.000000</td>\n",
       "      <td>595212.000000</td>\n",
       "      <td>595212.000000</td>\n",
       "      <td>595212.000000</td>\n",
       "      <td>595212.000000</td>\n",
       "      <td>595212.000000</td>\n",
       "      <td>595212.000000</td>\n",
       "      <td>595212.000000</td>\n",
       "      <td>595212.000000</td>\n",
       "    </tr>\n",
       "    <tr>\n",
       "      <th>mean</th>\n",
       "      <td>7.438036e+05</td>\n",
       "      <td>0.036448</td>\n",
       "      <td>1.900378</td>\n",
       "      <td>1.358943</td>\n",
       "      <td>4.423318</td>\n",
       "      <td>0.416794</td>\n",
       "      <td>0.405188</td>\n",
       "      <td>0.393742</td>\n",
       "      <td>0.257033</td>\n",
       "      <td>0.163921</td>\n",
       "      <td>...</td>\n",
       "      <td>5.441382</td>\n",
       "      <td>1.441918</td>\n",
       "      <td>2.872288</td>\n",
       "      <td>7.539026</td>\n",
       "      <td>0.122427</td>\n",
       "      <td>0.627840</td>\n",
       "      <td>0.554182</td>\n",
       "      <td>0.287182</td>\n",
       "      <td>0.349024</td>\n",
       "      <td>0.153318</td>\n",
       "    </tr>\n",
       "    <tr>\n",
       "      <th>std</th>\n",
       "      <td>4.293678e+05</td>\n",
       "      <td>0.187401</td>\n",
       "      <td>1.983789</td>\n",
       "      <td>0.664594</td>\n",
       "      <td>2.699902</td>\n",
       "      <td>0.493311</td>\n",
       "      <td>1.350642</td>\n",
       "      <td>0.488579</td>\n",
       "      <td>0.436998</td>\n",
       "      <td>0.370205</td>\n",
       "      <td>...</td>\n",
       "      <td>2.332871</td>\n",
       "      <td>1.202963</td>\n",
       "      <td>1.694887</td>\n",
       "      <td>2.746652</td>\n",
       "      <td>0.327779</td>\n",
       "      <td>0.483381</td>\n",
       "      <td>0.497056</td>\n",
       "      <td>0.452447</td>\n",
       "      <td>0.476662</td>\n",
       "      <td>0.360295</td>\n",
       "    </tr>\n",
       "    <tr>\n",
       "      <th>min</th>\n",
       "      <td>7.000000e+00</td>\n",
       "      <td>0.000000</td>\n",
       "      <td>0.000000</td>\n",
       "      <td>-1.000000</td>\n",
       "      <td>0.000000</td>\n",
       "      <td>-1.000000</td>\n",
       "      <td>-1.000000</td>\n",
       "      <td>0.000000</td>\n",
       "      <td>0.000000</td>\n",
       "      <td>0.000000</td>\n",
       "      <td>...</td>\n",
       "      <td>0.000000</td>\n",
       "      <td>0.000000</td>\n",
       "      <td>0.000000</td>\n",
       "      <td>0.000000</td>\n",
       "      <td>0.000000</td>\n",
       "      <td>0.000000</td>\n",
       "      <td>0.000000</td>\n",
       "      <td>0.000000</td>\n",
       "      <td>0.000000</td>\n",
       "      <td>0.000000</td>\n",
       "    </tr>\n",
       "    <tr>\n",
       "      <th>25%</th>\n",
       "      <td>3.719915e+05</td>\n",
       "      <td>0.000000</td>\n",
       "      <td>0.000000</td>\n",
       "      <td>1.000000</td>\n",
       "      <td>2.000000</td>\n",
       "      <td>0.000000</td>\n",
       "      <td>0.000000</td>\n",
       "      <td>0.000000</td>\n",
       "      <td>0.000000</td>\n",
       "      <td>0.000000</td>\n",
       "      <td>...</td>\n",
       "      <td>4.000000</td>\n",
       "      <td>1.000000</td>\n",
       "      <td>2.000000</td>\n",
       "      <td>6.000000</td>\n",
       "      <td>0.000000</td>\n",
       "      <td>0.000000</td>\n",
       "      <td>0.000000</td>\n",
       "      <td>0.000000</td>\n",
       "      <td>0.000000</td>\n",
       "      <td>0.000000</td>\n",
       "    </tr>\n",
       "    <tr>\n",
       "      <th>50%</th>\n",
       "      <td>7.435475e+05</td>\n",
       "      <td>0.000000</td>\n",
       "      <td>1.000000</td>\n",
       "      <td>1.000000</td>\n",
       "      <td>4.000000</td>\n",
       "      <td>0.000000</td>\n",
       "      <td>0.000000</td>\n",
       "      <td>0.000000</td>\n",
       "      <td>0.000000</td>\n",
       "      <td>0.000000</td>\n",
       "      <td>...</td>\n",
       "      <td>5.000000</td>\n",
       "      <td>1.000000</td>\n",
       "      <td>3.000000</td>\n",
       "      <td>7.000000</td>\n",
       "      <td>0.000000</td>\n",
       "      <td>1.000000</td>\n",
       "      <td>1.000000</td>\n",
       "      <td>0.000000</td>\n",
       "      <td>0.000000</td>\n",
       "      <td>0.000000</td>\n",
       "    </tr>\n",
       "    <tr>\n",
       "      <th>75%</th>\n",
       "      <td>1.115549e+06</td>\n",
       "      <td>0.000000</td>\n",
       "      <td>3.000000</td>\n",
       "      <td>2.000000</td>\n",
       "      <td>6.000000</td>\n",
       "      <td>1.000000</td>\n",
       "      <td>0.000000</td>\n",
       "      <td>1.000000</td>\n",
       "      <td>1.000000</td>\n",
       "      <td>0.000000</td>\n",
       "      <td>...</td>\n",
       "      <td>7.000000</td>\n",
       "      <td>2.000000</td>\n",
       "      <td>4.000000</td>\n",
       "      <td>9.000000</td>\n",
       "      <td>0.000000</td>\n",
       "      <td>1.000000</td>\n",
       "      <td>1.000000</td>\n",
       "      <td>1.000000</td>\n",
       "      <td>1.000000</td>\n",
       "      <td>0.000000</td>\n",
       "    </tr>\n",
       "    <tr>\n",
       "      <th>max</th>\n",
       "      <td>1.488027e+06</td>\n",
       "      <td>1.000000</td>\n",
       "      <td>7.000000</td>\n",
       "      <td>4.000000</td>\n",
       "      <td>11.000000</td>\n",
       "      <td>1.000000</td>\n",
       "      <td>6.000000</td>\n",
       "      <td>1.000000</td>\n",
       "      <td>1.000000</td>\n",
       "      <td>1.000000</td>\n",
       "      <td>...</td>\n",
       "      <td>19.000000</td>\n",
       "      <td>10.000000</td>\n",
       "      <td>13.000000</td>\n",
       "      <td>23.000000</td>\n",
       "      <td>1.000000</td>\n",
       "      <td>1.000000</td>\n",
       "      <td>1.000000</td>\n",
       "      <td>1.000000</td>\n",
       "      <td>1.000000</td>\n",
       "      <td>1.000000</td>\n",
       "    </tr>\n",
       "  </tbody>\n",
       "</table>\n",
       "<p>8 rows × 59 columns</p>\n",
       "</div>"
      ],
      "text/plain": [
       "                 id         target      ps_ind_01  ps_ind_02_cat  \\\n",
       "count  5.952120e+05  595212.000000  595212.000000  595212.000000   \n",
       "mean   7.438036e+05       0.036448       1.900378       1.358943   \n",
       "std    4.293678e+05       0.187401       1.983789       0.664594   \n",
       "min    7.000000e+00       0.000000       0.000000      -1.000000   \n",
       "25%    3.719915e+05       0.000000       0.000000       1.000000   \n",
       "50%    7.435475e+05       0.000000       1.000000       1.000000   \n",
       "75%    1.115549e+06       0.000000       3.000000       2.000000   \n",
       "max    1.488027e+06       1.000000       7.000000       4.000000   \n",
       "\n",
       "           ps_ind_03  ps_ind_04_cat  ps_ind_05_cat  ps_ind_06_bin  \\\n",
       "count  595212.000000  595212.000000  595212.000000  595212.000000   \n",
       "mean        4.423318       0.416794       0.405188       0.393742   \n",
       "std         2.699902       0.493311       1.350642       0.488579   \n",
       "min         0.000000      -1.000000      -1.000000       0.000000   \n",
       "25%         2.000000       0.000000       0.000000       0.000000   \n",
       "50%         4.000000       0.000000       0.000000       0.000000   \n",
       "75%         6.000000       1.000000       0.000000       1.000000   \n",
       "max        11.000000       1.000000       6.000000       1.000000   \n",
       "\n",
       "       ps_ind_07_bin  ps_ind_08_bin       ...           ps_calc_11  \\\n",
       "count  595212.000000  595212.000000       ...        595212.000000   \n",
       "mean        0.257033       0.163921       ...             5.441382   \n",
       "std         0.436998       0.370205       ...             2.332871   \n",
       "min         0.000000       0.000000       ...             0.000000   \n",
       "25%         0.000000       0.000000       ...             4.000000   \n",
       "50%         0.000000       0.000000       ...             5.000000   \n",
       "75%         1.000000       0.000000       ...             7.000000   \n",
       "max         1.000000       1.000000       ...            19.000000   \n",
       "\n",
       "          ps_calc_12     ps_calc_13     ps_calc_14  ps_calc_15_bin  \\\n",
       "count  595212.000000  595212.000000  595212.000000   595212.000000   \n",
       "mean        1.441918       2.872288       7.539026        0.122427   \n",
       "std         1.202963       1.694887       2.746652        0.327779   \n",
       "min         0.000000       0.000000       0.000000        0.000000   \n",
       "25%         1.000000       2.000000       6.000000        0.000000   \n",
       "50%         1.000000       3.000000       7.000000        0.000000   \n",
       "75%         2.000000       4.000000       9.000000        0.000000   \n",
       "max        10.000000      13.000000      23.000000        1.000000   \n",
       "\n",
       "       ps_calc_16_bin  ps_calc_17_bin  ps_calc_18_bin  ps_calc_19_bin  \\\n",
       "count   595212.000000   595212.000000   595212.000000   595212.000000   \n",
       "mean         0.627840        0.554182        0.287182        0.349024   \n",
       "std          0.483381        0.497056        0.452447        0.476662   \n",
       "min          0.000000        0.000000        0.000000        0.000000   \n",
       "25%          0.000000        0.000000        0.000000        0.000000   \n",
       "50%          1.000000        1.000000        0.000000        0.000000   \n",
       "75%          1.000000        1.000000        1.000000        1.000000   \n",
       "max          1.000000        1.000000        1.000000        1.000000   \n",
       "\n",
       "       ps_calc_20_bin  \n",
       "count   595212.000000  \n",
       "mean         0.153318  \n",
       "std          0.360295  \n",
       "min          0.000000  \n",
       "25%          0.000000  \n",
       "50%          0.000000  \n",
       "75%          0.000000  \n",
       "max          1.000000  \n",
       "\n",
       "[8 rows x 59 columns]"
      ]
     },
     "execution_count": 3,
     "metadata": {
      "tags": []
     },
     "output_type": "execute_result"
    }
   ],
   "source": [
    "df.describe(include='all')"
   ]
  },
  {
   "cell_type": "code",
   "execution_count": 0,
   "metadata": {
    "colab": {
     "base_uri": "https://localhost:8080/",
     "height": 1000
    },
    "colab_type": "code",
    "id": "DQbIne9eCFgb",
    "outputId": "6a261179-f034-4e7f-fafe-feccb72abd4f",
    "scrolled": true
   },
   "outputs": [
    {
     "name": "stdout",
     "output_type": "stream",
     "text": [
      "<class 'pandas.core.frame.DataFrame'>\n",
      "RangeIndex: 595212 entries, 0 to 595211\n",
      "Data columns (total 59 columns):\n",
      "id                595212 non-null int64\n",
      "target            595212 non-null int64\n",
      "ps_ind_01         595212 non-null int64\n",
      "ps_ind_02_cat     595212 non-null int64\n",
      "ps_ind_03         595212 non-null int64\n",
      "ps_ind_04_cat     595212 non-null int64\n",
      "ps_ind_05_cat     595212 non-null int64\n",
      "ps_ind_06_bin     595212 non-null int64\n",
      "ps_ind_07_bin     595212 non-null int64\n",
      "ps_ind_08_bin     595212 non-null int64\n",
      "ps_ind_09_bin     595212 non-null int64\n",
      "ps_ind_10_bin     595212 non-null int64\n",
      "ps_ind_11_bin     595212 non-null int64\n",
      "ps_ind_12_bin     595212 non-null int64\n",
      "ps_ind_13_bin     595212 non-null int64\n",
      "ps_ind_14         595212 non-null int64\n",
      "ps_ind_15         595212 non-null int64\n",
      "ps_ind_16_bin     595212 non-null int64\n",
      "ps_ind_17_bin     595212 non-null int64\n",
      "ps_ind_18_bin     595212 non-null int64\n",
      "ps_reg_01         595212 non-null float64\n",
      "ps_reg_02         595212 non-null float64\n",
      "ps_reg_03         595212 non-null float64\n",
      "ps_car_01_cat     595212 non-null int64\n",
      "ps_car_02_cat     595212 non-null int64\n",
      "ps_car_03_cat     595212 non-null int64\n",
      "ps_car_04_cat     595212 non-null int64\n",
      "ps_car_05_cat     595212 non-null int64\n",
      "ps_car_06_cat     595212 non-null int64\n",
      "ps_car_07_cat     595212 non-null int64\n",
      "ps_car_08_cat     595212 non-null int64\n",
      "ps_car_09_cat     595212 non-null int64\n",
      "ps_car_10_cat     595212 non-null int64\n",
      "ps_car_11_cat     595212 non-null int64\n",
      "ps_car_11         595212 non-null int64\n",
      "ps_car_12         595212 non-null float64\n",
      "ps_car_13         595212 non-null float64\n",
      "ps_car_14         595212 non-null float64\n",
      "ps_car_15         595212 non-null float64\n",
      "ps_calc_01        595212 non-null float64\n",
      "ps_calc_02        595212 non-null float64\n",
      "ps_calc_03        595212 non-null float64\n",
      "ps_calc_04        595212 non-null int64\n",
      "ps_calc_05        595212 non-null int64\n",
      "ps_calc_06        595212 non-null int64\n",
      "ps_calc_07        595212 non-null int64\n",
      "ps_calc_08        595212 non-null int64\n",
      "ps_calc_09        595212 non-null int64\n",
      "ps_calc_10        595212 non-null int64\n",
      "ps_calc_11        595212 non-null int64\n",
      "ps_calc_12        595212 non-null int64\n",
      "ps_calc_13        595212 non-null int64\n",
      "ps_calc_14        595212 non-null int64\n",
      "ps_calc_15_bin    595212 non-null int64\n",
      "ps_calc_16_bin    595212 non-null int64\n",
      "ps_calc_17_bin    595212 non-null int64\n",
      "ps_calc_18_bin    595212 non-null int64\n",
      "ps_calc_19_bin    595212 non-null int64\n",
      "ps_calc_20_bin    595212 non-null int64\n",
      "dtypes: float64(10), int64(49)\n",
      "memory usage: 267.9 MB\n"
     ]
    }
   ],
   "source": [
    "df.info()"
   ]
  },
  {
   "cell_type": "code",
   "execution_count": 0,
   "metadata": {
    "colab": {
     "base_uri": "https://localhost:8080/",
     "height": 458
    },
    "colab_type": "code",
    "id": "Yk57FlgiCFgd",
    "outputId": "024a594d-bc9d-4876-b0e4-6cf20daee978"
   },
   "outputs": [
    {
     "name": "stdout",
     "output_type": "stream",
     "text": [
      "0    573518\n",
      "1     21694\n",
      "Name: target, dtype: int64\n"
     ]
    },
    {
     "data": {
      "text/plain": [
       "Text(0.5,1,'Target class distribution')"
      ]
     },
     "execution_count": 5,
     "metadata": {
      "tags": []
     },
     "output_type": "execute_result"
    },
    {
     "data": {
      "image/png": "[encoded data removed]",
      "text/plain": [
       "<Figure size 720x432 with 1 Axes>"
      ]
     },
     "metadata": {
      "tags": []
     },
     "output_type": "display_data"
    }
   ],
   "source": [
    "\"\"\" counts of each class in 'target' \"\"\"\n",
    "print(df.target.value_counts())\n",
    "\n",
    "plt.figure(figsize=(10,6))\n",
    "plt.hist(df.target)\n",
    "plt.title('Target class distribution')"
   ]
  },
  {
   "cell_type": "markdown",
   "metadata": {
    "colab_type": "text",
    "id": "HNo_Z8b0CFgg"
   },
   "source": [
    "Class is highly imbalanced. Therefore care should be taken before deleting records.<br>\n",
    "Data augmentation should be performed to build a robust model."
   ]
  },
  {
   "cell_type": "markdown",
   "metadata": {
    "colab_type": "text",
    "id": "AEDyqUYaCFgh"
   },
   "source": [
    "# Null value detection"
   ]
  },
  {
   "cell_type": "code",
   "execution_count": 0,
   "metadata": {
    "colab": {
     "base_uri": "https://localhost:8080/",
     "height": 218
    },
    "colab_type": "code",
    "id": "_A2O1Rn_CFgi",
    "outputId": "3c128669-6c55-4211-e4dc-f2a7490588b8"
   },
   "outputs": [
    {
     "name": "stdout",
     "output_type": "stream",
     "text": [
      "ps_ind_02_cat 216\n",
      "ps_ind_04_cat 83\n",
      "ps_ind_05_cat 5809\n",
      "ps_reg_03 107772\n",
      "ps_car_01_cat 107\n",
      "ps_car_03_cat 411231\n",
      "ps_car_05_cat 266551\n",
      "ps_car_07_cat 11489\n",
      "ps_car_09_cat 569\n",
      "ps_car_11 5\n",
      "ps_car_12 1\n",
      "ps_car_14 42620\n"
     ]
    }
   ],
   "source": [
    "\"\"\" Finding the null values present in each column \"\"\"\n",
    "null = {}\n",
    "for i in df:\n",
    "    if len(df[df[i]==-1]) > 0:\n",
    "        null[i] = len(df[df[i]==-1])\n",
    "\n",
    "for i in null:\n",
    "    print(i, null[i])"
   ]
  },
  {
   "cell_type": "code",
   "execution_count": 0,
   "metadata": {
    "colab": {
     "base_uri": "https://localhost:8080/",
     "height": 185
    },
    "colab_type": "code",
    "id": "SJDiCqOFCFgl",
    "outputId": "b24a0f23-7ad1-4795-9165-b261909bb69d"
   },
   "outputs": [
    {
     "name": "stdout",
     "output_type": "stream",
     "text": [
      "ps_ind_02_cat 40\n",
      "ps_ind_04_cat 33\n",
      "ps_ind_05_cat 484\n",
      "ps_reg_03 3060\n",
      "ps_car_01_cat 34\n",
      "ps_car_03_cat 13450\n",
      "ps_car_05_cat 8452\n",
      "ps_car_07_cat 898\n",
      "ps_car_09_cat 52\n",
      "ps_car_14 1723\n"
     ]
    }
   ],
   "source": [
    "\"\"\" Finding missing values in each columns corresponding to target class 1\"\"\"\n",
    "null_1 = {}\n",
    "df_1 = df[df['target']==1]\n",
    "for i in df_1:\n",
    "    if len(df_1[df_1[i]==-1]) > 0:\n",
    "        null_1[i] = len(df_1[df_1[i]==-1])\n",
    "\n",
    "for i in null_1:\n",
    "    print(i, null_1[i])"
   ]
  },
  {
   "cell_type": "code",
   "execution_count": 0,
   "metadata": {
    "colab": {
     "base_uri": "https://localhost:8080/",
     "height": 185
    },
    "colab_type": "code",
    "id": "x96Kxw1xCFgo",
    "outputId": "e117ec9c-9f90-4075-b2e2-c62e44beb961"
   },
   "outputs": [
    {
     "name": "stdout",
     "output_type": "stream",
     "text": [
      "ps_ind_02_cat 0.2\n",
      "ps_ind_04_cat 0.2\n",
      "ps_ind_05_cat 2.1999999999999997\n",
      "ps_reg_03 14.099999999999998\n",
      "ps_car_01_cat 0.2\n",
      "ps_car_03_cat 62.0\n",
      "ps_car_05_cat 39.0\n",
      "ps_car_07_cat 4.1000000000000005\n",
      "ps_car_09_cat 0.2\n",
      "ps_car_14 7.9\n"
     ]
    }
   ],
   "source": [
    "for i in null_1:\n",
    "    print(i, np.round(null_1[i]/len(df[df['target']==1]), 3)*100)"
   ]
  },
  {
   "cell_type": "markdown",
   "metadata": {
    "colab_type": "text",
    "id": "Y4iP0m63CFgr"
   },
   "source": [
    "Columns 'ps_reg_03', 'ps_car_03_cat' and 'ps_car_05_cat' should be dropped because a larger percent of target class 1 has missing values in them.<br>\n",
    "For the remaining missing values, rows are deleted.<br>\n",
    "Imputation of values could be done if familiar with the nature of labels, but in this case its not possible."
   ]
  },
  {
   "cell_type": "code",
   "execution_count": 0,
   "metadata": {
    "colab": {},
    "colab_type": "code",
    "id": "Y0zJEMfCCFgs"
   },
   "outputs": [],
   "source": [
    "threshold = 0.1*len(df)\n",
    "\n",
    "'''dropping columns with missing values greater than threshold '''\n",
    "for i in null:\n",
    "    if null[i] > threshold :\n",
    "        df = df.drop(i, axis=1)"
   ]
  },
  {
   "cell_type": "code",
   "execution_count": 0,
   "metadata": {
    "colab": {
     "base_uri": "https://localhost:8080/",
     "height": 34
    },
    "colab_type": "code",
    "id": "QtignjEUCFgv",
    "outputId": "d9a4387c-1f1e-4c9f-e514-a7356a120093"
   },
   "outputs": [
    {
     "data": {
      "text/plain": [
       "(595212, 56)"
      ]
     },
     "execution_count": 10,
     "metadata": {
      "tags": []
     },
     "output_type": "execute_result"
    }
   ],
   "source": [
    "df.shape"
   ]
  },
  {
   "cell_type": "code",
   "execution_count": 0,
   "metadata": {
    "colab": {},
    "colab_type": "code",
    "id": "BV5wAiv8CFgy"
   },
   "outputs": [],
   "source": [
    "'''Dropping rows'''\n",
    "for i in null:\n",
    "    if null[i] <= threshold :\n",
    "        df = df[df[i] != -1]"
   ]
  },
  {
   "cell_type": "code",
   "execution_count": 0,
   "metadata": {
    "colab": {
     "base_uri": "https://localhost:8080/",
     "height": 34
    },
    "colab_type": "code",
    "id": "uKX0Zt1GCFg3",
    "outputId": "d2699418-47aa-42ef-d0cc-9c81997ddb98"
   },
   "outputs": [
    {
     "data": {
      "text/plain": [
       "(541865, 56)"
      ]
     },
     "execution_count": 12,
     "metadata": {
      "tags": []
     },
     "output_type": "execute_result"
    }
   ],
   "source": [
    "df.shape"
   ]
  },
  {
   "cell_type": "code",
   "execution_count": 0,
   "metadata": {
    "colab": {
     "base_uri": "https://localhost:8080/",
     "height": 67
    },
    "colab_type": "code",
    "id": "WouImkUkCFg6",
    "outputId": "bf066edb-ed1a-4241-ce55-2e79612e4e29"
   },
   "outputs": [
    {
     "data": {
      "text/plain": [
       "0    522715\n",
       "1     19150\n",
       "Name: target, dtype: int64"
      ]
     },
     "execution_count": 13,
     "metadata": {
      "tags": []
     },
     "output_type": "execute_result"
    }
   ],
   "source": [
    "df.target.value_counts()"
   ]
  },
  {
   "cell_type": "markdown",
   "metadata": {
    "colab_type": "text",
    "id": "dufov-c5CFg8"
   },
   "source": [
    "Approximately 10% of both classes in target column are removed.<br>"
   ]
  },
  {
   "cell_type": "code",
   "execution_count": 0,
   "metadata": {
    "colab": {},
    "colab_type": "code",
    "id": "8WZgmVvtCFg9"
   },
   "outputs": [],
   "source": [
    "df.drop('id', inplace=True, axis=1)  #dropping id column as it doesnt contain usrful information"
   ]
  },
  {
   "cell_type": "markdown",
   "metadata": {
    "colab_type": "text",
    "id": "5HFlpVajCFg_"
   },
   "source": [
    "# Grouping features of similar measurement"
   ]
  },
  {
   "cell_type": "code",
   "execution_count": 0,
   "metadata": {
    "colab": {
     "base_uri": "https://localhost:8080/",
     "height": 67
    },
    "colab_type": "code",
    "id": "KV-DxMXiCFg_",
    "outputId": "64663bf4-db37-4080-c2c4-d34eeb1fb192",
    "scrolled": true
   },
   "outputs": [
    {
     "name": "stdout",
     "output_type": "stream",
     "text": [
      "No of binary features: 17\n",
      "No of categorical features: 12\n",
      "No of continuos/ ordinal features: 25\n"
     ]
    }
   ],
   "source": [
    "def feature_type(col):\n",
    "    '''determining types of features'''\n",
    "    bin_feat = [] #binary features\n",
    "    cat_feat = [] #categorical features\n",
    "    cont_ord = [] #continuous and/or ordinal featurees\n",
    "    for i in col:\n",
    "        if i.split('_')[-1] in ['bin']:\n",
    "            bin_feat.append(i)\n",
    "        elif i.split('_')[-1] in ['cat']:\n",
    "            cat_feat.append(i)\n",
    "        elif i != 'target':\n",
    "            cont_ord.append(i)\n",
    "    return bin_feat, cat_feat, cont_ord\n",
    "\n",
    "bin_feat, cat_feat, cont_ord = feature_type(df.columns)\n",
    "print(\"\"\"No of binary features: {}\\nNo of categorical features: {}\\nNo of continuos/ ordinal features: {}\"\"\".format(len(bin_feat), len(cat_feat),len(cont_ord)))"
   ]
  },
  {
   "cell_type": "code",
   "execution_count": 0,
   "metadata": {
    "colab": {
     "base_uri": "https://localhost:8080/",
     "height": 437
    },
    "colab_type": "code",
    "id": "k4Ph173CCFhC",
    "outputId": "590100ea-79cf-4471-faa1-01552b8ad8ea",
    "scrolled": true
   },
   "outputs": [
    {
     "name": "stdout",
     "output_type": "stream",
     "text": [
      "ps_ind_01 no: 8 max: 7 min 0\n",
      "ps_ind_03 no: 12 max: 11 min 0\n",
      "ps_ind_14 no: 5 max: 4 min 0\n",
      "ps_ind_15 no: 14 max: 13 min 0\n",
      "ps_reg_01 no: 10 max: 0.9 min 0.0\n",
      "ps_reg_02 no: 19 max: 1.8 min 0.0\n",
      "ps_car_11 no: 4 max: 3 min 0\n",
      "ps_car_12 no: 165 max: 1.264911064 min 0.1\n",
      "ps_car_13 no: 63921 max: 3.124222217 min 0.250619068\n",
      "ps_car_14 no: 835 max: 0.6363961029999999 min 0.109544512\n",
      "ps_car_15 no: 15 max: 3.741657387 min 0.0\n",
      "ps_calc_01 no: 10 max: 0.9 min 0.0\n",
      "ps_calc_02 no: 10 max: 0.9 min 0.0\n",
      "ps_calc_03 no: 10 max: 0.9 min 0.0\n",
      "ps_calc_04 no: 6 max: 5 min 0\n",
      "ps_calc_05 no: 7 max: 6 min 0\n",
      "ps_calc_06 no: 11 max: 10 min 0\n",
      "ps_calc_07 no: 10 max: 9 min 0\n",
      "ps_calc_08 no: 11 max: 12 min 2\n",
      "ps_calc_09 no: 8 max: 7 min 0\n",
      "ps_calc_10 no: 26 max: 25 min 0\n",
      "ps_calc_11 no: 20 max: 19 min 0\n",
      "ps_calc_12 no: 11 max: 10 min 0\n",
      "ps_calc_13 no: 14 max: 13 min 0\n",
      "ps_calc_14 no: 24 max: 23 min 0\n"
     ]
    }
   ],
   "source": [
    "for i in cont_ord:\n",
    "    print(i, 'no:',len(df[i].unique()), 'max:',np.max(df[i]), 'min',np.min(df[i]))"
   ]
  },
  {
   "cell_type": "markdown",
   "metadata": {
    "colab_type": "text",
    "id": "H0l8C7qGCFhG"
   },
   "source": [
    "The features which have low number of unique values are taken as ordinal and the rest as continuous"
   ]
  },
  {
   "cell_type": "code",
   "execution_count": 0,
   "metadata": {
    "colab": {},
    "colab_type": "code",
    "id": "3iGvIS8sCFhG"
   },
   "outputs": [],
   "source": [
    "cont_feat = []\n",
    "ord_feat = []\n",
    "for i in cont_ord:\n",
    "    if len(df[i].unique()) > 30:\n",
    "        cont_feat.append(i)\n",
    "    else:\n",
    "        ord_feat.append(i)"
   ]
  },
  {
   "cell_type": "markdown",
   "metadata": {
    "colab_type": "text",
    "id": "YXIc27fXCFhI"
   },
   "source": [
    "# Making inferences from different types of features"
   ]
  },
  {
   "cell_type": "code",
   "execution_count": 0,
   "metadata": {
    "colab": {
     "base_uri": "https://localhost:8080/",
     "height": 991
    },
    "colab_type": "code",
    "id": "ap6h_yD9CFhJ",
    "outputId": "6188b6cf-32c7-4976-9994-028c81fa6d47",
    "scrolled": true
   },
   "outputs": [
    {
     "name": "stdout",
     "output_type": "stream",
     "text": [
      "ps_ind_02_cat         1         2         3         4\n",
      "target                                               \n",
      "0              0.705393  0.194556  0.046122  0.018588\n",
      "1              0.025669  0.007164  0.001726  0.000782\n",
      "ps_ind_04_cat         0         1\n",
      "target                           \n",
      "0              0.562253  0.402407\n",
      "1              0.019586  0.015755\n",
      "ps_ind_05_cat         0         1         2         3         4         5  \\\n",
      "target                                                                      \n",
      "0              0.866422  0.013385  0.006444  0.013284  0.029568  0.002656   \n",
      "1              0.029816  0.000637  0.000519  0.000592  0.001583  0.000122   \n",
      "\n",
      "ps_ind_05_cat         6  \n",
      "target                   \n",
      "0              0.032899  \n",
      "1              0.002072  \n",
      "ps_car_01_cat        0         1         2        3         4         5   \\\n",
      "target                                                                     \n",
      "0              0.009993  0.002052  0.003567  0.01091  0.044016  0.027797   \n",
      "1              0.000447  0.000107  0.000153  0.00041  0.001772  0.001153   \n",
      "\n",
      "ps_car_01_cat        6         7         8         9         10        11  \n",
      "target                                                                     \n",
      "0              0.106680  0.294365  0.024674  0.030615  0.082581  0.327408  \n",
      "1              0.003246  0.008460  0.001089  0.001746  0.003108  0.013651  \n",
      "ps_car_02_cat         0         1\n",
      "target                           \n",
      "0              0.156576  0.808083\n",
      "1              0.007729  0.027612\n",
      "ps_car_04_cat         0         1         2         3         4         5  \\\n",
      "target                                                                      \n",
      "0              0.815264  0.046427  0.040968  0.001107  0.000293  0.000572   \n",
      "1              0.027586  0.002285  0.001997  0.000057  0.000007  0.000041   \n",
      "\n",
      "ps_car_04_cat         6         7         8         9  \n",
      "target                                                 \n",
      "0              0.002329  0.000218  0.032444  0.025038  \n",
      "1              0.000142  0.000024  0.001654  0.001548  \n",
      "ps_car_06_cat        0         1         2         3         4         5   \\\n",
      "target                                                                      \n",
      "0              0.180301  0.187375  0.000969  0.018842  0.053988  0.001607   \n",
      "1              0.006107  0.006372  0.000059  0.000736  0.001864  0.000107   \n",
      "\n",
      "ps_car_06_cat        6         7         8         9         10        11  \\\n",
      "target                                                                      \n",
      "0              0.030838  0.027867  0.001164  0.027021  0.058406  0.221843   \n",
      "1              0.001128  0.001129  0.000081  0.001534  0.002667  0.007077   \n",
      "\n",
      "ps_car_06_cat        12        13        14        15        16        17  \n",
      "target                                                                     \n",
      "0              0.004138  0.009523  0.094249  0.033628  0.007448  0.005452  \n",
      "1              0.000209  0.000550  0.003255  0.001775  0.000340  0.000351  \n",
      "ps_car_07_cat         0         1\n",
      "target                           \n",
      "0              0.050175  0.914484\n",
      "1              0.002696  0.032645\n",
      "ps_car_08_cat         0         1\n",
      "target                           \n",
      "0              0.141495  0.823164\n",
      "1              0.006396  0.028944\n",
      "ps_car_09_cat         0         1         2         3         4\n",
      "target                                                         \n",
      "0              0.325480  0.043535  0.568415  0.022675  0.004555\n",
      "1              0.011071  0.002526  0.020680  0.000819  0.000244\n",
      "ps_car_10_cat         0         1         2\n",
      "target                                     \n",
      "0              0.008013  0.956351  0.000295\n",
      "1              0.000273  0.035055  0.000013\n",
      "ps_car_11_cat       1         2         3         4         5         6    \\\n",
      "target                                                                      \n",
      "0              0.005699  0.002419  0.005548  0.002550  0.021594  0.004401   \n",
      "1              0.000238  0.000081  0.000299  0.000148  0.000950  0.000166   \n",
      "\n",
      "ps_car_11_cat       7         8         9         10     ...          95   \\\n",
      "target                                                   ...                \n",
      "0              0.010139  0.000871  0.003947  0.015633    ...     0.006336   \n",
      "1              0.000260  0.000039  0.000113  0.000410    ...     0.000179   \n",
      "\n",
      "ps_car_11_cat       96        97        98        99        100       101  \\\n",
      "target                                                                      \n",
      "0              0.003693  0.001168  0.005079  0.021243  0.007707  0.012863   \n",
      "1              0.000124  0.000094  0.000162  0.000504  0.000423  0.000508   \n",
      "\n",
      "ps_car_11_cat       102       103       104  \n",
      "target                                       \n",
      "0              0.001689  0.042605  0.126022  \n",
      "1              0.000057  0.001142  0.005607  \n",
      "\n",
      "[2 rows x 102 columns]\n"
     ]
    }
   ],
   "source": [
    "''' Distribution of target classes in categorical features '''\n",
    "for i in cat_feat:\n",
    "    print(pd.crosstab(df.target, df[i], normalize=True))"
   ]
  },
  {
   "cell_type": "code",
   "execution_count": 0,
   "metadata": {
    "colab": {
     "base_uri": "https://localhost:8080/",
     "height": 456
    },
    "colab_type": "code",
    "id": "hXGRWUImCFhL",
    "outputId": "529e3eb5-599a-4995-8829-d436d649191e"
   },
   "outputs": [
    {
     "data": {
      "text/plain": [
       "<matplotlib.axes._subplots.AxesSubplot at 0xa08eeb47f0>"
      ]
     },
     "execution_count": 19,
     "metadata": {
      "tags": []
     },
     "output_type": "execute_result"
    },
    {
     "data": {
      "image/png": "[encoded data removed]",
      "text/plain": [
       "<Figure size 720x432 with 2 Axes>"
      ]
     },
     "metadata": {
      "tags": []
     },
     "output_type": "display_data"
    }
   ],
   "source": [
    "'''Heatmap of categorical features'''\n",
    "plt.figure(figsize=(10,6))\n",
    "cat_cols = cat_feat + ['target']\n",
    "cat_correc = df[cat_cols].corr()\n",
    "sns.heatmap(cat_correc)"
   ]
  },
  {
   "cell_type": "code",
   "execution_count": 0,
   "metadata": {
    "colab": {
     "base_uri": "https://localhost:8080/",
     "height": 252
    },
    "colab_type": "code",
    "id": "JuTVaj0iCFhN",
    "outputId": "f1111bbb-a4ff-4443-f105-c3bdf28f8d8c"
   },
   "outputs": [
    {
     "data": {
      "text/plain": [
       "ps_ind_02_cat    0.003246\n",
       "ps_ind_04_cat    0.010724\n",
       "ps_ind_05_cat    0.032365\n",
       "ps_car_01_cat    0.015215\n",
       "ps_car_02_cat   -0.028094\n",
       "ps_car_04_cat    0.029346\n",
       "ps_car_06_cat    0.010958\n",
       "ps_car_07_cat   -0.020033\n",
       "ps_car_08_cat   -0.017847\n",
       "ps_car_09_cat    0.004878\n",
       "ps_car_10_cat    0.001275\n",
       "ps_car_11_cat    0.004822\n",
       "target           1.000000\n",
       "Name: target, dtype: float64"
      ]
     },
     "execution_count": 20,
     "metadata": {
      "tags": []
     },
     "output_type": "execute_result"
    }
   ],
   "source": [
    "cat_correc['target']"
   ]
  },
  {
   "cell_type": "markdown",
   "metadata": {
    "colab_type": "text",
    "id": "5AC4agCM03wQ"
   },
   "source": [
    "Correlation heatmap shows that the features are highly uncorrelated to  'target'. 8 categorical features have more than 1% correlation."
   ]
  },
  {
   "cell_type": "code",
   "execution_count": 0,
   "metadata": {
    "colab": {
     "base_uri": "https://localhost:8080/",
     "height": 1000
    },
    "colab_type": "code",
    "id": "6tJN06rZCFhQ",
    "outputId": "d275a924-bca0-4656-ba88-7f2acc17d7ef",
    "scrolled": true
   },
   "outputs": [
    {
     "name": "stdout",
     "output_type": "stream",
     "text": [
      "ps_ind_06_bin         0         1\n",
      "target                           \n",
      "0              0.577666  0.386993\n",
      "1              0.024192  0.011149\n",
      "ps_ind_07_bin        0         1\n",
      "target                          \n",
      "0              0.73202  0.232639\n",
      "1              0.02429  0.011051\n",
      "ps_ind_08_bin         0         1\n",
      "target                           \n",
      "0              0.803433  0.161227\n",
      "1              0.028395  0.006946\n",
      "ps_ind_09_bin         0         1\n",
      "target                           \n",
      "0              0.780859  0.183800\n",
      "1              0.029146  0.006195\n",
      "ps_ind_10_bin         0         1\n",
      "target                           \n",
      "0              0.964364  0.000295\n",
      "1              0.035324  0.000017\n",
      "ps_ind_11_bin         0         1\n",
      "target                           \n",
      "0              0.963227  0.001432\n",
      "1              0.035274  0.000066\n",
      "ps_ind_12_bin         0         1\n",
      "target                           \n",
      "0              0.956574  0.008085\n",
      "1              0.034929  0.000412\n",
      "ps_ind_13_bin         0         1\n",
      "target                           \n",
      "0              0.963856  0.000803\n",
      "1              0.035300  0.000041\n",
      "ps_ind_16_bin         0         1\n",
      "target                           \n",
      "0              0.322256  0.642404\n",
      "1              0.014218  0.021123\n",
      "ps_ind_17_bin         0         1\n",
      "target                           \n",
      "0              0.851703  0.112956\n",
      "1              0.029022  0.006319\n",
      "ps_ind_18_bin         0         1\n",
      "target                           \n",
      "0              0.817899  0.146760\n",
      "1              0.029592  0.005749\n",
      "ps_calc_15_bin         0         1\n",
      "target                            \n",
      "0               0.846360  0.118299\n",
      "1               0.031067  0.004274\n",
      "ps_calc_16_bin         0         1\n",
      "target                            \n",
      "0               0.358986  0.605673\n",
      "1               0.013094  0.022247\n",
      "ps_calc_17_bin         0         1\n",
      "target                            \n",
      "0               0.429627  0.535032\n",
      "1               0.015768  0.019573\n",
      "ps_calc_18_bin         0         1\n",
      "target                            \n",
      "0               0.687568  0.277091\n",
      "1               0.025222  0.010119\n",
      "ps_calc_19_bin         0         1\n",
      "target                            \n",
      "0               0.627538  0.337121\n",
      "1               0.023135  0.012206\n",
      "ps_calc_20_bin         0         1\n",
      "target                            \n",
      "0               0.816777  0.147882\n",
      "1               0.029995  0.005346\n"
     ]
    }
   ],
   "source": [
    "''' Distribution of target classes in binary features '''\n",
    "for i in bin_feat:\n",
    "    print(pd.crosstab(df.target, df[i], normalize=True))"
   ]
  },
  {
   "cell_type": "code",
   "execution_count": 0,
   "metadata": {
    "colab": {
     "base_uri": "https://localhost:8080/",
     "height": 460
    },
    "colab_type": "code",
    "id": "p5NMyrRKCFhS",
    "outputId": "834f4be5-8330-425b-d61e-73ed9eff8dc3"
   },
   "outputs": [
    {
     "data": {
      "text/plain": [
       "<matplotlib.axes._subplots.AxesSubplot at 0xa08f424f98>"
      ]
     },
     "execution_count": 22,
     "metadata": {
      "tags": []
     },
     "output_type": "execute_result"
    },
    {
     "data": {
      "image/png": "[encoded data removed]",
      "text/plain": [
       "<Figure size 720x432 with 2 Axes>"
      ]
     },
     "metadata": {
      "tags": []
     },
     "output_type": "display_data"
    }
   ],
   "source": [
    "'''Heatmap of binary features'''\n",
    "plt.figure(figsize=(10,6))\n",
    "bin_cols = bin_feat + ['target']\n",
    "bin_correc = df[bin_cols].corr()\n",
    "sns.heatmap(bin_correc)"
   ]
  },
  {
   "cell_type": "code",
   "execution_count": 0,
   "metadata": {
    "colab": {
     "base_uri": "https://localhost:8080/",
     "height": 336
    },
    "colab_type": "code",
    "id": "AW6SSNB9CFhU",
    "outputId": "50087d15-385e-4210-c1fe-baa0c7aa6542"
   },
   "outputs": [
    {
     "data": {
      "text/plain": [
       "ps_ind_06_bin    -0.032330\n",
       "ps_ind_07_bin     0.030763\n",
       "ps_ind_08_bin     0.014524\n",
       "ps_ind_09_bin    -0.007170\n",
       "ps_ind_10_bin     0.001714\n",
       "ps_ind_11_bin     0.001887\n",
       "ps_ind_12_bin     0.006565\n",
       "ps_ind_13_bin     0.002014\n",
       "ps_ind_16_bin    -0.026665\n",
       "ps_ind_17_bin     0.035152\n",
       "ps_ind_18_bin     0.005406\n",
       "ps_calc_15_bin   -0.000953\n",
       "ps_calc_16_bin    0.000627\n",
       "ps_calc_17_bin   -0.000295\n",
       "ps_calc_18_bin   -0.000377\n",
       "ps_calc_19_bin   -0.001585\n",
       "ps_calc_20_bin   -0.001036\n",
       "target            1.000000\n",
       "Name: target, dtype: float64"
      ]
     },
     "execution_count": 23,
     "metadata": {
      "tags": []
     },
     "output_type": "execute_result"
    }
   ],
   "source": [
    "bin_correc['target']"
   ]
  },
  {
   "cell_type": "markdown",
   "metadata": {
    "colab_type": "text",
    "id": "ydQ1ure21h7V"
   },
   "source": [
    "Binary features have low correlation with 'target'. 5 features have more than 1% correlation."
   ]
  },
  {
   "cell_type": "code",
   "execution_count": 0,
   "metadata": {
    "colab": {
     "base_uri": "https://localhost:8080/",
     "height": 445
    },
    "colab_type": "code",
    "id": "WT7qszuECFhW",
    "outputId": "b37179a5-9c22-4e8a-e144-f2c1a82c17bf",
    "scrolled": true
   },
   "outputs": [
    {
     "data": {
      "text/plain": [
       "array([<matplotlib.axes._subplots.AxesSubplot object at 0x000000A0ACDDBA58>,\n",
       "       <matplotlib.axes._subplots.AxesSubplot object at 0x000000A0ACE10438>],\n",
       "      dtype=object)"
      ]
     },
     "execution_count": 24,
     "metadata": {
      "tags": []
     },
     "output_type": "execute_result"
    },
    {
     "data": {
      "image/png": "[encoded data removed]",
      "text/plain": [
       "<Figure size 720x432 with 2 Axes>"
      ]
     },
     "metadata": {
      "tags": []
     },
     "output_type": "display_data"
    }
   ],
   "source": [
    "''' Distribution of target classes in continuous features '''\n",
    "\n",
    "df.hist(column='ps_car_12', by='target', figsize=(10,6))"
   ]
  },
  {
   "cell_type": "markdown",
   "metadata": {
    "colab_type": "text",
    "id": "Q8ehDCXA1y5y"
   },
   "source": [
    "The distribution of the feature is similar for both classes."
   ]
  },
  {
   "cell_type": "code",
   "execution_count": 0,
   "metadata": {
    "colab": {
     "base_uri": "https://localhost:8080/",
     "height": 445
    },
    "colab_type": "code",
    "id": "CRYXwQdVCFhZ",
    "outputId": "6b2859ee-3d8b-48bf-c0c6-7e533492708b"
   },
   "outputs": [
    {
     "data": {
      "text/plain": [
       "array([<matplotlib.axes._subplots.AxesSubplot object at 0x000000A0AD239710>,\n",
       "       <matplotlib.axes._subplots.AxesSubplot object at 0x000000A0ACEB8940>],\n",
       "      dtype=object)"
      ]
     },
     "execution_count": 25,
     "metadata": {
      "tags": []
     },
     "output_type": "execute_result"
    },
    {
     "data": {
      "image/png": "[encoded data removed]",
      "text/plain": [
       "<Figure size 720x432 with 2 Axes>"
      ]
     },
     "metadata": {
      "tags": []
     },
     "output_type": "display_data"
    }
   ],
   "source": [
    "df.hist(column='ps_car_13', by='target', figsize=(10,6))"
   ]
  },
  {
   "cell_type": "markdown",
   "metadata": {
    "colab_type": "text",
    "id": "GJKe3Ha62QkD"
   },
   "source": [
    "There is a slight difference in distribution of the feature in separate classes of 'target'."
   ]
  },
  {
   "cell_type": "code",
   "execution_count": 0,
   "metadata": {
    "colab": {
     "base_uri": "https://localhost:8080/",
     "height": 445
    },
    "colab_type": "code",
    "id": "MtQUY19rCFhb",
    "outputId": "6619678a-ce5a-4e42-ed7b-b9d2af4f7c95"
   },
   "outputs": [
    {
     "data": {
      "text/plain": [
       "array([<matplotlib.axes._subplots.AxesSubplot object at 0x000000A0ACF07898>,\n",
       "       <matplotlib.axes._subplots.AxesSubplot object at 0x000000A0ACF8DD30>],\n",
       "      dtype=object)"
      ]
     },
     "execution_count": 26,
     "metadata": {
      "tags": []
     },
     "output_type": "execute_result"
    },
    {
     "data": {
      "image/png": "[encoded data removed]",
      "text/plain": [
       "<Figure size 720x432 with 2 Axes>"
      ]
     },
     "metadata": {
      "tags": []
     },
     "output_type": "display_data"
    }
   ],
   "source": [
    "df.hist(column='ps_car_14', by='target', figsize=(10,6))"
   ]
  },
  {
   "cell_type": "markdown",
   "metadata": {
    "colab_type": "text",
    "id": "ONqzEdKh2gNK"
   },
   "source": [
    "The distribution of the feature is similar for both classes."
   ]
  },
  {
   "cell_type": "code",
   "execution_count": 0,
   "metadata": {
    "colab": {
     "base_uri": "https://localhost:8080/",
     "height": 396
    },
    "colab_type": "code",
    "id": "wa8xXlxbCFhd",
    "outputId": "473bab14-fb61-4a1a-f94f-b52c3890ffb5",
    "scrolled": true
   },
   "outputs": [
    {
     "data": {
      "text/plain": [
       "<matplotlib.axes._subplots.AxesSubplot at 0xa0acddb048>"
      ]
     },
     "execution_count": 27,
     "metadata": {
      "tags": []
     },
     "output_type": "execute_result"
    },
    {
     "data": {
      "image/png": "[encoded data removed]",
      "text/plain": [
       "<Figure size 720x432 with 2 Axes>"
      ]
     },
     "metadata": {
      "tags": []
     },
     "output_type": "display_data"
    }
   ],
   "source": [
    "'''Heatmap of continuous features'''\n",
    "plt.figure(figsize=(10,6))\n",
    "cont_cols = cont_feat + ['target']\n",
    "cont_correc = df[cont_cols].corr()\n",
    "sns.heatmap(cont_correc)"
   ]
  },
  {
   "cell_type": "code",
   "execution_count": 0,
   "metadata": {
    "colab": {
     "base_uri": "https://localhost:8080/",
     "height": 101
    },
    "colab_type": "code",
    "id": "U98KlG_lCFhf",
    "outputId": "3bb79bee-5e74-4a2b-ad85-560af6f9c5f6"
   },
   "outputs": [
    {
     "data": {
      "text/plain": [
       "ps_car_12    0.036174\n",
       "ps_car_13    0.051562\n",
       "ps_car_14    0.012779\n",
       "target       1.000000\n",
       "Name: target, dtype: float64"
      ]
     },
     "execution_count": 28,
     "metadata": {
      "tags": []
     },
     "output_type": "execute_result"
    }
   ],
   "source": [
    "cont_correc['target']"
   ]
  },
  {
   "cell_type": "code",
   "execution_count": 0,
   "metadata": {
    "colab": {
     "base_uri": "https://localhost:8080/",
     "height": 1000
    },
    "colab_type": "code",
    "id": "pYMQFsUGCFhh",
    "outputId": "dce6d65b-e63d-4b0f-e9fe-df5f9202f1f2"
   },
   "outputs": [
    {
     "name": "stdout",
     "output_type": "stream",
     "text": [
      "ps_ind_01         0         1         2         3         4         5  \\\n",
      "target                                                                  \n",
      "0          0.296286  0.237838  0.136658  0.083868  0.054314  0.098423   \n",
      "1          0.009728  0.008068  0.005038  0.003501  0.002499  0.004003   \n",
      "\n",
      "ps_ind_01         6         7  \n",
      "target                         \n",
      "0          0.028974  0.028299  \n",
      "1          0.001284  0.001220  \n",
      "ps_ind_03        0         1         2         3         4         5   \\\n",
      "target                                                                  \n",
      "0          0.018615  0.108885  0.158754  0.135050  0.110077  0.102315   \n",
      "1          0.001028  0.004082  0.004867  0.004056  0.003709  0.003994   \n",
      "\n",
      "ps_ind_03        6         7         8         9         10        11  \n",
      "target                                                                 \n",
      "0          0.098015  0.085054  0.064671  0.041556  0.023493  0.018172  \n",
      "1          0.004180  0.003630  0.002558  0.001513  0.000960  0.000764  \n",
      "ps_ind_14         0         1         2         3         4\n",
      "target                                                     \n",
      "0          0.955509  0.007878  0.001083  0.000183  0.000006\n",
      "1          0.034892  0.000380  0.000052  0.000015  0.000002\n",
      "ps_ind_15        0         1         2         3         4         5   \\\n",
      "target                                                                  \n",
      "0          0.051550  0.018494  0.029550  0.052151  0.067489  0.068940   \n",
      "1          0.002264  0.000854  0.001364  0.002030  0.002687  0.002702   \n",
      "\n",
      "ps_ind_15        6         7         8         9         10        11  \\\n",
      "target                                                                  \n",
      "0          0.093771  0.103729  0.096018  0.074323  0.088780  0.087865   \n",
      "1          0.003774  0.004027  0.003477  0.002323  0.003034  0.002696   \n",
      "\n",
      "ps_ind_15        12        13  \n",
      "target                         \n",
      "0          0.074035  0.057965  \n",
      "1          0.002288  0.001820  \n",
      "ps_reg_01       0.0       0.1       0.2       0.3       0.4       0.5  \\\n",
      "target                                                                  \n",
      "0          0.034597  0.071156  0.041350  0.065367  0.087179  0.052995   \n",
      "1          0.001316  0.001716  0.001146  0.002108  0.003063  0.001648   \n",
      "\n",
      "ps_reg_01       0.6       0.7       0.8       0.9  \n",
      "target                                             \n",
      "0          0.091654  0.110182  0.096563  0.313617  \n",
      "1          0.003368  0.004276  0.003754  0.012946  \n",
      "ps_reg_02       0.0       0.1       0.2       0.3       0.4       0.5  \\\n",
      "target                                                                  \n",
      "0          0.144702  0.052113  0.189529  0.156264  0.097641  0.059338   \n",
      "1          0.004903  0.001279  0.005557  0.005361  0.003613  0.002353   \n",
      "\n",
      "ps_reg_02       0.6       0.7       0.8       0.9       1.0       1.1  \\\n",
      "target                                                                  \n",
      "0          0.053884  0.033894  0.031698  0.026553  0.020071  0.017879   \n",
      "1          0.002335  0.001452  0.001401  0.001266  0.000860  0.000832   \n",
      "\n",
      "ps_reg_02       1.2       1.3       1.4       1.5       1.6       1.7  \\\n",
      "target                                                                  \n",
      "0          0.024713  0.018370  0.010658  0.009067  0.007646  0.003783   \n",
      "1          0.001216  0.000921  0.000522  0.000406  0.000448  0.000192   \n",
      "\n",
      "ps_reg_02       1.8  \n",
      "target               \n",
      "0          0.006858  \n",
      "1          0.000423  \n",
      "ps_car_11         0         1         2         3\n",
      "target                                           \n",
      "0          0.044183  0.103819  0.304775  0.511882\n",
      "1          0.002148  0.002814  0.011903  0.018475\n",
      "ps_car_15  0.000000  1.000000  1.414214  1.732051  2.000000  2.236068  \\\n",
      "target                                                                  \n",
      "0          0.020452  0.011355  0.011023  0.017934  0.021328  0.032929   \n",
      "1          0.000456  0.000282  0.000257  0.000432  0.000581  0.000932   \n",
      "\n",
      "ps_car_15  2.449490  2.645751  2.828427  3.000000  3.162278  3.316625  \\\n",
      "target                                                                  \n",
      "0          0.034996  0.052530  0.083942  0.082832  0.108880  0.117559   \n",
      "1          0.001041  0.001583  0.002733  0.002896  0.004014  0.004582   \n",
      "\n",
      "ps_car_15  3.464102  3.605551  3.741657  \n",
      "target                                   \n",
      "0          0.125421  0.160326  0.083154  \n",
      "1          0.005029  0.007125  0.003398  \n",
      "ps_calc_01       0.0       0.1       0.2       0.3       0.4       0.5  \\\n",
      "target                                                                   \n",
      "0           0.096803  0.096504  0.096655  0.096507  0.096053  0.096526   \n",
      "1           0.003514  0.003403  0.003514  0.003591  0.003532  0.003665   \n",
      "\n",
      "ps_calc_01       0.6       0.7       0.8       0.9  \n",
      "target                                              \n",
      "0           0.096961  0.096262  0.096651  0.095736  \n",
      "1           0.003444  0.003619  0.003466  0.003593  \n",
      "ps_calc_02       0.0       0.1       0.2       0.3       0.4       0.5  \\\n",
      "target                                                                   \n",
      "0           0.096734  0.096301  0.096218  0.096513  0.096950  0.097401   \n",
      "1           0.003422  0.003482  0.003525  0.003517  0.003669  0.003527   \n",
      "\n",
      "ps_calc_02      0.6       0.7       0.8       0.9  \n",
      "target                                             \n",
      "0           0.09640  0.096382  0.095646  0.096114  \n",
      "1           0.00368  0.003505  0.003534  0.003481  \n",
      "ps_calc_03       0.0       0.1       0.2       0.3       0.4       0.5  \\\n",
      "target                                                                   \n",
      "0           0.096247  0.097347  0.095808  0.096847  0.096107  0.096906   \n",
      "1           0.003420  0.003516  0.003508  0.003632  0.003541  0.003578   \n",
      "\n",
      "ps_calc_03       0.6       0.7       0.8       0.9  \n",
      "target                                              \n",
      "0           0.096598  0.096173  0.096292  0.096334  \n",
      "1           0.003466  0.003505  0.003606  0.003569  \n",
      "ps_calc_04         0         1         2         3         4         5\n",
      "target                                                                \n",
      "0           0.038768  0.174986  0.314621  0.284337  0.129027  0.022921\n",
      "1           0.001419  0.006487  0.011623  0.010270  0.004662  0.000880\n",
      "ps_calc_05         0         1         2         3         4         5  \\\n",
      "target                                                                   \n",
      "0           0.099368  0.276731  0.316638  0.193126  0.065664  0.012241   \n",
      "1           0.003610  0.010178  0.011684  0.006937  0.002410  0.000484   \n",
      "\n",
      "ps_calc_05         6  \n",
      "target                \n",
      "0           0.000891  \n",
      "1           0.000039  \n",
      "ps_calc_06        0         1         2         3         4         5   \\\n",
      "target                                                                   \n",
      "0           0.000002  0.000011  0.000221  0.001973  0.010787  0.043123   \n",
      "1           0.000000  0.000000  0.000004  0.000063  0.000413  0.001543   \n",
      "\n",
      "ps_calc_06        6         7         8         9         10  \n",
      "target                                                        \n",
      "0           0.119227  0.226514  0.283521  0.209395  0.069885  \n",
      "1           0.004322  0.008255  0.010552  0.007662  0.002526  \n",
      "ps_calc_07         0         1         2         3         4         5  \\\n",
      "target                                                                   \n",
      "0           0.024768  0.112299  0.225359  0.263536  0.197660  0.100136   \n",
      "1           0.000908  0.004206  0.008266  0.009528  0.007306  0.003543   \n",
      "\n",
      "ps_calc_07         6         7         8         9  \n",
      "target                                              \n",
      "0           0.032944  0.007026  0.000895  0.000037  \n",
      "1           0.001266  0.000292  0.000024  0.000002  \n",
      "ps_calc_08        2         3         4         5         6         7   \\\n",
      "target                                                                   \n",
      "0           0.000018  0.000140  0.001362  0.007251  0.027874  0.080278   \n",
      "1           0.000000  0.000006  0.000050  0.000271  0.001056  0.002886   \n",
      "\n",
      "ps_calc_08        8         9         10        11        12  \n",
      "target                                                        \n",
      "0           0.166613  0.246050  0.245227  0.148638  0.041206  \n",
      "1           0.006240  0.008995  0.008873  0.005505  0.001460  \n",
      "ps_calc_09         0         1         2         3         4         5  \\\n",
      "target                                                                   \n",
      "0           0.056115  0.196800  0.295893  0.247582  0.124477  0.037260   \n",
      "1           0.002089  0.007063  0.010949  0.009113  0.004601  0.001288   \n",
      "\n",
      "ps_calc_09         6         7  \n",
      "target                          \n",
      "0           0.006116  0.000415  \n",
      "1           0.000225  0.000013  \n",
      "ps_calc_10        0         1         2         3         4         5   \\\n",
      "target                                                                   \n",
      "0           0.000231  0.001809  0.007445  0.021029  0.044234  0.074958   \n",
      "1           0.000009  0.000063  0.000249  0.000760  0.001572  0.002750   \n",
      "\n",
      "ps_calc_10        6         7         8         9     ...           16  \\\n",
      "target                                                ...                \n",
      "0           0.104866  0.126424  0.133146  0.124173    ...     0.006686   \n",
      "1           0.003778  0.004717  0.004771  0.004745    ...     0.000229   \n",
      "\n",
      "ps_calc_10        17        18        19        20        21        22  \\\n",
      "target                                                                   \n",
      "0           0.003314  0.001495  0.000659  0.000271  0.000111  0.000052   \n",
      "1           0.000109  0.000059  0.000031  0.000013  0.000004  0.000002   \n",
      "\n",
      "ps_calc_10        23        24        25  \n",
      "target                                    \n",
      "0           0.000018  0.000002  0.000002  \n",
      "1           0.000000  0.000000  0.000000  \n",
      "\n",
      "[2 rows x 26 columns]\n",
      "ps_calc_11        0         1         2         3         4         5   \\\n",
      "target                                                                   \n",
      "0           0.004012  0.022576  0.062183  0.112336  0.152067  0.166636   \n",
      "1           0.000153  0.000864  0.002261  0.004294  0.005535  0.005913   \n",
      "\n",
      "ps_calc_11        6         7         8         9         10        11  \\\n",
      "target                                                                   \n",
      "0           0.150827  0.117059  0.079538  0.048468  0.026341  0.012769   \n",
      "1           0.005536  0.004141  0.003082  0.001737  0.000967  0.000487   \n",
      "\n",
      "ps_calc_11        12        13        14        15        16        17  \\\n",
      "target                                                                   \n",
      "0           0.005789  0.002560  0.001019  0.000310  0.000109  0.000041   \n",
      "1           0.000216  0.000085  0.000052  0.000015  0.000004  0.000000   \n",
      "\n",
      "ps_calc_11        18        19  \n",
      "target                          \n",
      "0           0.000018  0.000002  \n",
      "1           0.000000  0.000000  \n"
     ]
    },
    {
     "name": "stdout",
     "output_type": "stream",
     "text": [
      "ps_calc_12        0         1         2         3         4         5   \\\n",
      "target                                                                   \n",
      "0           0.228586  0.329422  0.235477  0.114021  0.041815  0.011793   \n",
      "1           0.008449  0.012044  0.008646  0.004115  0.001524  0.000441   \n",
      "\n",
      "ps_calc_12        6         7         8         9         10  \n",
      "target                                                        \n",
      "0           0.002794  0.000622  0.000105  0.000018  0.000006  \n",
      "1           0.000102  0.000015  0.000006  0.000000  0.000000  \n",
      "ps_calc_13        0         1         2         3         4         5   \\\n",
      "target                                                                   \n",
      "0           0.054364  0.156755  0.225922  0.214662  0.155063  0.088387   \n",
      "1           0.002061  0.005686  0.008231  0.007860  0.005765  0.003246   \n",
      "\n",
      "ps_calc_13        6         7        8         9         10        11  \\\n",
      "target                                                                  \n",
      "0           0.042717  0.017894  0.00626  0.001884  0.000576  0.000137   \n",
      "1           0.001547  0.000624  0.00024  0.000059  0.000017  0.000004   \n",
      "\n",
      "ps_calc_13        12        13  \n",
      "target                          \n",
      "0           0.000033  0.000006  \n",
      "1           0.000000  0.000002  \n",
      "ps_calc_14        0         1         2         3         4         5   \\\n",
      "target                                                                   \n",
      "0           0.000491  0.003894  0.014531  0.037103  0.069043  0.103662   \n",
      "1           0.000018  0.000144  0.000520  0.001277  0.002519  0.003914   \n",
      "\n",
      "ps_calc_14        6         7         8         9     ...           14  \\\n",
      "target                                                ...                \n",
      "0           0.131112  0.140526  0.133483  0.110906    ...     0.011150   \n",
      "1           0.004857  0.005149  0.004780  0.004102    ...     0.000432   \n",
      "\n",
      "ps_calc_14        15        16        17        18        19        20  \\\n",
      "target                                                                   \n",
      "0           0.005754  0.002694  0.001185  0.000496  0.000209  0.000081   \n",
      "1           0.000227  0.000113  0.000044  0.000017  0.000015  0.000002   \n",
      "\n",
      "ps_calc_14        21        22        23  \n",
      "target                                    \n",
      "0           0.000033  0.000007  0.000002  \n",
      "1           0.000000  0.000000  0.000000  \n",
      "\n",
      "[2 rows x 24 columns]\n"
     ]
    }
   ],
   "source": [
    "''' Distribution of target classes in ordinal features '''\n",
    "for i in ord_feat:\n",
    "    print(pd.crosstab(df.target, df[i], normalize=True))"
   ]
  },
  {
   "cell_type": "code",
   "execution_count": 0,
   "metadata": {
    "colab": {
     "base_uri": "https://localhost:8080/",
     "height": 439
    },
    "colab_type": "code",
    "id": "GOwY-IWpCFhk",
    "outputId": "0069c655-3b29-4301-dce1-a41fe6b789dc"
   },
   "outputs": [
    {
     "data": {
      "text/plain": [
       "<matplotlib.axes._subplots.AxesSubplot at 0xa0ad2b9630>"
      ]
     },
     "execution_count": 30,
     "metadata": {
      "tags": []
     },
     "output_type": "execute_result"
    },
    {
     "data": {
      "image/png": "[encoded data removed]",
      "text/plain": [
       "<Figure size 720x432 with 2 Axes>"
      ]
     },
     "metadata": {
      "tags": []
     },
     "output_type": "display_data"
    }
   ],
   "source": [
    "'''Heatmap of ordinal features'''\n",
    "plt.figure(figsize=(10,6))\n",
    "ord_cols = ord_feat + ['target']\n",
    "ord_correc = df[ord_cols].corr()\n",
    "sns.heatmap(ord_correc)"
   ]
  },
  {
   "cell_type": "code",
   "execution_count": 0,
   "metadata": {
    "colab": {
     "base_uri": "https://localhost:8080/",
     "height": 420
    },
    "colab_type": "code",
    "id": "7vmconA8CFhm",
    "outputId": "4fadc4e3-3342-4582-bb3d-a1dc31dd1cc5"
   },
   "outputs": [
    {
     "data": {
      "text/plain": [
       "ps_ind_01     0.019374\n",
       "ps_ind_03     0.011852\n",
       "ps_ind_14     0.006332\n",
       "ps_ind_15    -0.021228\n",
       "ps_reg_01     0.021986\n",
       "ps_reg_02     0.032086\n",
       "ps_car_11    -0.002153\n",
       "ps_car_15     0.027230\n",
       "ps_calc_01    0.001536\n",
       "ps_calc_02    0.001343\n",
       "ps_calc_03    0.001521\n",
       "ps_calc_04   -0.001073\n",
       "ps_calc_05    0.000103\n",
       "ps_calc_06    0.000684\n",
       "ps_calc_07   -0.000397\n",
       "ps_calc_08   -0.001040\n",
       "ps_calc_09   -0.000140\n",
       "ps_calc_10    0.001033\n",
       "ps_calc_11   -0.000376\n",
       "ps_calc_12   -0.000925\n",
       "ps_calc_13   -0.000539\n",
       "ps_calc_14    0.000632\n",
       "target        1.000000\n",
       "Name: target, dtype: float64"
      ]
     },
     "execution_count": 31,
     "metadata": {
      "tags": []
     },
     "output_type": "execute_result"
    }
   ],
   "source": [
    "ord_correc['target']"
   ]
  },
  {
   "cell_type": "markdown",
   "metadata": {
    "colab_type": "text",
    "id": "rKtLGb0U3Etr"
   },
   "source": [
    "Correation is wrt to target is low. 6 features have more than 1% correlation."
   ]
  },
  {
   "cell_type": "markdown",
   "metadata": {
    "colab_type": "text",
    "id": "SQ1V54YACFhp"
   },
   "source": [
    "# Outlier detection using z-score\n",
    "<br>\n",
    "Outliers could affect the model parameters and make the model skewed. Therefore outliers are detected using z-score with a threshold of 3, and removed."
   ]
  },
  {
   "cell_type": "code",
   "execution_count": 0,
   "metadata": {
    "colab": {
     "base_uri": "https://localhost:8080/",
     "height": 34
    },
    "colab_type": "code",
    "id": "IzouDNpuCFhp",
    "outputId": "88d7b531-7d81-4c78-f3c7-aeb83bb0d56a"
   },
   "outputs": [
    {
     "name": "stdout",
     "output_type": "stream",
     "text": [
      "No of rows containing outliers : 18678\n"
     ]
    }
   ],
   "source": [
    "df.reset_index(drop=True, inplace=True)\n",
    "z = np.abs(stats.zscore(df[cont_feat]))\n",
    "threshold = 3\n",
    "outlier_row = list(np.unique(np.where(z>threshold)[0]))\n",
    "print(\"No of rows containing outliers : {}\".format(len(outlier_row)))"
   ]
  },
  {
   "cell_type": "code",
   "execution_count": 0,
   "metadata": {
    "colab": {
     "base_uri": "https://localhost:8080/",
     "height": 218
    },
    "colab_type": "code",
    "id": "4pl6J0boCFhr",
    "outputId": "d747bc13-33d7-4934-9a88-cd77dc540f66"
   },
   "outputs": [
    {
     "name": "stdout",
     "output_type": "stream",
     "text": [
      "0    17582\n",
      "1     1096\n",
      "Name: target, dtype: int64\n",
      "0    0.941321\n",
      "1    0.058679\n",
      "Name: target, dtype: float64\n",
      "0    522715\n",
      "1     19150\n",
      "Name: target, dtype: int64\n",
      "0    0.964659\n",
      "1    0.035341\n",
      "Name: target, dtype: float64\n"
     ]
    }
   ],
   "source": [
    "print(df.loc[outlier_row, 'target'].value_counts())\n",
    "print(df.loc[outlier_row, 'target'].value_counts()/len(outlier_row))\n",
    "print(df.target.value_counts())\n",
    "print(df.target.value_counts()/len(df))"
   ]
  },
  {
   "cell_type": "code",
   "execution_count": 0,
   "metadata": {
    "colab": {},
    "colab_type": "code",
    "id": "Cfx2BnHVCFhu"
   },
   "outputs": [],
   "source": [
    "df = df.drop(outlier_row, axis=0) # deleting outliers\n",
    "df.reset_index(drop=True, inplace=True)"
   ]
  },
  {
   "cell_type": "code",
   "execution_count": 0,
   "metadata": {
    "colab": {
     "base_uri": "https://localhost:8080/",
     "height": 34
    },
    "colab_type": "code",
    "id": "8iH4pZGNCFhw",
    "outputId": "2442057d-a69a-4807-fbc5-d8d129f9cb43"
   },
   "outputs": [
    {
     "data": {
      "text/plain": [
       "(523187, 55)"
      ]
     },
     "execution_count": 35,
     "metadata": {
      "tags": []
     },
     "output_type": "execute_result"
    }
   ],
   "source": [
    "df.shape"
   ]
  },
  {
   "cell_type": "markdown",
   "metadata": {
    "colab_type": "text",
    "id": "RXetoKnfCFh1"
   },
   "source": [
    "# Using SMOTE to oversample minority class"
   ]
  },
  {
   "cell_type": "code",
   "execution_count": 0,
   "metadata": {
    "colab": {},
    "colab_type": "code",
    "id": "oTsNFtuNCFh1"
   },
   "outputs": [],
   "source": [
    "oversample = SMOTE(random_state=23, sampling_strategy=12/88.0)\n",
    "x_old = df[cont_feat + ord_feat + cat_feat + bin_feat]\n",
    "y_old = df['target']\n",
    "\n",
    "X, y = oversample.fit_resample(x_old, y_old)"
   ]
  },
  {
   "cell_type": "code",
   "execution_count": 0,
   "metadata": {
    "colab": {
     "base_uri": "https://localhost:8080/",
     "height": 67
    },
    "colab_type": "code",
    "id": "tQ5SNWAzDdb_",
    "outputId": "0693b1ed-257b-4613-ced0-6eba1b3b993a"
   },
   "outputs": [
    {
     "name": "stdout",
     "output_type": "stream",
     "text": [
      "{0: 505133, 1: 68881}\n",
      "No of training recordss : 574014\n",
      "Percentage of minority class : 0.12\n"
     ]
    }
   ],
   "source": [
    "count = dict(Counter(y))\n",
    "print(count)\n",
    "print(\"No of training recordss : {}\".format(len(y)))\n",
    "print(\"Percentage of minority class : {}\".format(np.round(count[1]/(count[1]+count[0]), 2)))"
   ]
  },
  {
   "cell_type": "markdown",
   "metadata": {
    "colab_type": "text",
    "id": "IWcz2bPDFS0A"
   },
   "source": [
    "Number of training records increased to 574k when increasing minority class to 12%. In order to have a balanced dataset, more over sampling is done to further increase minority class count."
   ]
  },
  {
   "cell_type": "code",
   "execution_count": 0,
   "metadata": {
    "colab": {},
    "colab_type": "code",
    "id": "RaKdJbdwFxl2"
   },
   "outputs": [],
   "source": [
    "oversample = SMOTE(random_state=23)\n",
    "\n",
    "X, y = oversample.fit_resample(X, y)"
   ]
  },
  {
   "cell_type": "code",
   "execution_count": 0,
   "metadata": {
    "colab": {
     "base_uri": "https://localhost:8080/",
     "height": 67
    },
    "colab_type": "code",
    "id": "HdIQFKAQF_6B",
    "outputId": "a6b023d8-0b14-45f0-da00-e52452877c22"
   },
   "outputs": [
    {
     "name": "stdout",
     "output_type": "stream",
     "text": [
      "{0: 505133, 1: 505133}\n",
      "No of training recordss : 1010266\n",
      "Percentage of minority class : 0.5\n"
     ]
    }
   ],
   "source": [
    "count = dict(Counter(y))\n",
    "print(count)\n",
    "print(\"No of training recordss : {}\".format(len(y)))\n",
    "print(\"Percentage of minority class : {}\".format(np.round(count[1]/(count[1]+count[0]), 2)))"
   ]
  },
  {
   "cell_type": "code",
   "execution_count": 0,
   "metadata": {
    "colab": {},
    "colab_type": "code",
    "id": "G8b2ceh4GddN"
   },
   "outputs": [],
   "source": [
    "del df #deleting to free space"
   ]
  },
  {
   "cell_type": "code",
   "execution_count": 0,
   "metadata": {
    "colab": {
     "base_uri": "https://localhost:8080/",
     "height": 151
    },
    "colab_type": "code",
    "id": "Kl1PluGAG_y_",
    "outputId": "0d07bea3-dc99-40cd-e42a-a435f62f3022"
   },
   "outputs": [
    {
     "name": "stdout",
     "output_type": "stream",
     "text": [
      "   ps_car_12  ps_car_13  ps_car_14  ps_ind_01  ps_ind_03  ps_ind_14  \\\n",
      "0   0.400000   0.883679   0.370810          2          5          0   \n",
      "1   0.316228   0.618817   0.388716          1          7          0   \n",
      "2   0.316228   0.641586   0.347275          5          9          0   \n",
      "3   0.374166   0.542949   0.294958          0          2          0   \n",
      "4   0.316070   0.565832   0.365103          0          0          0   \n",
      "\n",
      "   ps_ind_15  ps_reg_01  ps_reg_02  ps_car_11       ...        ps_ind_13_bin  \\\n",
      "0         11        0.7        0.2          2       ...                    0   \n",
      "1          3        0.8        0.4          3       ...                    0   \n",
      "2         12        0.0        0.0          1       ...                    0   \n",
      "3          8        0.9        0.2          1       ...                    0   \n",
      "4          9        0.7        0.6          3       ...                    0   \n",
      "\n",
      "   ps_ind_16_bin  ps_ind_17_bin  ps_ind_18_bin  ps_calc_15_bin  \\\n",
      "0              0              1              0               0   \n",
      "1              0              0              1               0   \n",
      "2              1              0              0               0   \n",
      "3              1              0              0               0   \n",
      "4              1              0              0               0   \n",
      "\n",
      "   ps_calc_16_bin  ps_calc_17_bin  ps_calc_18_bin  ps_calc_19_bin  \\\n",
      "0               1               1               0               0   \n",
      "1               1               1               0               1   \n",
      "2               1               1               0               1   \n",
      "3               0               0               0               0   \n",
      "4               0               0               1               1   \n",
      "\n",
      "   ps_calc_20_bin  \n",
      "0               1  \n",
      "1               0  \n",
      "2               0  \n",
      "3               0  \n",
      "4               0  \n",
      "\n",
      "[5 rows x 54 columns]\n"
     ]
    }
   ],
   "source": [
    "X = pd.DataFrame(X, columns=cont_feat + ord_feat + cat_feat + bin_feat)\n",
    "print(X.head())"
   ]
  },
  {
   "cell_type": "code",
   "execution_count": 0,
   "metadata": {
    "colab": {},
    "colab_type": "code",
    "id": "agenfYTM8LZ7"
   },
   "outputs": [],
   "source": [
    "#X.to_pickle('feat_auto.pkl') \n",
    "#np.save('target_auto.npy', y) "
   ]
  },
  {
   "cell_type": "markdown",
   "metadata": {
    "colab_type": "text",
    "id": "sKaTwDcGCFh4"
   },
   "source": [
    "# One hot encoding categorical/binary data and scaling continuous/ordinal data.\n",
    "\n"
   ]
  },
  {
   "cell_type": "code",
   "execution_count": 0,
   "metadata": {
    "colab": {},
    "colab_type": "code",
    "id": "_EuSMR70CFh4"
   },
   "outputs": [],
   "source": [
    "def ohe(data, col):\n",
    "  '''One hot encoding'''\n",
    "  return pd.get_dummies(data, columns=col, drop_first=True)\n",
    "\n",
    "def std_scaler(data, columns):\n",
    "  '''Standard Scaler'''\n",
    "  for i in columns:\n",
    "    mu = np.mean(data[i])\n",
    "    sigma = np.std(data[i])\n",
    "    data[i] = (data[i] - mu)/sigma\n",
    "  return data\n",
    "\n",
    "def min_max(data, columns):\n",
    "  '''Min-Max Scaler'''\n",
    "  for i in columns:\n",
    "    min = np.min(data[i])\n",
    "    max = np.max(data[i])\n",
    "    data[i] = (data[i]-min)/(max-min)\n",
    "  return data"
   ]
  },
  {
   "cell_type": "markdown",
   "metadata": {
    "colab_type": "text",
    "id": "GVsJTzzmJxsD"
   },
   "source": [
    "One hot encoding is applied to categorical and binary variables.<br>\n",
    "Standard scaler is used on continuous variables.<br>\n",
    "Min-Max scaler is used on ordinal variables."
   ]
  },
  {
   "cell_type": "code",
   "execution_count": 0,
   "metadata": {
    "colab": {},
    "colab_type": "code",
    "id": "zp29WPgdJv4H"
   },
   "outputs": [],
   "source": [
    "X = ohe(X, cat_feat+bin_feat)\n",
    "X = std_scaler(X, cont_feat)\n",
    "X = min_max(X, ord_feat)b"
   ]
  },
  {
   "cell_type": "code",
   "execution_count": 0,
   "metadata": {
    "colab": {},
    "colab_type": "code",
    "id": "S25AvkL5PM3F"
   },
   "outputs": [],
   "source": [
    "X.to_pickle('features.pkl')"
   ]
  },
  {
   "cell_type": "code",
   "execution_count": 0,
   "metadata": {
    "colab": {},
    "colab_type": "code",
    "id": "MrGz2AsDPM3I",
    "outputId": "c6b153dc-3d58-4d0d-f70f-b65c8506421b"
   },
   "outputs": [
    {
     "name": "stdout",
     "output_type": "stream",
     "text": [
      "(1010266, 201) 1010266\n"
     ]
    }
   ],
   "source": [
    "#del X\n",
    "features = pd.read_pickle('features.pkl')\n",
    "target = np.load('target_auto.npy')\n",
    "print(features.shape, len(target))"
   ]
  },
  {
   "cell_type": "markdown",
   "metadata": {
    "colab_type": "text",
    "id": "xfttHvHZPM3L"
   },
   "source": [
    "# Feature Selection and Dimensionality  reduction \n",
    "\n",
    "* Feature selection is the process of selecting a subset of relevant features for use in model construction.\n",
    "* Dimensional reduction transforms features to lower dimension."
   ]
  },
  {
   "cell_type": "code",
   "execution_count": 0,
   "metadata": {
    "colab": {},
    "colab_type": "code",
    "id": "JyAFjSWyPM3M"
   },
   "outputs": [],
   "source": [
    "\"\"\"Feature selection using RandomForestClassifier\"\"\"\n",
    "\n",
    "rfc = RandomForestClassifier(n_estimators=100)\n",
    "select_model = SelectFromModel(rfc)\n",
    "fit = select_model.fit(features, target)\n",
    "model_features = fit.transform(features)"
   ]
  },
  {
   "cell_type": "code",
   "execution_count": 0,
   "metadata": {
    "colab": {},
    "colab_type": "code",
    "id": "l94NEFUlPM3Q",
    "outputId": "0f9cd42d-d59f-47d0-eea1-b50d11efcc40",
    "scrolled": true
   },
   "outputs": [
    {
     "data": {
      "text/plain": [
       "array([ True,  True,  True,  True,  True, False,  True,  True,  True,\n",
       "        True,  True,  True,  True,  True,  True,  True,  True,  True,\n",
       "        True,  True,  True,  True,  True,  True,  True, False, False,\n",
       "       False,  True, False, False, False, False, False, False, False,\n",
       "       False, False, False, False, False, False, False, False, False,\n",
       "       False,  True, False, False, False, False, False, False, False,\n",
       "       False, False, False, False, False, False, False, False, False,\n",
       "       False, False, False, False, False, False, False, False, False,\n",
       "       False,  True,  True,  True,  True, False, False, False, False,\n",
       "       False, False, False, False, False, False, False, False, False,\n",
       "       False, False, False, False, False, False, False, False, False,\n",
       "       False, False, False, False, False, False, False, False, False,\n",
       "       False, False, False, False, False, False, False, False, False,\n",
       "       False, False, False, False, False, False, False, False, False,\n",
       "       False, False, False, False, False, False, False, False, False,\n",
       "       False, False, False, False, False, False, False, False, False,\n",
       "       False, False, False, False, False, False, False, False, False,\n",
       "       False, False, False, False, False, False, False, False, False,\n",
       "       False, False, False, False, False, False, False, False, False,\n",
       "       False, False, False, False, False, False, False, False, False,\n",
       "       False, False, False, False,  True,  True,  True,  True, False,\n",
       "       False, False, False,  True,  True,  True,  True,  True,  True,\n",
       "        True,  True,  True])"
      ]
     },
     "execution_count": 6,
     "metadata": {
      "tags": []
     },
     "output_type": "execute_result"
    }
   ],
   "source": [
    "fit.get_support()"
   ]
  },
  {
   "cell_type": "code",
   "execution_count": 0,
   "metadata": {
    "colab": {},
    "colab_type": "code",
    "id": "yn2g84erPM3U",
    "outputId": "69374b10-2400-4a8c-c4f4-c350607cd5bb"
   },
   "outputs": [
    {
     "name": "stdout",
     "output_type": "stream",
     "text": [
      "['ps_car_12', 'ps_car_13', 'ps_car_14', 'ps_ind_01', 'ps_ind_03', 'ps_ind_15', 'ps_reg_01', 'ps_reg_02', 'ps_car_11', 'ps_car_15', 'ps_calc_01', 'ps_calc_02', 'ps_calc_03', 'ps_calc_04', 'ps_calc_05', 'ps_calc_06', 'ps_calc_07', 'ps_calc_08', 'ps_calc_09', 'ps_calc_10', 'ps_calc_11', 'ps_calc_12', 'ps_calc_13', 'ps_calc_14', 'ps_ind_04_cat_1', 'ps_car_02_cat_1', 'ps_car_07_cat_1', 'ps_car_08_cat_1', 'ps_car_09_cat_1', 'ps_car_09_cat_2', 'ps_ind_06_bin_1', 'ps_ind_07_bin_1', 'ps_ind_08_bin_1', 'ps_ind_09_bin_1', 'ps_ind_16_bin_1', 'ps_ind_17_bin_1', 'ps_ind_18_bin_1', 'ps_calc_15_bin_1', 'ps_calc_16_bin_1', 'ps_calc_17_bin_1', 'ps_calc_18_bin_1', 'ps_calc_19_bin_1', 'ps_calc_20_bin_1']\n"
     ]
    }
   ],
   "source": [
    "selected_features = []\n",
    "for i in range(len(fit.get_support())):\n",
    "    if fit.get_support()[i]:\n",
    "        selected_features.append(features.columns[i])\n",
    "print(selected_features)"
   ]
  },
  {
   "cell_type": "code",
   "execution_count": 0,
   "metadata": {
    "colab": {},
    "colab_type": "code",
    "id": "p35cV7kzPM3X",
    "outputId": "f16f55de-fada-4207-ab5a-5e86d111b48f"
   },
   "outputs": [
    {
     "name": "stdout",
     "output_type": "stream",
     "text": [
      "(1010266, 43)\n"
     ]
    }
   ],
   "source": [
    "print(model_features.shape)"
   ]
  },
  {
   "cell_type": "code",
   "execution_count": 0,
   "metadata": {
    "colab": {},
    "colab_type": "code",
    "id": "iAeXkem-PM3d"
   },
   "outputs": [],
   "source": [
    "np.save('model_features.npy', model_features)"
   ]
  },
  {
   "cell_type": "markdown",
   "metadata": {
    "colab_type": "text",
    "id": "6iMFMY4wPM3i"
   },
   "source": [
    "Using random forest classification 43 features are selected."
   ]
  },
  {
   "cell_type": "code",
   "execution_count": 0,
   "metadata": {
    "colab": {},
    "colab_type": "code",
    "id": "EOD47hkaPM3j",
    "outputId": "02d7d992-fbcf-415a-b494-a4b03669d7c6"
   },
   "outputs": [
    {
     "name": "stdout",
     "output_type": "stream",
     "text": [
      "(1010266, 60)\n"
     ]
    }
   ],
   "source": [
    "\"\"\"Dimensionality reduction using PCA\"\"\"\n",
    "\n",
    "pca = PCA(0.90)\n",
    "principal_components = pca.fit_transform(features)\n",
    "principal_df = pd.DataFrame(data = principal_components)\n",
    "print(principal_df.shape)"
   ]
  },
  {
   "cell_type": "code",
   "execution_count": 0,
   "metadata": {
    "colab": {},
    "colab_type": "code",
    "id": "UFkg4t8yPM3m"
   },
   "outputs": [],
   "source": [
    "principal_df.to_pickle('principal_df.pkl')"
   ]
  },
  {
   "cell_type": "code",
   "execution_count": 0,
   "metadata": {
    "colab": {},
    "colab_type": "code",
    "id": "zAWkgth8PM3o"
   },
   "outputs": [],
   "source": [
    "#del model_features\n",
    "#del principal_df"
   ]
  },
  {
   "cell_type": "markdown",
   "metadata": {
    "colab_type": "text",
    "id": "zXoy43LqPM3q"
   },
   "source": [
    "Using PCA dimensions were reduced to 60 from 201."
   ]
  },
  {
   "cell_type": "markdown",
   "metadata": {
    "colab_type": "text",
    "id": "sN_rCiZL4DZ1"
   },
   "source": [
    "# Summary of EDA\n",
    "\n",
    "\n",
    "*   12 columns had missing values. In that 3 columns had high number of missing values, hence were dropped. The rows for the remaining missing values were dropped.\n",
    "*   After dropping 'id' feature, remaining features were categorized into 12 categorical features, 17 binary features, 3 continuous features and 22 ordinal features.\n",
    "*   Correlation heatmap of categorical features showed poor correlation between all features.\n",
    "*   Correlation heatmap of binary features showed poor correlation between most features, but few features have fairly strong correlation.\n",
    "*   Continuous features having fairly strong correlation between ezch other.\n",
    "*   Correlation heatmap of ordinal features  showed very poor correaltion between features, but 2 features have moderate correaltion.\n",
    "*   Outliers were detected using z-score with a threshold of 3. 18k outliers were detected and as it only constitutes <4% of total records, those columns were dropped.\n",
    "*   The dataset is highly imbalanced with over 97% of majority class.\n",
    "*   Synthetic Minority Over-Sampling Technique (SMOTE) was used to over sample the minority class and balance the data set.\n",
    "*   On setting the minority sample to be 12%, 574k total records were obtained. \n",
    "*   For better classification minority class was set to be 50%, and 1 million total samplese were obained.\n",
    "*   For better modelling results, values in the dataframe are modified.\n",
    "*   One hot encoding is performed for all catgorical features, min-max scaling for ordinal features, and standard scaling for continuous features.\n",
    "*   In order to reduce dimensions feature selection and PCA were done on copies of the dataset.\n",
    "*   Feature selection is performed using sklearn's SelectFromModel using RandomForestClassifier as the estimator.\n",
    "*   After feature selection there were 43 features remaining\n",
    "*   After PCA (retaining 90% variance) 60 features were remaining.\n",
    "\n"
   ]
  },
  {
   "cell_type": "markdown",
   "metadata": {
    "colab_type": "text",
    "id": "dhx_rH1sqKlv"
   },
   "source": [
    "\n",
    "# Modelling"
   ]
  },
  {
   "cell_type": "markdown",
   "metadata": {
    "colab_type": "text",
    "id": "QKUTGSIwCFh8"
   },
   "source": [
    "Splitting the data into train and test"
   ]
  },
  {
   "cell_type": "code",
   "execution_count": 0,
   "metadata": {
    "colab": {},
    "colab_type": "code",
    "id": "myGE7a-iPM3v"
   },
   "outputs": [],
   "source": [
    "target = np.load('/content/drive/My Drive/Data/auto_insurance/target_auto.npy')\n",
    "model_features = np.load('/content/drive/My Drive/Data/auto_insurance/model_features.npy')\n",
    "principal_df = pd.read_pickle('/content/drive/My Drive/Data/auto_insurance/principal_df.pkl')\n"
   ]
  },
  {
   "cell_type": "code",
   "execution_count": 0,
   "metadata": {
    "colab": {},
    "colab_type": "code",
    "id": "DA0hsUHzCFh9"
   },
   "outputs": [],
   "source": [
    "X_train, X_test, y_train, y_test = train_test_split(model_features, target, test_size=0.3,\n",
    "                                                    stratify=target, random_state=2)\n",
    "X_train_pca, X_test_pca, y_train_pca, y_test_pca = train_test_split(principal_df, target, test_size=0.3,\n",
    "                                                    stratify=target, random_state=2)"
   ]
  },
  {
   "cell_type": "code",
   "execution_count": 0,
   "metadata": {
    "colab": {
     "base_uri": "https://localhost:8080/",
     "height": 34
    },
    "colab_type": "code",
    "id": "Ruw2-U70CFh_",
    "outputId": "57ef6b20-7490-4e6d-a487-2c90ba250a20"
   },
   "outputs": [
    {
     "name": "stdout",
     "output_type": "stream",
     "text": [
      "(707186, 43) (303080, 43)\n",
      "(707186, 60) (303080, 60)\n"
     ]
    }
   ],
   "source": [
    "print(X_train.shape, X_test.shape)\n",
    "print(X_train_pca.shape, X_test_pca.shape)"
   ]
  },
  {
   "cell_type": "code",
   "execution_count": 0,
   "metadata": {
    "colab": {},
    "colab_type": "code",
    "id": "M7WqARS7CFiB"
   },
   "outputs": [],
   "source": [
    "# Logistic Regression"
   ]
  },
  {
   "cell_type": "code",
   "execution_count": 0,
   "metadata": {
    "colab": {},
    "colab_type": "code",
    "id": "dwYor8LvCFiF",
    "outputId": "df0d2841-6586-41e4-e3d8-62493c0d669f"
   },
   "outputs": [
    {
     "data": {
      "text/plain": [
       "LogisticRegression(C=1.0, class_weight=None, dual=False, fit_intercept=True,\n",
       "                   intercept_scaling=1, l1_ratio=0.5, max_iter=100,\n",
       "                   multi_class='auto', n_jobs=None, penalty='elasticnet',\n",
       "                   random_state=None, solver='saga', tol=0.0001, verbose=0,\n",
       "                   warm_start=False)"
      ]
     },
     "execution_count": 20,
     "metadata": {
      "tags": []
     },
     "output_type": "execute_result"
    }
   ],
   "source": [
    "log_model = LogisticRegression(solver='saga', penalty='elasticnet', l1_ratio=0.5)\n",
    "log_model.fit(X_train, y_train)"
   ]
  },
  {
   "cell_type": "code",
   "execution_count": 0,
   "metadata": {
    "colab": {},
    "colab_type": "code",
    "id": "FjCYL98YPM34",
    "outputId": "10bf08e8-bc2a-4a2d-acac-d45ba51c6019"
   },
   "outputs": [
    {
     "name": "stdout",
     "output_type": "stream",
     "text": [
      "confusion matrix :\n",
      " [[144358   7182]\n",
      " [ 17359 134181]]\n",
      "classification matric :\n",
      "               precision    recall  f1-score   support\n",
      "\n",
      "           0       0.89      0.95      0.92    151540\n",
      "           1       0.95      0.89      0.92    151540\n",
      "\n",
      "    accuracy                           0.92    303080\n",
      "   macro avg       0.92      0.92      0.92    303080\n",
      "weighted avg       0.92      0.92      0.92    303080\n",
      "\n"
     ]
    }
   ],
   "source": [
    "y_pred = log_model.predict(X_test)\n",
    "confu_mat = confusion_matrix(y_test, y_pred)\n",
    "class_report = classification_report(y_test, y_pred)\n",
    "print('confusion matrix :\\n', confu_mat)\n",
    "print('classification matric :\\n', class_report)"
   ]
  },
  {
   "cell_type": "code",
   "execution_count": 0,
   "metadata": {
    "colab": {},
    "colab_type": "code",
    "id": "t9uhAm9BPM36",
    "outputId": "5244d5e6-0ead-49b9-ebe8-e56f41bd3906"
   },
   "outputs": [
    {
     "name": "stdout",
     "output_type": "stream",
     "text": [
      "Most important feature : ps_car_09_cat_1\n"
     ]
    }
   ],
   "source": [
    "max_idx = np.argmax(log_model.coef_)\n",
    "print('Most important feature : {}'.format(selected_features[max_idx]))"
   ]
  },
  {
   "cell_type": "markdown",
   "metadata": {
    "colab_type": "text",
    "id": "7bvMif0UPM37"
   },
   "source": [
    "LogisticRegression model is able to achieve an accuracy of 92%, and f1-score of 0.92 on just 42 features."
   ]
  },
  {
   "cell_type": "code",
   "execution_count": 0,
   "metadata": {
    "colab": {},
    "colab_type": "code",
    "id": "TZ3vlrBqPM38",
    "outputId": "0d6a0a4d-6a3b-4ab3-ed4e-f0ebcca14a92"
   },
   "outputs": [
    {
     "data": {
      "text/plain": [
       "LogisticRegression(C=1.0, class_weight=None, dual=False, fit_intercept=True,\n",
       "                   intercept_scaling=1, l1_ratio=0.5, max_iter=100,\n",
       "                   multi_class='auto', n_jobs=None, penalty='elasticnet',\n",
       "                   random_state=None, solver='saga', tol=0.0001, verbose=0,\n",
       "                   warm_start=False)"
      ]
     },
     "execution_count": 30,
     "metadata": {
      "tags": []
     },
     "output_type": "execute_result"
    }
   ],
   "source": [
    "#Creating model on PCA data\n",
    "log_model_pca = LogisticRegression(solver='saga', penalty='elasticnet', l1_ratio=0.5)\n",
    "log_model_pca.fit(X_train_pca, y_train_pca)"
   ]
  },
  {
   "cell_type": "code",
   "execution_count": 0,
   "metadata": {
    "colab": {},
    "colab_type": "code",
    "id": "nuKdj7wdPM39",
    "outputId": "b95d0b22-d8bc-496e-8078-b15483823ff7"
   },
   "outputs": [
    {
     "name": "stdout",
     "output_type": "stream",
     "text": [
      "confusion matrix :\n",
      " [[144535   7005]\n",
      " [ 16645 134895]]\n",
      "classification matric :\n",
      "               precision    recall  f1-score   support\n",
      "\n",
      "           0       0.90      0.95      0.92    151540\n",
      "           1       0.95      0.89      0.92    151540\n",
      "\n",
      "    accuracy                           0.92    303080\n",
      "   macro avg       0.92      0.92      0.92    303080\n",
      "weighted avg       0.92      0.92      0.92    303080\n",
      "\n"
     ]
    }
   ],
   "source": [
    "y_pred_pca = log_model_pca.predict(X_test_pca)\n",
    "confu_mat = confusion_matrix(y_test_pca, y_pred_pca)\n",
    "class_report = classification_report(y_test_pca, y_pred_pca)\n",
    "print('confusion matrix :\\n', confu_mat)\n",
    "print('classification matric :\\n', class_report)"
   ]
  },
  {
   "cell_type": "markdown",
   "metadata": {
    "colab_type": "text",
    "id": "uvuhrYQKPM3_"
   },
   "source": [
    "Logistic regression model works slightly better on data created from PCA decomposition. Accuray is 92% and f1-score is 0.92."
   ]
  },
  {
   "cell_type": "markdown",
   "metadata": {
    "colab_type": "text",
    "id": "A9IcN5sIPM3_"
   },
   "source": [
    " # SVM - Linear"
   ]
  },
  {
   "cell_type": "code",
   "execution_count": 0,
   "metadata": {
    "colab": {},
    "colab_type": "code",
    "id": "QIl3UwmKPM3_",
    "outputId": "0af3b265-a4a7-4ba4-89e6-dbd2b68aec90",
    "scrolled": true
   },
   "outputs": [
    {
     "name": "stdout",
     "output_type": "stream",
     "text": [
      "Fitting 5 folds for each of 9 candidates, totalling 45 fits\n"
     ]
    },
    {
     "name": "stderr",
     "output_type": "stream",
     "text": [
      "[Parallel(n_jobs=1)]: Using backend SequentialBackend with 1 concurrent workers.\n"
     ]
    },
    {
     "name": "stdout",
     "output_type": "stream",
     "text": [
      "[CV] C=0.1, max_iter=500 .............................................\n",
      "[CV] ................. C=0.1, max_iter=500, score=0.916, total=  48.4s\n",
      "[CV] C=0.1, max_iter=500 .............................................\n"
     ]
    },
    {
     "name": "stderr",
     "output_type": "stream",
     "text": [
      "[Parallel(n_jobs=1)]: Done   1 out of   1 | elapsed:   48.4s remaining:    0.0s\n"
     ]
    },
    {
     "name": "stdout",
     "output_type": "stream",
     "text": [
      "[CV] ................. C=0.1, max_iter=500, score=0.917, total=  44.3s\n",
      "[CV] C=0.1, max_iter=500 .............................................\n"
     ]
    },
    {
     "name": "stderr",
     "output_type": "stream",
     "text": [
      "[Parallel(n_jobs=1)]: Done   2 out of   2 | elapsed:  1.5min remaining:    0.0s\n"
     ]
    },
    {
     "name": "stdout",
     "output_type": "stream",
     "text": [
      "[CV] ................. C=0.1, max_iter=500, score=0.917, total=  55.6s\n",
      "[CV] C=0.1, max_iter=500 .............................................\n",
      "[CV] ................. C=0.1, max_iter=500, score=0.918, total=  47.9s\n",
      "[CV] C=0.1, max_iter=500 .............................................\n",
      "[CV] ................. C=0.1, max_iter=500, score=0.917, total=  45.2s\n",
      "[CV] C=0.1, max_iter=1000 ............................................\n",
      "[CV] ................ C=0.1, max_iter=1000, score=0.916, total=  54.1s\n",
      "[CV] C=0.1, max_iter=1000 ............................................\n",
      "[CV] ................ C=0.1, max_iter=1000, score=0.917, total=  53.2s\n",
      "[CV] C=0.1, max_iter=1000 ............................................\n",
      "[CV] ................ C=0.1, max_iter=1000, score=0.917, total=  45.6s\n",
      "[CV] C=0.1, max_iter=1000 ............................................\n",
      "[CV] ................ C=0.1, max_iter=1000, score=0.918, total=  44.8s\n",
      "[CV] C=0.1, max_iter=1000 ............................................\n",
      "[CV] ................ C=0.1, max_iter=1000, score=0.917, total=  43.7s\n",
      "[CV] C=0.1, max_iter=2000 ............................................\n",
      "[CV] ................ C=0.1, max_iter=2000, score=0.916, total=  42.8s\n",
      "[CV] C=0.1, max_iter=2000 ............................................\n",
      "[CV] ................ C=0.1, max_iter=2000, score=0.917, total=  42.8s\n",
      "[CV] C=0.1, max_iter=2000 ............................................\n",
      "[CV] ................ C=0.1, max_iter=2000, score=0.917, total=  51.8s\n",
      "[CV] C=0.1, max_iter=2000 ............................................\n",
      "[CV] ................ C=0.1, max_iter=2000, score=0.918, total=  35.5s\n",
      "[CV] C=0.1, max_iter=2000 ............................................\n",
      "[CV] ................ C=0.1, max_iter=2000, score=0.917, total=  36.2s\n",
      "[CV] C=1, max_iter=500 ...............................................\n",
      "[CV] ................... C=1, max_iter=500, score=0.917, total= 1.3min\n",
      "[CV] C=1, max_iter=500 ...............................................\n",
      "[CV] ................... C=1, max_iter=500, score=0.917, total= 1.3min\n",
      "[CV] C=1, max_iter=500 ...............................................\n",
      "[CV] ................... C=1, max_iter=500, score=0.917, total= 1.3min\n",
      "[CV] C=1, max_iter=500 ...............................................\n",
      "[CV] ................... C=1, max_iter=500, score=0.918, total= 1.3min\n",
      "[CV] C=1, max_iter=500 ...............................................\n",
      "[CV] ................... C=1, max_iter=500, score=0.917, total= 1.3min\n",
      "[CV] C=1, max_iter=1000 ..............................................\n",
      "[CV] .................. C=1, max_iter=1000, score=0.917, total= 2.4min\n",
      "[CV] C=1, max_iter=1000 ..............................................\n",
      "[CV] .................. C=1, max_iter=1000, score=0.917, total= 2.4min\n",
      "[CV] C=1, max_iter=1000 ..............................................\n",
      "[CV] .................. C=1, max_iter=1000, score=0.917, total= 2.3min\n",
      "[CV] C=1, max_iter=1000 ..............................................\n",
      "[CV] .................. C=1, max_iter=1000, score=0.918, total= 2.4min\n",
      "[CV] C=1, max_iter=1000 ..............................................\n",
      "[CV] .................. C=1, max_iter=1000, score=0.917, total= 2.4min\n",
      "[CV] C=1, max_iter=2000 ..............................................\n",
      "[CV] .................. C=1, max_iter=2000, score=0.917, total= 3.3min\n",
      "[CV] C=1, max_iter=2000 ..............................................\n",
      "[CV] .................. C=1, max_iter=2000, score=0.917, total= 3.2min\n",
      "[CV] C=1, max_iter=2000 ..............................................\n",
      "[CV] .................. C=1, max_iter=2000, score=0.917, total= 3.7min\n",
      "[CV] C=1, max_iter=2000 ..............................................\n",
      "[CV] .................. C=1, max_iter=2000, score=0.918, total= 3.8min\n",
      "[CV] C=1, max_iter=2000 ..............................................\n",
      "[CV] .................. C=1, max_iter=2000, score=0.917, total= 4.0min\n",
      "[CV] C=10, max_iter=500 ..............................................\n",
      "[CV] .................. C=10, max_iter=500, score=0.915, total= 2.1min\n",
      "[CV] C=10, max_iter=500 ..............................................\n",
      "[CV] .................. C=10, max_iter=500, score=0.913, total= 2.1min\n",
      "[CV] C=10, max_iter=500 ..............................................\n",
      "[CV] .................. C=10, max_iter=500, score=0.908, total= 2.0min\n",
      "[CV] C=10, max_iter=500 ..............................................\n",
      "[CV] .................. C=10, max_iter=500, score=0.915, total= 2.2min\n",
      "[CV] C=10, max_iter=500 ..............................................\n",
      "[CV] .................. C=10, max_iter=500, score=0.893, total= 2.0min\n",
      "[CV] C=10, max_iter=1000 .............................................\n",
      "[CV] ................. C=10, max_iter=1000, score=0.916, total= 3.6min\n",
      "[CV] C=10, max_iter=1000 .............................................\n",
      "[CV] ................. C=10, max_iter=1000, score=0.916, total= 3.6min\n",
      "[CV] C=10, max_iter=1000 .............................................\n",
      "[CV] ................. C=10, max_iter=1000, score=0.917, total= 3.6min\n",
      "[CV] C=10, max_iter=1000 .............................................\n",
      "[CV] ................. C=10, max_iter=1000, score=0.918, total= 3.7min\n",
      "[CV] C=10, max_iter=1000 .............................................\n",
      "[CV] ................. C=10, max_iter=1000, score=0.917, total= 3.6min\n",
      "[CV] C=10, max_iter=2000 .............................................\n",
      "[CV] ................. C=10, max_iter=2000, score=0.916, total= 6.4min\n",
      "[CV] C=10, max_iter=2000 .............................................\n",
      "[CV] ................. C=10, max_iter=2000, score=0.917, total= 7.0min\n",
      "[CV] C=10, max_iter=2000 .............................................\n",
      "[CV] ................. C=10, max_iter=2000, score=0.917, total= 6.6min\n",
      "[CV] C=10, max_iter=2000 .............................................\n",
      "[CV] ................. C=10, max_iter=2000, score=0.918, total= 6.8min\n",
      "[CV] C=10, max_iter=2000 .............................................\n",
      "[CV] ................. C=10, max_iter=2000, score=0.917, total= 6.7min\n"
     ]
    },
    {
     "name": "stderr",
     "output_type": "stream",
     "text": [
      "[Parallel(n_jobs=1)]: Done  45 out of  45 | elapsed: 110.0min finished\n"
     ]
    },
    {
     "ename": "KeyboardInterrupt",
     "evalue": "",
     "output_type": "error",
     "traceback": [
      "\u001b[1;31m---------------------------------------------------------------------------\u001b[0m",
      "\u001b[1;31mKeyboardInterrupt\u001b[0m                         Traceback (most recent call last)",
      "\u001b[1;32m<ipython-input-32-5b63f0199914>\u001b[0m in \u001b[0;36m<module>\u001b[1;34m()\u001b[0m\n\u001b[0;32m      2\u001b[0m \u001b[0mparams\u001b[0m \u001b[1;33m=\u001b[0m \u001b[1;33m{\u001b[0m\u001b[1;34m'C'\u001b[0m\u001b[1;33m:\u001b[0m\u001b[1;33m[\u001b[0m\u001b[1;36m0.1\u001b[0m\u001b[1;33m,\u001b[0m \u001b[1;36m1\u001b[0m\u001b[1;33m,\u001b[0m \u001b[1;36m10\u001b[0m\u001b[1;33m]\u001b[0m\u001b[1;33m,\u001b[0m \u001b[1;34m'max_iter'\u001b[0m\u001b[1;33m:\u001b[0m \u001b[1;33m[\u001b[0m\u001b[1;36m500\u001b[0m\u001b[1;33m,\u001b[0m \u001b[1;36m1000\u001b[0m\u001b[1;33m,\u001b[0m \u001b[1;36m2000\u001b[0m\u001b[1;33m]\u001b[0m\u001b[1;33m}\u001b[0m\u001b[1;33m\u001b[0m\u001b[0m\n\u001b[0;32m      3\u001b[0m \u001b[0mclf\u001b[0m \u001b[1;33m=\u001b[0m \u001b[0mGridSearchCV\u001b[0m\u001b[1;33m(\u001b[0m\u001b[0mlinsvc_model\u001b[0m\u001b[1;33m,\u001b[0m \u001b[0mparams\u001b[0m\u001b[1;33m,\u001b[0m \u001b[0mcv\u001b[0m\u001b[1;33m=\u001b[0m\u001b[1;36m5\u001b[0m\u001b[1;33m,\u001b[0m \u001b[0mrefit\u001b[0m\u001b[1;33m=\u001b[0m\u001b[1;32mTrue\u001b[0m\u001b[1;33m,\u001b[0m \u001b[0mverbose\u001b[0m\u001b[1;33m=\u001b[0m\u001b[1;36m3\u001b[0m\u001b[1;33m)\u001b[0m\u001b[1;33m\u001b[0m\u001b[0m\n\u001b[1;32m----> 4\u001b[1;33m \u001b[0mclf\u001b[0m\u001b[1;33m.\u001b[0m\u001b[0mfit\u001b[0m\u001b[1;33m(\u001b[0m\u001b[0mX_train\u001b[0m\u001b[1;33m,\u001b[0m \u001b[0my_train\u001b[0m\u001b[1;33m)\u001b[0m\u001b[1;33m\u001b[0m\u001b[0m\n\u001b[0m",
      "\u001b[1;32mC:\\Anaconda3\\lib\\site-packages\\sklearn\\model_selection\\_search.py\u001b[0m in \u001b[0;36mfit\u001b[1;34m(self, X, y, groups, **fit_params)\u001b[0m\n\u001b[0;32m    737\u001b[0m             \u001b[0mrefit_start_time\u001b[0m \u001b[1;33m=\u001b[0m \u001b[0mtime\u001b[0m\u001b[1;33m.\u001b[0m\u001b[0mtime\u001b[0m\u001b[1;33m(\u001b[0m\u001b[1;33m)\u001b[0m\u001b[1;33m\u001b[0m\u001b[0m\n\u001b[0;32m    738\u001b[0m             \u001b[1;32mif\u001b[0m \u001b[0my\u001b[0m \u001b[1;32mis\u001b[0m \u001b[1;32mnot\u001b[0m \u001b[1;32mNone\u001b[0m\u001b[1;33m:\u001b[0m\u001b[1;33m\u001b[0m\u001b[0m\n\u001b[1;32m--> 739\u001b[1;33m                 \u001b[0mself\u001b[0m\u001b[1;33m.\u001b[0m\u001b[0mbest_estimator_\u001b[0m\u001b[1;33m.\u001b[0m\u001b[0mfit\u001b[0m\u001b[1;33m(\u001b[0m\u001b[0mX\u001b[0m\u001b[1;33m,\u001b[0m \u001b[0my\u001b[0m\u001b[1;33m,\u001b[0m \u001b[1;33m**\u001b[0m\u001b[0mfit_params\u001b[0m\u001b[1;33m)\u001b[0m\u001b[1;33m\u001b[0m\u001b[0m\n\u001b[0m\u001b[0;32m    740\u001b[0m             \u001b[1;32melse\u001b[0m\u001b[1;33m:\u001b[0m\u001b[1;33m\u001b[0m\u001b[0m\n\u001b[0;32m    741\u001b[0m                 \u001b[0mself\u001b[0m\u001b[1;33m.\u001b[0m\u001b[0mbest_estimator_\u001b[0m\u001b[1;33m.\u001b[0m\u001b[0mfit\u001b[0m\u001b[1;33m(\u001b[0m\u001b[0mX\u001b[0m\u001b[1;33m,\u001b[0m \u001b[1;33m**\u001b[0m\u001b[0mfit_params\u001b[0m\u001b[1;33m)\u001b[0m\u001b[1;33m\u001b[0m\u001b[0m\n",
      "\u001b[1;32mC:\\Anaconda3\\lib\\site-packages\\sklearn\\svm\\_classes.py\u001b[0m in \u001b[0;36mfit\u001b[1;34m(self, X, y, sample_weight)\u001b[0m\n\u001b[0;32m    241\u001b[0m             \u001b[0mself\u001b[0m\u001b[1;33m.\u001b[0m\u001b[0mclass_weight\u001b[0m\u001b[1;33m,\u001b[0m \u001b[0mself\u001b[0m\u001b[1;33m.\u001b[0m\u001b[0mpenalty\u001b[0m\u001b[1;33m,\u001b[0m \u001b[0mself\u001b[0m\u001b[1;33m.\u001b[0m\u001b[0mdual\u001b[0m\u001b[1;33m,\u001b[0m \u001b[0mself\u001b[0m\u001b[1;33m.\u001b[0m\u001b[0mverbose\u001b[0m\u001b[1;33m,\u001b[0m\u001b[1;33m\u001b[0m\u001b[0m\n\u001b[0;32m    242\u001b[0m             \u001b[0mself\u001b[0m\u001b[1;33m.\u001b[0m\u001b[0mmax_iter\u001b[0m\u001b[1;33m,\u001b[0m \u001b[0mself\u001b[0m\u001b[1;33m.\u001b[0m\u001b[0mtol\u001b[0m\u001b[1;33m,\u001b[0m \u001b[0mself\u001b[0m\u001b[1;33m.\u001b[0m\u001b[0mrandom_state\u001b[0m\u001b[1;33m,\u001b[0m \u001b[0mself\u001b[0m\u001b[1;33m.\u001b[0m\u001b[0mmulti_class\u001b[0m\u001b[1;33m,\u001b[0m\u001b[1;33m\u001b[0m\u001b[0m\n\u001b[1;32m--> 243\u001b[1;33m             self.loss, sample_weight=sample_weight)\n\u001b[0m\u001b[0;32m    244\u001b[0m \u001b[1;33m\u001b[0m\u001b[0m\n\u001b[0;32m    245\u001b[0m         \u001b[1;32mif\u001b[0m \u001b[0mself\u001b[0m\u001b[1;33m.\u001b[0m\u001b[0mmulti_class\u001b[0m \u001b[1;33m==\u001b[0m \u001b[1;34m\"crammer_singer\"\u001b[0m \u001b[1;32mand\u001b[0m \u001b[0mlen\u001b[0m\u001b[1;33m(\u001b[0m\u001b[0mself\u001b[0m\u001b[1;33m.\u001b[0m\u001b[0mclasses_\u001b[0m\u001b[1;33m)\u001b[0m \u001b[1;33m==\u001b[0m \u001b[1;36m2\u001b[0m\u001b[1;33m:\u001b[0m\u001b[1;33m\u001b[0m\u001b[0m\n",
      "\u001b[1;32mC:\\Anaconda3\\lib\\site-packages\\sklearn\\svm\\_base.py\u001b[0m in \u001b[0;36m_fit_liblinear\u001b[1;34m(X, y, C, fit_intercept, intercept_scaling, class_weight, penalty, dual, verbose, max_iter, tol, random_state, multi_class, loss, epsilon, sample_weight)\u001b[0m\n\u001b[0;32m    937\u001b[0m         \u001b[0mX\u001b[0m\u001b[1;33m,\u001b[0m \u001b[0my_ind\u001b[0m\u001b[1;33m,\u001b[0m \u001b[0msp\u001b[0m\u001b[1;33m.\u001b[0m\u001b[0misspmatrix\u001b[0m\u001b[1;33m(\u001b[0m\u001b[0mX\u001b[0m\u001b[1;33m)\u001b[0m\u001b[1;33m,\u001b[0m \u001b[0msolver_type\u001b[0m\u001b[1;33m,\u001b[0m \u001b[0mtol\u001b[0m\u001b[1;33m,\u001b[0m \u001b[0mbias\u001b[0m\u001b[1;33m,\u001b[0m \u001b[0mC\u001b[0m\u001b[1;33m,\u001b[0m\u001b[1;33m\u001b[0m\u001b[0m\n\u001b[0;32m    938\u001b[0m         \u001b[0mclass_weight_\u001b[0m\u001b[1;33m,\u001b[0m \u001b[0mmax_iter\u001b[0m\u001b[1;33m,\u001b[0m \u001b[0mrnd\u001b[0m\u001b[1;33m.\u001b[0m\u001b[0mrandint\u001b[0m\u001b[1;33m(\u001b[0m\u001b[0mnp\u001b[0m\u001b[1;33m.\u001b[0m\u001b[0miinfo\u001b[0m\u001b[1;33m(\u001b[0m\u001b[1;34m'i'\u001b[0m\u001b[1;33m)\u001b[0m\u001b[1;33m.\u001b[0m\u001b[0mmax\u001b[0m\u001b[1;33m)\u001b[0m\u001b[1;33m,\u001b[0m\u001b[1;33m\u001b[0m\u001b[0m\n\u001b[1;32m--> 939\u001b[1;33m         epsilon, sample_weight)\n\u001b[0m\u001b[0;32m    940\u001b[0m     \u001b[1;31m# Regarding rnd.randint(..) in the above signature:\u001b[0m\u001b[1;33m\u001b[0m\u001b[1;33m\u001b[0m\u001b[0m\n\u001b[0;32m    941\u001b[0m     \u001b[1;31m# seed for srand in range [0..INT_MAX); due to limitations in Numpy\u001b[0m\u001b[1;33m\u001b[0m\u001b[1;33m\u001b[0m\u001b[0m\n",
      "\u001b[1;31mKeyboardInterrupt\u001b[0m: "
     ]
    }
   ],
   "source": [
    "linsvc_model = LinearSVC()\n",
    "params = {'C':[0.1, 1, 10], 'max_iter': [500, 1000, 2000]}\n",
    "clf = GridSearchCV(linsvc_model, params, cv=5, refit=True, verbose=3)\n",
    "clf.fit(X_train, y_train)"
   ]
  },
  {
   "cell_type": "code",
   "execution_count": 0,
   "metadata": {
    "colab": {},
    "colab_type": "code",
    "id": "jmD7iTP3PM4D",
    "outputId": "5f5c1a1b-3b99-4cab-a230-aeff6b035c61"
   },
   "outputs": [
    {
     "name": "stdout",
     "output_type": "stream",
     "text": [
      "{'C': 1, 'max_iter': 1000}\n"
     ]
    }
   ],
   "source": [
    "print(clf.best_params_) "
   ]
  },
  {
   "cell_type": "code",
   "execution_count": 0,
   "metadata": {
    "colab": {},
    "colab_type": "code",
    "id": "3nsBwUbKPM4F",
    "outputId": "047b1f20-dbb7-4d29-853b-d79ac6c38227"
   },
   "outputs": [
    {
     "name": "stdout",
     "output_type": "stream",
     "text": [
      "confusion matrix :\n",
      " [[144987   6553]\n",
      " [ 18262 133278]]\n",
      "classification report :\n",
      "               precision    recall  f1-score   support\n",
      "\n",
      "           0       0.89      0.96      0.92    151540\n",
      "           1       0.95      0.88      0.91    151540\n",
      "\n",
      "    accuracy                           0.92    303080\n",
      "   macro avg       0.92      0.92      0.92    303080\n",
      "weighted avg       0.92      0.92      0.92    303080\n",
      "\n"
     ]
    }
   ],
   "source": [
    "linsvc = LinearSVC(C=1 ,dual=False , max_iter=1000)\n",
    "linsvc.fit(X_train, y_train)\n",
    "linsvc_pred = linsvc.predict(X_test)\n",
    "print('confusion matrix :\\n', confusion_matrix(y_test, linsvc_pred))\n",
    "print('classification report :\\n', classification_report(y_test, linsvc_pred))"
   ]
  },
  {
   "cell_type": "code",
   "execution_count": 0,
   "metadata": {
    "colab": {},
    "colab_type": "code",
    "id": "xT0TtL6YPM4H",
    "outputId": "b922d35a-6857-4148-a9a3-8a379e5d8151"
   },
   "outputs": [
    {
     "name": "stdout",
     "output_type": "stream",
     "text": [
      "confusion matrix :\n",
      " [[144986   6554]\n",
      " [ 18262 133278]]\n",
      "classification report :\n",
      "               precision    recall  f1-score   support\n",
      "\n",
      "           0       0.89      0.96      0.92    151540\n",
      "           1       0.95      0.88      0.91    151540\n",
      "\n",
      "    accuracy                           0.92    303080\n",
      "   macro avg       0.92      0.92      0.92    303080\n",
      "weighted avg       0.92      0.92      0.92    303080\n",
      "\n"
     ]
    }
   ],
   "source": [
    "linsvc_1 = LinearSVC(C=1 ,dual=True , max_iter=1000)#setting dual = True, \n",
    "                                                    #prefer dual=False when n_samples>n_features\n",
    "linsvc_1.fit(X_train, y_train)\n",
    "linsvc_pred_1 = linsvc_1.predict(X_test)\n",
    "print('confusion matrix :\\n', confusion_matrix(y_test, linsvc_pred_1))\n",
    "print('classification report :\\n', classification_report(y_test, linsvc_pred_1))"
   ]
  },
  {
   "cell_type": "markdown",
   "metadata": {
    "colab_type": "text",
    "id": "SKSMqJBsPM4I"
   },
   "source": [
    "Setting dual=True hasnt produced a significant change in the performance of the model."
   ]
  },
  {
   "cell_type": "code",
   "execution_count": 0,
   "metadata": {
    "colab": {},
    "colab_type": "code",
    "id": "3V16ryhoPM4J",
    "outputId": "5c0691d3-7e46-40c1-f9a1-03b2cff480a5"
   },
   "outputs": [
    {
     "name": "stdout",
     "output_type": "stream",
     "text": [
      "confusion matrix :\n",
      " [[145177   6363]\n",
      " [ 17512 134028]]\n",
      "classification report :\n",
      "               precision    recall  f1-score   support\n",
      "\n",
      "           0       0.89      0.96      0.92    151540\n",
      "           1       0.95      0.88      0.92    151540\n",
      "\n",
      "    accuracy                           0.92    303080\n",
      "   macro avg       0.92      0.92      0.92    303080\n",
      "weighted avg       0.92      0.92      0.92    303080\n",
      "\n"
     ]
    }
   ],
   "source": [
    "linsvc_pca = LinearSVC(C=1 ,dual=False , max_iter=1000)\n",
    "linsvc_pca.fit(X_train_pca, y_train_pca)\n",
    "linsvc_pred_pca = linsvc_pca.predict(X_test_pca)\n",
    "print('confusion matrix :\\n', confusion_matrix(y_test_pca, linsvc_pred_pca))\n",
    "print('classification report :\\n', classification_report(y_test_pca, linsvc_pred_pca))"
   ]
  },
  {
   "cell_type": "markdown",
   "metadata": {
    "colab_type": "text",
    "id": "BMPaOCjXPM4L"
   },
   "source": [
    "LinearSVC model is also slightly improving its performance on pca decomposed data.<br>\n",
    "Accuracy obtained is 92% and f1-score is 0.92."
   ]
  },
  {
   "cell_type": "markdown",
   "metadata": {
    "colab_type": "text",
    "id": "SP_3cFSkPM4M"
   },
   "source": [
    "# SVM - rbf kernel"
   ]
  },
  {
   "cell_type": "code",
   "execution_count": 0,
   "metadata": {
    "colab": {
     "base_uri": "https://localhost:8080/",
     "height": 33
    },
    "colab_type": "code",
    "id": "_WxCpKUgTSks",
    "outputId": "5c0a211b-cae9-48a2-fbde-ee8bee05608b"
   },
   "outputs": [
    {
     "name": "stdout",
     "output_type": "stream",
     "text": [
      "Counter({0: 50008, 1: 49992})\n"
     ]
    }
   ],
   "source": [
    "X_, y_ = X_train_pca.values[:100000, :], y_train_pca[:100000] #100k training records for svm\n",
    "print(Counter(y_))"
   ]
  },
  {
   "cell_type": "code",
   "execution_count": 0,
   "metadata": {
    "colab": {
     "base_uri": "https://localhost:8080/",
     "height": 235
    },
    "colab_type": "code",
    "id": "8vnEByVtPM4N",
    "outputId": "babdf1a8-2ca9-49dd-b608-57c91247b342"
   },
   "outputs": [
    {
     "name": "stdout",
     "output_type": "stream",
     "text": [
      "confusion matrix :\n",
      " [[147841   3699]\n",
      " [ 14039 137501]]\n",
      "classification report :\n",
      "               precision    recall  f1-score   support\n",
      "\n",
      "           0       0.91      0.98      0.94    151540\n",
      "           1       0.97      0.91      0.94    151540\n",
      "\n",
      "    accuracy                           0.94    303080\n",
      "   macro avg       0.94      0.94      0.94    303080\n",
      "weighted avg       0.94      0.94      0.94    303080\n",
      "\n"
     ]
    }
   ],
   "source": [
    "svm_pca = SVC(kernel='rbf', random_state=12)\n",
    "svm_pca.fit(X_, y_)\n",
    "svm_pred_pca = svm_pca.predict(X_test_pca)\n",
    "print('confusion matrix :\\n', confusion_matrix(y_test_pca, svm_pred_pca))\n",
    "print('classification report :\\n', classification_report(y_test_pca, svm_pred_pca))"
   ]
  },
  {
   "cell_type": "markdown",
   "metadata": {
    "colab_type": "text",
    "id": "nK1_FFVLMcXq"
   },
   "source": [
    "SVM classifier achieved an accuracy of 94% and f1-score of 0.94."
   ]
  },
  {
   "cell_type": "markdown",
   "metadata": {
    "colab_type": "text",
    "id": "NLCf-A3vPM4Q"
   },
   "source": [
    "# XGBoost Classification"
   ]
  },
  {
   "cell_type": "code",
   "execution_count": 0,
   "metadata": {
    "colab": {
     "base_uri": "https://localhost:8080/",
     "height": 151
    },
    "colab_type": "code",
    "id": "ABVaydPuPM4R",
    "outputId": "d3531cea-07f6-43d1-d4ed-becdcefe1a17"
   },
   "outputs": [
    {
     "data": {
      "text/plain": [
       "XGBClassifier(alpha=10, base_score=0.5, booster='gbtree', colsample_bylevel=1,\n",
       "              colsample_bynode=1, colsample_bytree=1, colsample_tree=0.3,\n",
       "              gamma=0, learning_rate=0.1, max_delta_step=0, max_depth=5,\n",
       "              min_child_weight=1, missing=None, n_estimators=100, n_jobs=1,\n",
       "              nthread=None, objective='binary:logistic',\n",
       "              objectve='reg:logistic', random_state=0, reg_alpha=0,\n",
       "              reg_lambda=1, scale_pos_weight=1, seed=None, silent=None,\n",
       "              subsample=1, verbosity=1)"
      ]
     },
     "execution_count": 5,
     "metadata": {
      "tags": []
     },
     "output_type": "execute_result"
    }
   ],
   "source": [
    "xgb_clf = xgboost.XGBClassifier(objectve='reg:logistic', colsample_tree=0.3, learning_rate=0.1,\n",
    "                              max_depth=5, alpha=10, n_estimators=100)\n",
    "xgb_clf.fit(X_train_pca, y_train_pca)"
   ]
  },
  {
   "cell_type": "code",
   "execution_count": 0,
   "metadata": {
    "colab": {
     "base_uri": "https://localhost:8080/",
     "height": 235
    },
    "colab_type": "code",
    "id": "sEvXlo9ZPM4U",
    "outputId": "d8b5b064-dfbb-49e5-b0ef-9a92758cc152"
   },
   "outputs": [
    {
     "name": "stdout",
     "output_type": "stream",
     "text": [
      "confusion matrix :\n",
      " [[144764   6776]\n",
      " [ 17377 134163]]\n",
      "classification report :\n",
      "               precision    recall  f1-score   support\n",
      "\n",
      "           0       0.89      0.96      0.92    151540\n",
      "           1       0.95      0.89      0.92    151540\n",
      "\n",
      "    accuracy                           0.92    303080\n",
      "   macro avg       0.92      0.92      0.92    303080\n",
      "weighted avg       0.92      0.92      0.92    303080\n",
      "\n"
     ]
    }
   ],
   "source": [
    "xgb_pred = xgb_clf.predict(X_test_pca)\n",
    "print('confusion matrix :\\n', confusion_matrix(y_test_pca, xgb_pred))\n",
    "print('classification report :\\n', classification_report(y_test_pca, xgb_pred))"
   ]
  },
  {
   "cell_type": "markdown",
   "metadata": {
    "colab_type": "text",
    "id": "OC7PMw8tMm2D"
   },
   "source": [
    "XGBoost classifier achieved an accuracy  of 92% and f1-score of 0.92."
   ]
  },
  {
   "cell_type": "markdown",
   "metadata": {
    "colab_type": "text",
    "id": "RA9JlgrSPJRm"
   },
   "source": [
    "# AdaBoost Classifier\n",
    "XGBoost Classifier as base estimator"
   ]
  },
  {
   "cell_type": "code",
   "execution_count": 0,
   "metadata": {
    "colab": {
     "base_uri": "https://localhost:8080/",
     "height": 351
    },
    "colab_type": "code",
    "id": "H9VmFJ0DPM4W",
    "outputId": "8251f0d1-7c09-413b-8bc7-b21e9f5a5d1d"
   },
   "outputs": [
    {
     "data": {
      "text/plain": [
       "AdaBoostClassifier(algorithm='SAMME.R',\n",
       "                   base_estimator=XGBClassifier(alpha=10, base_score=0.5,\n",
       "                                                booster='gbtree',\n",
       "                                                colsample_bylevel=1,\n",
       "                                                colsample_bynode=1,\n",
       "                                                colsample_bytree=1,\n",
       "                                                colsample_tree=0.3, gamma=0,\n",
       "                                                learning_rate=0.1,\n",
       "                                                max_delta_step=0, max_depth=5,\n",
       "                                                min_child_weight=1,\n",
       "                                                missing=None, n_estimators=100,\n",
       "                                                n_jobs=-1, nthread=None,\n",
       "                                                objective='binary:logistic',\n",
       "                                                objectve='binary:logistic',\n",
       "                                                random_state=0, reg_alpha=0,\n",
       "                                                reg_lambda=1,\n",
       "                                                scale_pos_weight=1, seed=None,\n",
       "                                                silent=None, subsample=1,\n",
       "                                                verbosity=1),\n",
       "                   learning_rate=0.01, n_estimators=20, random_state=23)"
      ]
     },
     "execution_count": 20,
     "metadata": {
      "tags": []
     },
     "output_type": "execute_result"
    }
   ],
   "source": [
    "xgb_clf = xgboost.XGBClassifier(objectve='binary:logistic', colsample_tree=0.3, learning_rate=0.1,\n",
    "                              max_depth=5, alpha=10, n_estimators=100, n_jobs=-1)\n",
    "adb_clf = AdaBoostClassifier(xgb_clf, algorithm='SAMME.R', n_estimators=20, learning_rate=0.01, random_state=23)\n",
    "adb_clf.fit(X_, y_)"
   ]
  },
  {
   "cell_type": "code",
   "execution_count": 0,
   "metadata": {
    "colab": {
     "base_uri": "https://localhost:8080/",
     "height": 234
    },
    "colab_type": "code",
    "id": "JcayiB5aPM4X",
    "outputId": "3fea068d-2e9f-40f0-8946-bf5329b2e6a4"
   },
   "outputs": [
    {
     "name": "stdout",
     "output_type": "stream",
     "text": [
      "confusion matrix :\n",
      " [[151540      0]\n",
      " [151540      0]]\n",
      "classification report :\n",
      "               precision    recall  f1-score   support\n",
      "\n",
      "           0       0.50      1.00      0.67    151540\n",
      "           1       0.00      0.00      0.00    151540\n",
      "\n",
      "    accuracy                           0.50    303080\n",
      "   macro avg       0.25      0.50      0.33    303080\n",
      "weighted avg       0.25      0.50      0.33    303080\n",
      "\n"
     ]
    }
   ],
   "source": [
    "adb_pred = adb_clf.predict(X_test_pca)\n",
    "print('confusion matrix :\\n', confusion_matrix(y_test_pca, adb_pred))\n",
    "print('classification report :\\n', classification_report(y_test_pca, adb_pred))"
   ]
  },
  {
   "cell_type": "markdown",
   "metadata": {
    "colab_type": "text",
    "id": "WZRCOL8AMyt6"
   },
   "source": [
    "On boosting xgboost with adaboost, accuracy was reduced to 50% and f1-score was reduced to 0.67, 0. Looks like the classifier is predicting all records as belonging to class 1."
   ]
  },
  {
   "cell_type": "markdown",
   "metadata": {
    "colab_type": "text",
    "id": "OqEFxgyyPM4Z"
   },
   "source": [
    "# RandomForest  Classification"
   ]
  },
  {
   "cell_type": "code",
   "execution_count": 0,
   "metadata": {
    "colab": {},
    "colab_type": "code",
    "id": "IK1X7NmgPM4a"
   },
   "outputs": [],
   "source": [
    "rfc = RandomForestClassifier(n_estimators=500, min_samples_split=0.0001, random_state=34, n_jobs=-1,\n",
    "                            verbose=3)\n",
    "rfc.fit(X_train_pca, y_train_pca)"
   ]
  },
  {
   "cell_type": "code",
   "execution_count": 0,
   "metadata": {
    "colab": {
     "base_uri": "https://localhost:8080/",
     "height": 318
    },
    "colab_type": "code",
    "id": "gbIECwT9PM4d",
    "outputId": "0a4cbed4-5f71-4604-c689-b059fd134f0f"
   },
   "outputs": [
    {
     "name": "stderr",
     "output_type": "stream",
     "text": [
      "[Parallel(n_jobs=4)]: Using backend ThreadingBackend with 4 concurrent workers.\n",
      "[Parallel(n_jobs=4)]: Done  24 tasks      | elapsed:    0.8s\n",
      "[Parallel(n_jobs=4)]: Done 120 tasks      | elapsed:    3.9s\n",
      "[Parallel(n_jobs=4)]: Done 280 tasks      | elapsed:    9.1s\n",
      "[Parallel(n_jobs=4)]: Done 500 out of 500 | elapsed:   16.2s finished\n"
     ]
    },
    {
     "name": "stdout",
     "output_type": "stream",
     "text": [
      "confusion matrix :\n",
      " [[148526   3014]\n",
      " [ 11763 139777]]\n",
      "classification report :\n",
      "               precision    recall  f1-score   support\n",
      "\n",
      "           0       0.93      0.98      0.95    151540\n",
      "           1       0.98      0.92      0.95    151540\n",
      "\n",
      "    accuracy                           0.95    303080\n",
      "   macro avg       0.95      0.95      0.95    303080\n",
      "weighted avg       0.95      0.95      0.95    303080\n",
      "\n"
     ]
    }
   ],
   "source": [
    "rfc_pred = rfc.predict(X_test_pca)\n",
    "print('confusion matrix :\\n', confusion_matrix(y_test_pca, rfc_pred))\n",
    "print('classification report :\\n', classification_report(y_test_pca, rfc_pred))"
   ]
  },
  {
   "cell_type": "markdown",
   "metadata": {
    "colab_type": "text",
    "id": "c5OpJfIbNMpZ"
   },
   "source": [
    "RandomForest classifier achieved the highest accuracy as of yet of 95% and f1-score of 0.95 with only 500 trees."
   ]
  },
  {
   "cell_type": "code",
   "execution_count": 0,
   "metadata": {
    "colab": {
     "base_uri": "https://localhost:8080/",
     "height": 1000
    },
    "colab_type": "code",
    "id": "VIqwXQZNOWk2",
    "outputId": "fb11cc50-0a1d-42d1-95a4-b201dbe7a698"
   },
   "outputs": [
    {
     "name": "stderr",
     "output_type": "stream",
     "text": [
      "[Parallel(n_jobs=-1)]: Using backend ThreadingBackend with 4 concurrent workers.\n"
     ]
    },
    {
     "name": "stdout",
     "output_type": "stream",
     "text": [
      "building tree 1 of 1000building tree 2 of 1000\n",
      "\n",
      "building tree 3 of 1000\n",
      "building tree 4 of 1000\n",
      "building tree 5 of 1000\n",
      "building tree 6 of 1000\n",
      "building tree 7 of 1000\n",
      "building tree 8 of 1000\n",
      "building tree 9 of 1000\n",
      "building tree 10 of 1000\n",
      "building tree 11 of 1000\n",
      "building tree 12 of 1000\n",
      "building tree 13 of 1000\n",
      "building tree 14 of 1000\n",
      "building tree 15 of 1000\n",
      "building tree 16 of 1000\n",
      "building tree 17 of 1000\n",
      "building tree 18 of 1000\n",
      "building tree 19 of 1000\n",
      "building tree 20 of 1000\n",
      "building tree 21 of 1000\n",
      "building tree 22 of 1000\n",
      "building tree 23 of 1000\n",
      "building tree 24 of 1000\n",
      "building tree 25 of 1000\n",
      "building tree 26 of 1000\n",
      "building tree 27 of 1000\n"
     ]
    },
    {
     "name": "stderr",
     "output_type": "stream",
     "text": [
      "[Parallel(n_jobs=-1)]: Done  24 tasks      | elapsed:  2.0min\n"
     ]
    },
    {
     "name": "stdout",
     "output_type": "stream",
     "text": [
      "building tree 28 of 1000\n",
      "building tree 29 of 1000\n",
      "building tree 30 of 1000\n",
      "building tree 31 of 1000\n",
      "building tree 32 of 1000\n",
      "building tree 33 of 1000\n",
      "building tree 34 of 1000\n",
      "building tree 35 of 1000\n",
      "building tree 36 of 1000\n",
      "building tree 37 of 1000\n",
      "building tree 38 of 1000\n",
      "building tree 39 of 1000\n",
      "building tree 40 of 1000\n",
      "building tree 41 of 1000\n",
      "building tree 42 of 1000\n",
      "building tree 43 of 1000\n",
      "building tree 44 of 1000\n",
      "building tree 45 of 1000\n",
      "building tree 46 of 1000\n",
      "building tree 47 of 1000\n",
      "building tree 48 of 1000\n",
      "building tree 49 of 1000\n",
      "building tree 50 of 1000\n",
      "building tree 51 of 1000\n",
      "building tree 52 of 1000\n",
      "building tree 53 of 1000\n",
      "building tree 54 of 1000\n",
      "building tree 55 of 1000\n",
      "building tree 56 of 1000\n",
      "building tree 57 of 1000\n",
      "building tree 58 of 1000\n",
      "building tree 59 of 1000\n",
      "building tree 60 of 1000\n",
      "building tree 61 of 1000\n",
      "building tree 62 of 1000\n",
      "building tree 63 of 1000\n",
      "building tree 64 of 1000\n",
      "building tree 65 of 1000\n",
      "building tree 66 of 1000\n",
      "building tree 67 of 1000\n",
      "building tree 68 of 1000\n",
      "building tree 69 of 1000\n",
      "building tree 70 of 1000\n",
      "building tree 71 of 1000\n",
      "building tree 72 of 1000\n",
      "building tree 73 of 1000\n",
      "building tree 74 of 1000\n",
      "building tree 75 of 1000\n",
      "building tree 76 of 1000\n",
      "building tree 77 of 1000\n",
      "building tree 78 of 1000\n",
      "building tree 79 of 1000\n",
      "building tree 80 of 1000\n",
      "building tree 81 of 1000\n",
      "building tree 82 of 1000\n",
      "building tree 83 of 1000\n",
      "building tree 84 of 1000\n",
      "building tree 85 of 1000\n",
      "building tree 86 of 1000\n",
      "building tree 87 of 1000\n",
      "building tree 88 of 1000\n",
      "building tree 89 of 1000\n",
      "building tree 90 of 1000\n",
      "building tree 91 of 1000\n",
      "building tree 92 of 1000\n",
      "building tree 93 of 1000\n",
      "building tree 94 of 1000\n",
      "building tree 95 of 1000\n",
      "building tree 96 of 1000\n",
      "building tree 97 of 1000\n",
      "building tree 98 of 1000\n",
      "building tree 99 of 1000\n",
      "building tree 100 of 1000\n",
      "building tree 101 of 1000\n",
      "building tree 102 of 1000\n",
      "building tree 103 of 1000\n",
      "building tree 104 of 1000\n",
      "building tree 105 of 1000\n",
      "building tree 106 of 1000\n",
      "building tree 107 of 1000\n",
      "building tree 108 of 1000\n",
      "building tree 109 of 1000\n",
      "building tree 110 of 1000\n",
      "building tree 111 of 1000\n",
      "building tree 112 of 1000\n",
      "building tree 113 of 1000\n",
      "building tree 114 of 1000\n",
      "building tree 115 of 1000\n",
      "building tree 116 of 1000\n",
      "building tree 117 of 1000\n",
      "building tree 118 of 1000\n",
      "building tree 119 of 1000\n",
      "building tree 120 of 1000\n",
      "building tree 121 of 1000\n",
      "building tree 122 of 1000\n",
      "building tree 123 of 1000\n"
     ]
    },
    {
     "name": "stderr",
     "output_type": "stream",
     "text": [
      "[Parallel(n_jobs=-1)]: Done 120 tasks      | elapsed:  8.9min\n"
     ]
    },
    {
     "name": "stdout",
     "output_type": "stream",
     "text": [
      "building tree 124 of 1000\n",
      "building tree 125 of 1000\n",
      "building tree 126 of 1000\n",
      "building tree 127 of 1000\n",
      "building tree 128 of 1000\n",
      "building tree 129 of 1000\n",
      "building tree 130 of 1000\n",
      "building tree 131 of 1000\n",
      "building tree 132 of 1000\n",
      "building tree 133 of 1000\n",
      "building tree 134 of 1000\n",
      "building tree 135 of 1000\n",
      "building tree 136 of 1000\n",
      "building tree 137 of 1000\n",
      "building tree 138 of 1000\n",
      "building tree 139 of 1000\n",
      "building tree 140 of 1000\n",
      "building tree 141 of 1000\n",
      "building tree 142 of 1000\n",
      "building tree 143 of 1000\n",
      "building tree 144 of 1000\n",
      "building tree 145 of 1000\n",
      "building tree 146 of 1000\n",
      "building tree 147 of 1000\n",
      "building tree 148 of 1000\n",
      "building tree 149 of 1000\n",
      "building tree 150 of 1000\n",
      "building tree 151 of 1000\n",
      "building tree 152 of 1000\n",
      "building tree 153 of 1000\n",
      "building tree 154 of 1000\n",
      "building tree 155 of 1000\n",
      "building tree 156 of 1000\n",
      "building tree 157 of 1000\n",
      "building tree 158 of 1000\n",
      "building tree 159 of 1000\n",
      "building tree 160 of 1000\n",
      "building tree 161 of 1000\n",
      "building tree 162 of 1000\n",
      "building tree 163 of 1000\n",
      "building tree 164 of 1000\n",
      "building tree 165 of 1000\n",
      "building tree 166 of 1000\n",
      "building tree 167 of 1000\n",
      "building tree 168 of 1000\n",
      "building tree 169 of 1000\n",
      "building tree 170 of 1000\n",
      "building tree 171 of 1000\n",
      "building tree 172 of 1000\n",
      "building tree 173 of 1000\n",
      "building tree 174 of 1000\n",
      "building tree 175 of 1000\n",
      "building tree 176 of 1000\n",
      "building tree 177 of 1000\n",
      "building tree 178 of 1000\n",
      "building tree 179 of 1000\n",
      "building tree 180 of 1000\n",
      "building tree 181 of 1000\n",
      "building tree 182 of 1000\n",
      "building tree 183 of 1000\n",
      "building tree 184 of 1000\n",
      "building tree 185 of 1000\n",
      "building tree 186 of 1000\n",
      "building tree 187 of 1000\n",
      "building tree 188 of 1000\n",
      "building tree 189 of 1000\n",
      "building tree 190 of 1000\n",
      "building tree 191 of 1000\n",
      "building tree 192 of 1000\n",
      "building tree 193 of 1000\n",
      "building tree 194 of 1000\n",
      "building tree 195 of 1000\n",
      "building tree 196 of 1000\n",
      "building tree 197 of 1000\n",
      "building tree 198 of 1000\n",
      "building tree 199 of 1000\n",
      "building tree 200 of 1000\n",
      "building tree 201 of 1000\n",
      "building tree 202 of 1000\n",
      "building tree 203 of 1000\n",
      "building tree 204 of 1000\n",
      "building tree 205 of 1000\n",
      "building tree 206 of 1000\n",
      "building tree 207 of 1000\n",
      "building tree 208 of 1000\n",
      "building tree 209 of 1000\n",
      "building tree 210 of 1000\n",
      "building tree 211 of 1000\n",
      "building tree 212 of 1000\n",
      "building tree 213 of 1000\n",
      "building tree 214 of 1000\n",
      "building tree 215 of 1000\n",
      "building tree 216 of 1000\n",
      "building tree 217 of 1000\n",
      "building tree 218 of 1000\n",
      "building tree 219 of 1000\n",
      "building tree 220 of 1000\n",
      "building tree 221 of 1000\n",
      "building tree 222 of 1000\n",
      "building tree 223 of 1000\n",
      "building tree 224 of 1000\n",
      "building tree 225 of 1000\n",
      "building tree 226 of 1000\n",
      "building tree 227 of 1000\n",
      "building tree 228 of 1000\n",
      "building tree 229 of 1000\n",
      "building tree 230 of 1000\n",
      "building tree 231 of 1000\n",
      "building tree 232 of 1000\n",
      "building tree 233 of 1000\n",
      "building tree 234 of 1000\n",
      "building tree 235 of 1000\n",
      "building tree 236 of 1000\n",
      "building tree 237 of 1000\n",
      "building tree 238 of 1000\n",
      "building tree 239 of 1000\n",
      "building tree 240 of 1000\n",
      "building tree 241 of 1000\n",
      "building tree 242 of 1000\n",
      "building tree 243 of 1000\n",
      "building tree 244 of 1000\n",
      "building tree 245 of 1000\n",
      "building tree 246 of 1000\n",
      "building tree 247 of 1000\n",
      "building tree 248 of 1000\n",
      "building tree 249 of 1000\n",
      "building tree 250 of 1000\n",
      "building tree 251 of 1000\n",
      "building tree 252 of 1000\n",
      "building tree 253 of 1000\n",
      "building tree 254 of 1000\n",
      "building tree 255 of 1000\n",
      "building tree 256 of 1000\n",
      "building tree 257 of 1000\n",
      "building tree 258 of 1000\n",
      "building tree 259 of 1000\n",
      "building tree 260 of 1000\n",
      "building tree 261 of 1000\n",
      "building tree 262 of 1000\n",
      "building tree 263 of 1000\n",
      "building tree 264 of 1000\n",
      "building tree 265 of 1000\n",
      "building tree 266 of 1000\n",
      "building tree 267 of 1000\n",
      "building tree 268 of 1000\n",
      "building tree 269 of 1000\n",
      "building tree 270 of 1000\n",
      "building tree 271 of 1000\n",
      "building tree 272 of 1000\n",
      "building tree 273 of 1000\n",
      "building tree 274 of 1000\n",
      "building tree 275 of 1000\n",
      "building tree 276 of 1000\n",
      "building tree 277 of 1000\n",
      "building tree 278 of 1000\n",
      "building tree 279 of 1000\n",
      "building tree 280 of 1000\n",
      "building tree 281 of 1000\n",
      "building tree 282 of 1000\n",
      "building tree 283 of 1000\n"
     ]
    },
    {
     "name": "stderr",
     "output_type": "stream",
     "text": [
      "[Parallel(n_jobs=-1)]: Done 280 tasks      | elapsed: 19.7min\n"
     ]
    },
    {
     "name": "stdout",
     "output_type": "stream",
     "text": [
      "building tree 284 of 1000\n",
      "building tree 285 of 1000\n",
      "building tree 286 of 1000\n",
      "building tree 287 of 1000\n",
      "building tree 288 of 1000\n",
      "building tree 289 of 1000\n",
      "building tree 290 of 1000\n",
      "building tree 291 of 1000\n",
      "building tree 292 of 1000\n",
      "building tree 293 of 1000\n",
      "building tree 294 of 1000\n",
      "building tree 295 of 1000\n",
      "building tree 296 of 1000\n",
      "building tree 297 of 1000\n",
      "building tree 298 of 1000\n",
      "building tree 299 of 1000\n",
      "building tree 300 of 1000\n",
      "building tree 301 of 1000\n",
      "building tree 302 of 1000\n",
      "building tree 303 of 1000\n",
      "building tree 304 of 1000\n",
      "building tree 305 of 1000\n",
      "building tree 306 of 1000\n",
      "building tree 307 of 1000\n",
      "building tree 308 of 1000\n",
      "building tree 309 of 1000\n",
      "building tree 310 of 1000\n",
      "building tree 311 of 1000\n",
      "building tree 312 of 1000\n",
      "building tree 313 of 1000\n",
      "building tree 314 of 1000\n",
      "building tree 315 of 1000\n",
      "building tree 316 of 1000\n",
      "building tree 317 of 1000\n",
      "building tree 318 of 1000\n",
      "building tree 319 of 1000\n",
      "building tree 320 of 1000\n",
      "building tree 321 of 1000\n",
      "building tree 322 of 1000\n",
      "building tree 323 of 1000\n",
      "building tree 324 of 1000\n",
      "building tree 325 of 1000\n",
      "building tree 326 of 1000\n",
      "building tree 327 of 1000\n",
      "building tree 328 of 1000\n",
      "building tree 329 of 1000\n",
      "building tree 330 of 1000\n",
      "building tree 331 of 1000\n",
      "building tree 332 of 1000\n",
      "building tree 333 of 1000\n",
      "building tree 334 of 1000\n",
      "building tree 335 of 1000\n",
      "building tree 336 of 1000\n",
      "building tree 337 of 1000\n",
      "building tree 338 of 1000\n",
      "building tree 339 of 1000\n",
      "building tree 340 of 1000\n",
      "building tree 341 of 1000\n",
      "building tree 342 of 1000\n",
      "building tree 343 of 1000\n",
      "building tree 344 of 1000\n",
      "building tree 345 of 1000\n",
      "building tree 346 of 1000\n",
      "building tree 347 of 1000\n",
      "building tree 348 of 1000\n",
      "building tree 349 of 1000\n",
      "building tree 350 of 1000\n",
      "building tree 351 of 1000\n",
      "building tree 352 of 1000\n",
      "building tree 353 of 1000\n",
      "building tree 354 of 1000\n",
      "building tree 355 of 1000\n",
      "building tree 356 of 1000\n",
      "building tree 357 of 1000\n",
      "building tree 358 of 1000\n",
      "building tree 359 of 1000\n",
      "building tree 360 of 1000\n",
      "building tree 361 of 1000\n",
      "building tree 362 of 1000\n",
      "building tree 363 of 1000\n",
      "building tree 364 of 1000\n",
      "building tree 365 of 1000\n",
      "building tree 366 of 1000\n",
      "building tree 367 of 1000\n",
      "building tree 368 of 1000\n",
      "building tree 369 of 1000\n",
      "building tree 370 of 1000\n",
      "building tree 371 of 1000\n",
      "building tree 372 of 1000\n",
      "building tree 373 of 1000\n",
      "building tree 374 of 1000\n",
      "building tree 375 of 1000\n",
      "building tree 376 of 1000\n",
      "building tree 377 of 1000\n",
      "building tree 378 of 1000\n",
      "building tree 379 of 1000\n",
      "building tree 380 of 1000\n",
      "building tree 381 of 1000\n",
      "building tree 382 of 1000\n",
      "building tree 383 of 1000\n",
      "building tree 384 of 1000\n",
      "building tree 385 of 1000\n",
      "building tree 386 of 1000\n",
      "building tree 387 of 1000\n",
      "building tree 388 of 1000\n",
      "building tree 389 of 1000\n",
      "building tree 390 of 1000\n",
      "building tree 391 of 1000\n",
      "building tree 392 of 1000\n",
      "building tree 393 of 1000\n",
      "building tree 394 of 1000\n",
      "building tree 395 of 1000\n",
      "building tree 396 of 1000\n",
      "building tree 397 of 1000\n",
      "building tree 398 of 1000\n",
      "building tree 399 of 1000\n",
      "building tree 400 of 1000\n",
      "building tree 401 of 1000\n",
      "building tree 402 of 1000\n",
      "building tree 403 of 1000\n",
      "building tree 404 of 1000\n",
      "building tree 405 of 1000\n",
      "building tree 406 of 1000\n",
      "building tree 407 of 1000\n",
      "building tree 408 of 1000\n",
      "building tree 409 of 1000\n",
      "building tree 410 of 1000\n",
      "building tree 411 of 1000\n",
      "building tree 412 of 1000\n",
      "building tree 413 of 1000\n",
      "building tree 414 of 1000\n",
      "building tree 415 of 1000\n",
      "building tree 416 of 1000\n",
      "building tree 417 of 1000\n",
      "building tree 418 of 1000\n",
      "building tree 419 of 1000\n",
      "building tree 420 of 1000\n",
      "building tree 421 of 1000\n",
      "building tree 422 of 1000\n",
      "building tree 423 of 1000\n",
      "building tree 424 of 1000\n",
      "building tree 425 of 1000\n",
      "building tree 426 of 1000\n",
      "building tree 427 of 1000\n",
      "building tree 428 of 1000\n",
      "building tree 429 of 1000\n",
      "building tree 430 of 1000\n",
      "building tree 431 of 1000\n",
      "building tree 432 of 1000\n",
      "building tree 433 of 1000\n",
      "building tree 434 of 1000\n",
      "building tree 435 of 1000\n",
      "building tree 436 of 1000\n",
      "building tree 437 of 1000\n",
      "building tree 438 of 1000\n",
      "building tree 439 of 1000\n",
      "building tree 440 of 1000\n",
      "building tree 441 of 1000\n",
      "building tree 442 of 1000\n",
      "building tree 443 of 1000\n",
      "building tree 444 of 1000\n",
      "building tree 445 of 1000\n",
      "building tree 446 of 1000\n",
      "building tree 447 of 1000\n",
      "building tree 448 of 1000\n",
      "building tree 449 of 1000\n",
      "building tree 450 of 1000\n",
      "building tree 451 of 1000\n",
      "building tree 452 of 1000\n",
      "building tree 453 of 1000\n",
      "building tree 454 of 1000\n",
      "building tree 455 of 1000\n",
      "building tree 456 of 1000\n",
      "building tree 457 of 1000\n",
      "building tree 458 of 1000\n",
      "building tree 459 of 1000\n",
      "building tree 460 of 1000\n",
      "building tree 461 of 1000\n",
      "building tree 462 of 1000\n",
      "building tree 463 of 1000\n",
      "building tree 464 of 1000\n",
      "building tree 465 of 1000\n",
      "building tree 466 of 1000\n",
      "building tree 467 of 1000\n",
      "building tree 468 of 1000\n",
      "building tree 469 of 1000\n",
      "building tree 470 of 1000\n",
      "building tree 471 of 1000\n",
      "building tree 472 of 1000\n",
      "building tree 473 of 1000\n",
      "building tree 474 of 1000\n",
      "building tree 475 of 1000\n",
      "building tree 476 of 1000\n",
      "building tree 477 of 1000\n",
      "building tree 478 of 1000\n",
      "building tree 479 of 1000\n",
      "building tree 480 of 1000\n",
      "building tree 481 of 1000\n",
      "building tree 482 of 1000\n",
      "building tree 483 of 1000\n",
      "building tree 484 of 1000\n",
      "building tree 485 of 1000\n",
      "building tree 486 of 1000\n",
      "building tree 487 of 1000\n",
      "building tree 488 of 1000\n",
      "building tree 489 of 1000\n",
      "building tree 490 of 1000\n",
      "building tree 491 of 1000\n",
      "building tree 492 of 1000\n",
      "building tree 493 of 1000\n",
      "building tree 494 of 1000\n",
      "building tree 495 of 1000\n",
      "building tree 496 of 1000\n",
      "building tree 497 of 1000\n",
      "building tree 498 of 1000\n",
      "building tree 499 of 1000\n",
      "building tree 500 of 1000\n",
      "building tree 501 of 1000\n",
      "building tree 502 of 1000\n",
      "building tree 503 of 1000\n",
      "building tree 504 of 1000\n",
      "building tree 505 of 1000\n",
      "building tree 506 of 1000\n",
      "building tree 507 of 1000\n"
     ]
    },
    {
     "name": "stderr",
     "output_type": "stream",
     "text": [
      "[Parallel(n_jobs=-1)]: Done 504 tasks      | elapsed: 34.6min\n"
     ]
    },
    {
     "name": "stdout",
     "output_type": "stream",
     "text": [
      "building tree 508 of 1000\n",
      "building tree 509 of 1000\n",
      "building tree 510 of 1000\n",
      "building tree 511 of 1000\n",
      "building tree 512 of 1000\n",
      "building tree 513 of 1000\n",
      "building tree 514 of 1000\n",
      "building tree 515 of 1000\n",
      "building tree 516 of 1000\n",
      "building tree 517 of 1000\n",
      "building tree 518 of 1000\n",
      "building tree 519 of 1000\n",
      "building tree 520 of 1000\n",
      "building tree 521 of 1000\n",
      "building tree 522 of 1000\n",
      "building tree 523 of 1000\n",
      "building tree 524 of 1000\n",
      "building tree 525 of 1000\n",
      "building tree 526 of 1000\n",
      "building tree 527 of 1000\n",
      "building tree 528 of 1000\n",
      "building tree 529 of 1000\n",
      "building tree 530 of 1000\n",
      "building tree 531 of 1000\n",
      "building tree 532 of 1000\n",
      "building tree 533 of 1000\n",
      "building tree 534 of 1000\n",
      "building tree 535 of 1000\n",
      "building tree 536 of 1000\n",
      "building tree 537 of 1000\n",
      "building tree 538 of 1000\n",
      "building tree 539 of 1000\n",
      "building tree 540 of 1000\n",
      "building tree 541 of 1000\n",
      "building tree 542 of 1000\n",
      "building tree 543 of 1000\n",
      "building tree 544 of 1000\n",
      "building tree 545 of 1000\n",
      "building tree 546 of 1000\n",
      "building tree 547 of 1000\n",
      "building tree 548 of 1000\n",
      "building tree 549 of 1000\n",
      "building tree 550 of 1000\n",
      "building tree 551 of 1000\n",
      "building tree 552 of 1000\n",
      "building tree 553 of 1000\n",
      "building tree 554 of 1000\n",
      "building tree 555 of 1000\n",
      "building tree 556 of 1000\n",
      "building tree 557 of 1000\n",
      "building tree 558 of 1000\n",
      "building tree 559 of 1000\n",
      "building tree 560 of 1000\n",
      "building tree 561 of 1000\n",
      "building tree 562 of 1000\n",
      "building tree 563 of 1000\n",
      "building tree 564 of 1000\n",
      "building tree 565 of 1000\n",
      "building tree 566 of 1000\n",
      "building tree 567 of 1000\n",
      "building tree 568 of 1000\n",
      "building tree 569 of 1000\n",
      "building tree 570 of 1000\n",
      "building tree 571 of 1000\n",
      "building tree 572 of 1000\n",
      "building tree 573 of 1000\n",
      "building tree 574 of 1000\n",
      "building tree 575 of 1000\n",
      "building tree 576 of 1000\n",
      "building tree 577 of 1000\n",
      "building tree 578 of 1000\n",
      "building tree 579 of 1000\n",
      "building tree 580 of 1000\n",
      "building tree 581 of 1000\n",
      "building tree 582 of 1000\n",
      "building tree 583 of 1000\n",
      "building tree 584 of 1000\n",
      "building tree 585 of 1000\n",
      "building tree 586 of 1000\n",
      "building tree 587 of 1000\n",
      "building tree 588 of 1000\n",
      "building tree 589 of 1000\n",
      "building tree 590 of 1000\n",
      "building tree 591 of 1000\n",
      "building tree 592 of 1000\n",
      "building tree 593 of 1000\n",
      "building tree 594 of 1000\n",
      "building tree 595 of 1000\n",
      "building tree 596 of 1000\n",
      "building tree 597 of 1000\n",
      "building tree 598 of 1000\n",
      "building tree 599 of 1000\n",
      "building tree 600 of 1000\n",
      "building tree 601 of 1000\n",
      "building tree 602 of 1000\n",
      "building tree 603 of 1000\n",
      "building tree 604 of 1000\n",
      "building tree 605 of 1000\n",
      "building tree 606 of 1000\n",
      "building tree 607 of 1000\n",
      "building tree 608 of 1000\n",
      "building tree 609 of 1000\n",
      "building tree 610 of 1000\n",
      "building tree 611 of 1000\n",
      "building tree 612 of 1000\n",
      "building tree 613 of 1000\n",
      "building tree 614 of 1000\n",
      "building tree 615 of 1000\n",
      "building tree 616 of 1000\n",
      "building tree 617 of 1000\n",
      "building tree 618 of 1000\n",
      "building tree 619 of 1000\n",
      "building tree 620 of 1000\n",
      "building tree 621 of 1000\n",
      "building tree 622 of 1000\n",
      "building tree 623 of 1000\n",
      "building tree 624 of 1000\n",
      "building tree 625 of 1000\n",
      "building tree 626 of 1000\n",
      "building tree 627 of 1000\n",
      "building tree 628 of 1000\n",
      "building tree 629 of 1000\n",
      "building tree 630 of 1000\n",
      "building tree 631 of 1000\n",
      "building tree 632 of 1000\n",
      "building tree 633 of 1000\n",
      "building tree 634 of 1000\n",
      "building tree 635 of 1000\n",
      "building tree 636 of 1000\n",
      "building tree 637 of 1000\n",
      "building tree 638 of 1000\n",
      "building tree 639 of 1000\n",
      "building tree 640 of 1000\n",
      "building tree 641 of 1000\n",
      "building tree 642 of 1000\n",
      "building tree 643 of 1000\n",
      "building tree 644 of 1000\n",
      "building tree 645 of 1000\n",
      "building tree 646 of 1000\n",
      "building tree 647 of 1000\n",
      "building tree 648 of 1000\n",
      "building tree 649 of 1000\n",
      "building tree 650 of 1000\n",
      "building tree 651 of 1000\n",
      "building tree 652 of 1000\n",
      "building tree 653 of 1000\n",
      "building tree 654 of 1000\n",
      "building tree 655 of 1000\n",
      "building tree 656 of 1000\n",
      "building tree 657 of 1000\n",
      "building tree 658 of 1000\n",
      "building tree 659 of 1000\n",
      "building tree 660 of 1000\n",
      "building tree 661 of 1000\n",
      "building tree 662 of 1000\n",
      "building tree 663 of 1000\n",
      "building tree 664 of 1000\n",
      "building tree 665 of 1000\n",
      "building tree 666 of 1000\n",
      "building tree 667 of 1000\n",
      "building tree 668 of 1000\n",
      "building tree 669 of 1000\n",
      "building tree 670 of 1000\n",
      "building tree 671 of 1000\n",
      "building tree 672 of 1000\n",
      "building tree 673 of 1000\n",
      "building tree 674 of 1000\n",
      "building tree 675 of 1000\n",
      "building tree 676 of 1000\n",
      "building tree 677 of 1000\n",
      "building tree 678 of 1000\n",
      "building tree 679 of 1000\n",
      "building tree 680 of 1000\n",
      "building tree 681 of 1000\n",
      "building tree 682 of 1000\n",
      "building tree 683 of 1000\n",
      "building tree 684 of 1000\n",
      "building tree 685 of 1000\n",
      "building tree 686 of 1000\n",
      "building tree 687 of 1000\n",
      "building tree 688 of 1000\n",
      "building tree 689 of 1000\n",
      "building tree 690 of 1000\n",
      "building tree 691 of 1000\n",
      "building tree 692 of 1000\n",
      "building tree 693 of 1000\n",
      "building tree 694 of 1000\n",
      "building tree 695 of 1000\n",
      "building tree 696 of 1000\n",
      "building tree 697 of 1000\n",
      "building tree 698 of 1000\n",
      "building tree 699 of 1000\n",
      "building tree 700 of 1000\n",
      "building tree 701 of 1000\n",
      "building tree 702 of 1000\n",
      "building tree 703 of 1000\n",
      "building tree 704 of 1000\n",
      "building tree 705 of 1000\n",
      "building tree 706 of 1000\n",
      "building tree 707 of 1000\n",
      "building tree 708 of 1000\n",
      "building tree 709 of 1000\n",
      "building tree 710 of 1000\n",
      "building tree 711 of 1000\n",
      "building tree 712 of 1000\n",
      "building tree 713 of 1000\n",
      "building tree 714 of 1000\n",
      "building tree 715 of 1000\n",
      "building tree 716 of 1000\n",
      "building tree 717 of 1000\n",
      "building tree 718 of 1000\n",
      "building tree 719 of 1000\n",
      "building tree 720 of 1000\n",
      "building tree 721 of 1000\n",
      "building tree 722 of 1000\n",
      "building tree 723 of 1000\n",
      "building tree 724 of 1000\n",
      "building tree 725 of 1000\n",
      "building tree 726 of 1000\n",
      "building tree 727 of 1000\n",
      "building tree 728 of 1000\n",
      "building tree 729 of 1000\n",
      "building tree 730 of 1000\n",
      "building tree 731 of 1000\n",
      "building tree 732 of 1000\n",
      "building tree 733 of 1000\n",
      "building tree 734 of 1000\n",
      "building tree 735 of 1000\n",
      "building tree 736 of 1000\n",
      "building tree 737 of 1000\n",
      "building tree 738 of 1000\n",
      "building tree 739 of 1000\n",
      "building tree 740 of 1000\n",
      "building tree 741 of 1000\n",
      "building tree 742 of 1000\n",
      "building tree 743 of 1000\n",
      "building tree 744 of 1000\n",
      "building tree 745 of 1000\n",
      "building tree 746 of 1000\n",
      "building tree 747 of 1000\n",
      "building tree 748 of 1000\n",
      "building tree 749 of 1000\n",
      "building tree 750 of 1000\n",
      "building tree 751 of 1000\n",
      "building tree 752 of 1000\n",
      "building tree 753 of 1000\n",
      "building tree 754 of 1000\n",
      "building tree 755 of 1000\n",
      "building tree 756 of 1000\n",
      "building tree 757 of 1000\n",
      "building tree 758 of 1000\n",
      "building tree 759 of 1000\n",
      "building tree 760 of 1000\n",
      "building tree 761 of 1000\n",
      "building tree 762 of 1000\n",
      "building tree 763 of 1000\n",
      "building tree 764 of 1000\n",
      "building tree 765 of 1000\n",
      "building tree 766 of 1000\n",
      "building tree 767 of 1000\n",
      "building tree 768 of 1000\n",
      "building tree 769 of 1000\n",
      "building tree 770 of 1000\n",
      "building tree 771 of 1000\n",
      "building tree 772 of 1000\n",
      "building tree 773 of 1000\n",
      "building tree 774 of 1000\n",
      "building tree 775 of 1000\n",
      "building tree 776 of 1000\n",
      "building tree 777 of 1000\n",
      "building tree 778 of 1000\n",
      "building tree 779 of 1000\n",
      "building tree 780 of 1000\n",
      "building tree 781 of 1000\n",
      "building tree 782 of 1000\n",
      "building tree 783 of 1000\n",
      "building tree 784 of 1000\n",
      "building tree 785 of 1000\n",
      "building tree 786 of 1000\n",
      "building tree 787 of 1000\n",
      "building tree 788 of 1000\n",
      "building tree 789 of 1000\n",
      "building tree 790 of 1000\n",
      "building tree 791 of 1000\n",
      "building tree 792 of 1000\n",
      "building tree 793 of 1000\n",
      "building tree 794 of 1000\n",
      "building tree 795 of 1000\n"
     ]
    },
    {
     "name": "stderr",
     "output_type": "stream",
     "text": [
      "[Parallel(n_jobs=-1)]: Done 792 tasks      | elapsed: 54.2min\n"
     ]
    },
    {
     "name": "stdout",
     "output_type": "stream",
     "text": [
      "building tree 796 of 1000\n",
      "building tree 797 of 1000\n",
      "building tree 798 of 1000\n",
      "building tree 799 of 1000\n",
      "building tree 800 of 1000\n",
      "building tree 801 of 1000\n",
      "building tree 802 of 1000\n",
      "building tree 803 of 1000\n",
      "building tree 804 of 1000\n",
      "building tree 805 of 1000\n",
      "building tree 806 of 1000\n",
      "building tree 807 of 1000\n",
      "building tree 808 of 1000\n",
      "building tree 809 of 1000\n",
      "building tree 810 of 1000\n",
      "building tree 811 of 1000\n",
      "building tree 812 of 1000\n",
      "building tree 813 of 1000\n",
      "building tree 814 of 1000\n",
      "building tree 815 of 1000\n",
      "building tree 816 of 1000\n",
      "building tree 817 of 1000\n",
      "building tree 818 of 1000\n",
      "building tree 819 of 1000\n",
      "building tree 820 of 1000\n",
      "building tree 821 of 1000\n",
      "building tree 822 of 1000\n",
      "building tree 823 of 1000\n",
      "building tree 824 of 1000\n",
      "building tree 825 of 1000\n",
      "building tree 826 of 1000\n",
      "building tree 827 of 1000\n",
      "building tree 828 of 1000\n",
      "building tree 829 of 1000\n",
      "building tree 830 of 1000\n",
      "building tree 831 of 1000\n",
      "building tree 832 of 1000\n",
      "building tree 833 of 1000\n",
      "building tree 834 of 1000\n",
      "building tree 835 of 1000\n",
      "building tree 836 of 1000\n",
      "building tree 837 of 1000\n",
      "building tree 838 of 1000\n",
      "building tree 839 of 1000\n",
      "building tree 840 of 1000\n",
      "building tree 841 of 1000\n",
      "building tree 842 of 1000\n",
      "building tree 843 of 1000\n",
      "building tree 844 of 1000\n",
      "building tree 845 of 1000\n",
      "building tree 846 of 1000\n",
      "building tree 847 of 1000\n",
      "building tree 848 of 1000\n",
      "building tree 849 of 1000\n",
      "building tree 850 of 1000\n",
      "building tree 851 of 1000\n",
      "building tree 852 of 1000\n",
      "building tree 853 of 1000\n",
      "building tree 854 of 1000\n",
      "building tree 855 of 1000\n",
      "building tree 856 of 1000\n",
      "building tree 857 of 1000\n",
      "building tree 858 of 1000\n",
      "building tree 859 of 1000\n",
      "building tree 860 of 1000\n",
      "building tree 861 of 1000\n",
      "building tree 862 of 1000\n",
      "building tree 863 of 1000\n",
      "building tree 864 of 1000\n",
      "building tree 865 of 1000\n",
      "building tree 866 of 1000\n",
      "building tree 867 of 1000\n",
      "building tree 868 of 1000\n",
      "building tree 869 of 1000\n",
      "building tree 870 of 1000\n",
      "building tree 871 of 1000\n",
      "building tree 872 of 1000\n",
      "building tree 873 of 1000\n",
      "building tree 874 of 1000\n",
      "building tree 875 of 1000\n",
      "building tree 876 of 1000\n",
      "building tree 877 of 1000\n",
      "building tree 878 of 1000\n",
      "building tree 879 of 1000\n",
      "building tree 880 of 1000\n",
      "building tree 881 of 1000\n",
      "building tree 882 of 1000\n",
      "building tree 883 of 1000\n",
      "building tree 884 of 1000\n",
      "building tree 885 of 1000\n",
      "building tree 886 of 1000\n",
      "building tree 887 of 1000\n",
      "building tree 888 of 1000\n",
      "building tree 889 of 1000\n",
      "building tree 890 of 1000\n",
      "building tree 891 of 1000\n",
      "building tree 892 of 1000\n",
      "building tree 893 of 1000\n",
      "building tree 894 of 1000\n",
      "building tree 895 of 1000\n",
      "building tree 896 of 1000\n",
      "building tree 897 of 1000\n",
      "building tree 898 of 1000\n",
      "building tree 899 of 1000\n",
      "building tree 900 of 1000\n",
      "building tree 901 of 1000\n",
      "building tree 902 of 1000\n",
      "building tree 903 of 1000\n",
      "building tree 904 of 1000\n",
      "building tree 905 of 1000\n",
      "building tree 906 of 1000\n",
      "building tree 907 of 1000\n",
      "building tree 908 of 1000\n",
      "building tree 909 of 1000\n",
      "building tree 910 of 1000\n",
      "building tree 911 of 1000\n",
      "building tree 912 of 1000\n",
      "building tree 913 of 1000\n",
      "building tree 914 of 1000\n",
      "building tree 915 of 1000\n",
      "building tree 916 of 1000\n",
      "building tree 917 of 1000\n",
      "building tree 918 of 1000\n",
      "building tree 919 of 1000\n",
      "building tree 920 of 1000\n",
      "building tree 921 of 1000\n",
      "building tree 922 of 1000\n",
      "building tree 923 of 1000\n",
      "building tree 924 of 1000\n",
      "building tree 925 of 1000\n",
      "building tree 926 of 1000\n",
      "building tree 927 of 1000\n",
      "building tree 928 of 1000\n",
      "building tree 929 of 1000\n",
      "building tree 930 of 1000\n",
      "building tree 931 of 1000\n",
      "building tree 932 of 1000\n",
      "building tree 933 of 1000\n",
      "building tree 934 of 1000\n",
      "building tree 935 of 1000\n",
      "building tree 936 of 1000\n",
      "building tree 937 of 1000\n",
      "building tree 938 of 1000\n",
      "building tree 939 of 1000\n",
      "building tree 940 of 1000\n",
      "building tree 941 of 1000\n",
      "building tree 942 of 1000\n",
      "building tree 943 of 1000\n",
      "building tree 944 of 1000\n",
      "building tree 945 of 1000\n",
      "building tree 946 of 1000\n",
      "building tree 947 of 1000\n",
      "building tree 948 of 1000\n",
      "building tree 949 of 1000\n",
      "building tree 950 of 1000\n",
      "building tree 951 of 1000\n",
      "building tree 952 of 1000\n",
      "building tree 953 of 1000\n",
      "building tree 954 of 1000\n",
      "building tree 955 of 1000\n",
      "building tree 956 of 1000\n",
      "building tree 957 of 1000\n",
      "building tree 958 of 1000\n",
      "building tree 959 of 1000\n",
      "building tree 960 of 1000\n",
      "building tree 961 of 1000\n",
      "building tree 962 of 1000\n",
      "building tree 963 of 1000\n",
      "building tree 964 of 1000\n",
      "building tree 965 of 1000\n",
      "building tree 966 of 1000\n",
      "building tree 967 of 1000\n",
      "building tree 968 of 1000\n",
      "building tree 969 of 1000\n",
      "building tree 970 of 1000\n",
      "building tree 971 of 1000\n",
      "building tree 972 of 1000\n",
      "building tree 973 of 1000\n",
      "building tree 974 of 1000\n",
      "building tree 975 of 1000\n",
      "building tree 976 of 1000\n",
      "building tree 977 of 1000\n",
      "building tree 978 of 1000\n",
      "building tree 979 of 1000\n",
      "building tree 980 of 1000\n",
      "building tree 981 of 1000\n",
      "building tree 982 of 1000\n",
      "building tree 983 of 1000\n",
      "building tree 984 of 1000\n",
      "building tree 985 of 1000\n",
      "building tree 986 of 1000\n",
      "building tree 987 of 1000\n",
      "building tree 988 of 1000\n",
      "building tree 989 of 1000\n",
      "building tree 990 of 1000\n",
      "building tree 991 of 1000\n",
      "building tree 992 of 1000\n",
      "building tree 993 of 1000\n",
      "building tree 994 of 1000\n",
      "building tree 995 of 1000\n",
      "building tree 996 of 1000\n",
      "building tree 997 of 1000\n",
      "building tree 998 of 1000\n",
      "building tree 999 of 1000\n",
      "building tree 1000 of 1000\n"
     ]
    },
    {
     "name": "stderr",
     "output_type": "stream",
     "text": [
      "[Parallel(n_jobs=-1)]: Done 1000 out of 1000 | elapsed: 68.7min finished\n"
     ]
    },
    {
     "data": {
      "text/plain": [
       "RandomForestClassifier(bootstrap=True, ccp_alpha=0.0, class_weight=None,\n",
       "                       criterion='gini', max_depth=None, max_features='auto',\n",
       "                       max_leaf_nodes=None, max_samples=None,\n",
       "                       min_impurity_decrease=0.0, min_impurity_split=None,\n",
       "                       min_samples_leaf=1, min_samples_split=0.0001,\n",
       "                       min_weight_fraction_leaf=0.0, n_estimators=1000,\n",
       "                       n_jobs=-1, oob_score=False, random_state=34, verbose=3,\n",
       "                       warm_start=False)"
      ]
     },
     "execution_count": 5,
     "metadata": {
      "tags": []
     },
     "output_type": "execute_result"
    }
   ],
   "source": [
    "rfc2 = RandomForestClassifier(n_estimators=1000, min_samples_split=0.0001, random_state=34, n_jobs=-1,\n",
    "                            verbose=3) #increasing the no of tress to 1000\n",
    "rfc2.fit(X_train_pca, y_train_pca)"
   ]
  },
  {
   "cell_type": "code",
   "execution_count": 0,
   "metadata": {
    "colab": {
     "base_uri": "https://localhost:8080/",
     "height": 351
    },
    "colab_type": "code",
    "id": "5CCUSVGJOW93",
    "outputId": "e3316781-ccaa-4c1b-ea71-1a1e04cbdb29"
   },
   "outputs": [
    {
     "name": "stderr",
     "output_type": "stream",
     "text": [
      "[Parallel(n_jobs=4)]: Using backend ThreadingBackend with 4 concurrent workers.\n",
      "[Parallel(n_jobs=4)]: Done  24 tasks      | elapsed:    0.9s\n",
      "[Parallel(n_jobs=4)]: Done 120 tasks      | elapsed:    4.6s\n",
      "[Parallel(n_jobs=4)]: Done 280 tasks      | elapsed:   10.6s\n",
      "[Parallel(n_jobs=4)]: Done 504 tasks      | elapsed:   18.9s\n",
      "[Parallel(n_jobs=4)]: Done 792 tasks      | elapsed:   29.9s\n",
      "[Parallel(n_jobs=4)]: Done 1000 out of 1000 | elapsed:   37.9s finished\n"
     ]
    },
    {
     "name": "stdout",
     "output_type": "stream",
     "text": [
      "confusion matrix :\n",
      " [[148566   2974]\n",
      " [ 11767 139773]]\n",
      "classification report :\n",
      "               precision    recall  f1-score   support\n",
      "\n",
      "           0       0.93      0.98      0.95    151540\n",
      "           1       0.98      0.92      0.95    151540\n",
      "\n",
      "    accuracy                           0.95    303080\n",
      "   macro avg       0.95      0.95      0.95    303080\n",
      "weighted avg       0.95      0.95      0.95    303080\n",
      "\n"
     ]
    }
   ],
   "source": [
    "rfc2_pred = rfc2.predict(X_test_pca)\n",
    "print('confusion matrix :\\n', confusion_matrix(y_test_pca, rfc2_pred))\n",
    "print('classification report :\\n', classification_report(y_test_pca, rfc2_pred))"
   ]
  },
  {
   "cell_type": "markdown",
   "metadata": {
    "colab_type": "text",
    "id": "00UclmwTSALN"
   },
   "source": [
    "# Deep learning"
   ]
  },
  {
   "cell_type": "code",
   "execution_count": 0,
   "metadata": {
    "colab": {},
    "colab_type": "code",
    "id": "puH_kN5qSBSP"
   },
   "outputs": [],
   "source": [
    "#importing dependencies\n",
    "from tensorflow.keras.models  import Sequential\n",
    "from tensorflow.keras.layers import Dropout, Dense, Input\n",
    "from tensorflow.keras.callbacks import ModelCheckpoint, ReduceLROnPlateau"
   ]
  },
  {
   "cell_type": "code",
   "execution_count": 0,
   "metadata": {
    "colab": {},
    "colab_type": "code",
    "id": "vIi5vgfSSBbm"
   },
   "outputs": [],
   "source": [
    "def create_model(layers, size, rate):\n",
    "  model = Sequential()\n",
    "  model.add(Dense(size, input_shape=(60,)))\n",
    "  for i in range(layers-1):\n",
    "    model.add(Dense(size, activation='relu', kernel_regularizer='l2'))\n",
    "    model.add(Dropout(rate))\n",
    "  model.add(Dense(1, activation='sigmoid'))\n",
    "  model.compile(optimizer='adam', loss='binary_crossentropy')\n",
    "  return model"
   ]
  },
  {
   "cell_type": "code",
   "execution_count": 0,
   "metadata": {
    "colab": {},
    "colab_type": "code",
    "id": "9PIABPVNSBf-"
   },
   "outputs": [],
   "source": [
    "def train_model(model, epoch, batch_siz, i, j, x_t, y_t, x_v, y_v):\n",
    "  checkpoint = ModelCheckpoint('model{}{}.h5'.format(i, j), save_best_only=True)\n",
    "  lr = ReduceLROnPlateau(factor=0.3, patience=5, min_lr=0.0001)\n",
    "  callbacks = [checkpoint, lr]\n",
    "  history = model.fit(x=x_t, y=y_t, epochs=epoch, batch_size=batch_siz, validation_data=(x_v, y_v), callbacks=callbacks)\n",
    "  return history, model"
   ]
  },
  {
   "cell_type": "code",
   "execution_count": 0,
   "metadata": {
    "colab": {},
    "colab_type": "code",
    "id": "yVpEEXSlSBYB"
   },
   "outputs": [],
   "source": [
    "no_layers = [2, 3, 4]\n",
    "size = [64, 128]\n",
    "epochs = 50\n",
    "batch_size = 256\n",
    "drop_rate = 0.3"
   ]
  },
  {
   "cell_type": "code",
   "execution_count": 0,
   "metadata": {
    "colab": {},
    "colab_type": "code",
    "id": "F5qCObt-XcOd"
   },
   "outputs": [],
   "source": [
    "x_t, x_v, y_t, y_v = train_test_split(X_train_pca, y_train_pca, test_size=0.1, random_state=45)"
   ]
  },
  {
   "cell_type": "code",
   "execution_count": 0,
   "metadata": {
    "colab": {
     "base_uri": "https://localhost:8080/",
     "height": 1000
    },
    "colab_type": "code",
    "id": "_mlMUuOfSBWX",
    "outputId": "15819606-adc3-4da0-e170-d43fab8e07a2"
   },
   "outputs": [
    {
     "name": "stdout",
     "output_type": "stream",
     "text": [
      "Epoch 1/50\n",
      "2487/2487 [==============================] - 7s 3ms/step - loss: 0.2515 - val_loss: 0.2112 - lr: 0.0010\n",
      "Epoch 2/50\n",
      "2487/2487 [==============================] - 7s 3ms/step - loss: 0.2116 - val_loss: 0.2074 - lr: 0.0010\n",
      "Epoch 3/50\n",
      "2487/2487 [==============================] - 7s 3ms/step - loss: 0.2081 - val_loss: 0.2046 - lr: 0.0010\n",
      "Epoch 4/50\n",
      "2487/2487 [==============================] - 7s 3ms/step - loss: 0.2060 - val_loss: 0.2040 - lr: 0.0010\n",
      "Epoch 5/50\n",
      "2487/2487 [==============================] - 7s 3ms/step - loss: 0.2051 - val_loss: 0.2044 - lr: 0.0010\n",
      "Epoch 6/50\n",
      "2487/2487 [==============================] - 7s 3ms/step - loss: 0.2045 - val_loss: 0.2052 - lr: 0.0010\n",
      "Epoch 7/50\n",
      "2487/2487 [==============================] - 7s 3ms/step - loss: 0.2040 - val_loss: 0.2035 - lr: 0.0010\n",
      "Epoch 8/50\n",
      "2487/2487 [==============================] - 7s 3ms/step - loss: 0.2035 - val_loss: 0.2044 - lr: 0.0010\n",
      "Epoch 9/50\n",
      "2487/2487 [==============================] - 7s 3ms/step - loss: 0.2032 - val_loss: 0.2003 - lr: 0.0010\n",
      "Epoch 10/50\n",
      "2487/2487 [==============================] - 7s 3ms/step - loss: 0.2027 - val_loss: 0.2009 - lr: 0.0010\n",
      "Epoch 11/50\n",
      "2487/2487 [==============================] - 7s 3ms/step - loss: 0.2021 - val_loss: 0.1997 - lr: 0.0010\n",
      "Epoch 12/50\n",
      "2487/2487 [==============================] - 7s 3ms/step - loss: 0.2018 - val_loss: 0.1995 - lr: 0.0010\n",
      "Epoch 13/50\n",
      "2487/2487 [==============================] - 7s 3ms/step - loss: 0.2013 - val_loss: 0.1978 - lr: 0.0010\n",
      "Epoch 14/50\n",
      "2487/2487 [==============================] - 7s 3ms/step - loss: 0.2008 - val_loss: 0.1971 - lr: 0.0010\n",
      "Epoch 15/50\n",
      "2487/2487 [==============================] - 7s 3ms/step - loss: 0.2006 - val_loss: 0.1977 - lr: 0.0010\n",
      "Epoch 16/50\n",
      "2487/2487 [==============================] - 7s 3ms/step - loss: 0.2004 - val_loss: 0.1972 - lr: 0.0010\n",
      "Epoch 17/50\n",
      "2487/2487 [==============================] - 7s 3ms/step - loss: 0.2001 - val_loss: 0.1970 - lr: 0.0010\n",
      "Epoch 18/50\n",
      "2487/2487 [==============================] - 8s 3ms/step - loss: 0.2001 - val_loss: 0.1966 - lr: 0.0010\n",
      "Epoch 19/50\n",
      "2487/2487 [==============================] - 8s 3ms/step - loss: 0.1998 - val_loss: 0.1995 - lr: 0.0010\n",
      "Epoch 20/50\n",
      "2487/2487 [==============================] - 7s 3ms/step - loss: 0.1998 - val_loss: 0.1981 - lr: 0.0010\n",
      "Epoch 21/50\n",
      "2487/2487 [==============================] - 7s 3ms/step - loss: 0.1994 - val_loss: 0.1966 - lr: 0.0010\n",
      "Epoch 22/50\n",
      "2487/2487 [==============================] - 7s 3ms/step - loss: 0.1995 - val_loss: 0.1964 - lr: 0.0010\n",
      "Epoch 23/50\n",
      "2487/2487 [==============================] - 7s 3ms/step - loss: 0.1993 - val_loss: 0.1956 - lr: 0.0010\n",
      "Epoch 24/50\n",
      "2487/2487 [==============================] - 7s 3ms/step - loss: 0.1993 - val_loss: 0.1971 - lr: 0.0010\n",
      "Epoch 25/50\n",
      "2487/2487 [==============================] - 7s 3ms/step - loss: 0.1990 - val_loss: 0.1983 - lr: 0.0010\n",
      "Epoch 26/50\n",
      "2487/2487 [==============================] - 7s 3ms/step - loss: 0.1989 - val_loss: 0.1964 - lr: 0.0010\n",
      "Epoch 27/50\n",
      "2487/2487 [==============================] - 7s 3ms/step - loss: 0.1988 - val_loss: 0.1976 - lr: 0.0010\n",
      "Epoch 28/50\n",
      "2487/2487 [==============================] - 7s 3ms/step - loss: 0.1991 - val_loss: 0.1978 - lr: 0.0010\n",
      "Epoch 29/50\n",
      "2487/2487 [==============================] - 7s 3ms/step - loss: 0.1963 - val_loss: 0.1932 - lr: 3.0000e-04\n",
      "Epoch 30/50\n",
      "2487/2487 [==============================] - 7s 3ms/step - loss: 0.1958 - val_loss: 0.1934 - lr: 3.0000e-04\n",
      "Epoch 31/50\n",
      "2487/2487 [==============================] - 7s 3ms/step - loss: 0.1955 - val_loss: 0.1934 - lr: 3.0000e-04\n",
      "Epoch 32/50\n",
      "2487/2487 [==============================] - 7s 3ms/step - loss: 0.1954 - val_loss: 0.1927 - lr: 3.0000e-04\n",
      "Epoch 33/50\n",
      "2487/2487 [==============================] - 7s 3ms/step - loss: 0.1954 - val_loss: 0.1928 - lr: 3.0000e-04\n",
      "Epoch 34/50\n",
      "2487/2487 [==============================] - 7s 3ms/step - loss: 0.1953 - val_loss: 0.1929 - lr: 3.0000e-04\n",
      "Epoch 35/50\n",
      "2487/2487 [==============================] - 7s 3ms/step - loss: 0.1954 - val_loss: 0.1931 - lr: 3.0000e-04\n",
      "Epoch 36/50\n",
      "2487/2487 [==============================] - 7s 3ms/step - loss: 0.1951 - val_loss: 0.1926 - lr: 3.0000e-04\n",
      "Epoch 37/50\n",
      "2487/2487 [==============================] - 7s 3ms/step - loss: 0.1948 - val_loss: 0.1934 - lr: 3.0000e-04\n",
      "Epoch 38/50\n",
      "2487/2487 [==============================] - 8s 3ms/step - loss: 0.1938 - val_loss: 0.1918 - lr: 1.0000e-04\n",
      "Epoch 39/50\n",
      "2487/2487 [==============================] - 7s 3ms/step - loss: 0.1938 - val_loss: 0.1916 - lr: 1.0000e-04\n",
      "Epoch 40/50\n",
      "2487/2487 [==============================] - 7s 3ms/step - loss: 0.1937 - val_loss: 0.1914 - lr: 1.0000e-04\n",
      "Epoch 41/50\n",
      "2487/2487 [==============================] - 7s 3ms/step - loss: 0.1938 - val_loss: 0.1915 - lr: 1.0000e-04\n",
      "Epoch 42/50\n",
      "2487/2487 [==============================] - 7s 3ms/step - loss: 0.1937 - val_loss: 0.1914 - lr: 1.0000e-04\n",
      "Epoch 43/50\n",
      "2487/2487 [==============================] - 7s 3ms/step - loss: 0.1937 - val_loss: 0.1913 - lr: 1.0000e-04\n",
      "Epoch 44/50\n",
      "2487/2487 [==============================] - 7s 3ms/step - loss: 0.1935 - val_loss: 0.1912 - lr: 1.0000e-04\n",
      "Epoch 45/50\n",
      "2487/2487 [==============================] - 7s 3ms/step - loss: 0.1936 - val_loss: 0.1913 - lr: 1.0000e-04\n",
      "Epoch 46/50\n",
      "2487/2487 [==============================] - 7s 3ms/step - loss: 0.1935 - val_loss: 0.1914 - lr: 1.0000e-04\n",
      "Epoch 47/50\n",
      "2487/2487 [==============================] - 7s 3ms/step - loss: 0.1935 - val_loss: 0.1913 - lr: 1.0000e-04\n",
      "Epoch 48/50\n",
      "2487/2487 [==============================] - 7s 3ms/step - loss: 0.1936 - val_loss: 0.1912 - lr: 1.0000e-04\n",
      "Epoch 49/50\n",
      "2487/2487 [==============================] - 7s 3ms/step - loss: 0.1934 - val_loss: 0.1909 - lr: 1.0000e-04\n",
      "Epoch 50/50\n",
      "2487/2487 [==============================] - 7s 3ms/step - loss: 0.1936 - val_loss: 0.1909 - lr: 1.0000e-04\n",
      "WARNING:tensorflow:From <ipython-input-12-a2d7844eaa6d>:6: Sequential.predict_classes (from tensorflow.python.keras.engine.sequential) is deprecated and will be removed after 2021-01-01.\n",
      "Instructions for updating:\n",
      "Please use instead:* `np.argmax(model.predict(x), axis=-1)`,   if your model does multi-class classification   (e.g. if it uses a `softmax` last-layer activation).* `(model.predict(x) > 0.5).astype(\"int32\")`,   if your model does binary classification   (e.g. if it uses a `sigmoid` last-layer activation).\n",
      "Epoch 1/50\n",
      "2487/2487 [==============================] - 8s 3ms/step - loss: 0.2536 - val_loss: 0.2108 - lr: 0.0010\n",
      "Epoch 2/50\n",
      "2487/2487 [==============================] - 8s 3ms/step - loss: 0.2118 - val_loss: 0.2106 - lr: 0.0010\n",
      "Epoch 3/50\n",
      "2487/2487 [==============================] - 7s 3ms/step - loss: 0.2083 - val_loss: 0.2045 - lr: 0.0010\n",
      "Epoch 4/50\n",
      "2487/2487 [==============================] - 7s 3ms/step - loss: 0.2069 - val_loss: 0.2056 - lr: 0.0010\n",
      "Epoch 5/50\n",
      "2487/2487 [==============================] - 7s 3ms/step - loss: 0.2060 - val_loss: 0.2041 - lr: 0.0010\n",
      "Epoch 6/50\n",
      "2487/2487 [==============================] - 7s 3ms/step - loss: 0.2053 - val_loss: 0.2064 - lr: 0.0010\n",
      "Epoch 7/50\n",
      "2487/2487 [==============================] - 7s 3ms/step - loss: 0.2049 - val_loss: 0.2037 - lr: 0.0010\n",
      "Epoch 8/50\n",
      "2487/2487 [==============================] - 7s 3ms/step - loss: 0.2044 - val_loss: 0.2035 - lr: 0.0010\n",
      "Epoch 9/50\n",
      "2487/2487 [==============================] - 8s 3ms/step - loss: 0.2042 - val_loss: 0.2047 - lr: 0.0010\n",
      "Epoch 10/50\n",
      "2487/2487 [==============================] - 8s 3ms/step - loss: 0.2038 - val_loss: 0.2028 - lr: 0.0010\n",
      "Epoch 11/50\n",
      "2487/2487 [==============================] - 7s 3ms/step - loss: 0.2035 - val_loss: 0.2009 - lr: 0.0010\n",
      "Epoch 12/50\n",
      "2487/2487 [==============================] - 7s 3ms/step - loss: 0.2036 - val_loss: 0.2011 - lr: 0.0010\n",
      "Epoch 13/50\n",
      "2487/2487 [==============================] - 7s 3ms/step - loss: 0.2028 - val_loss: 0.2012 - lr: 0.0010\n",
      "Epoch 14/50\n",
      "2487/2487 [==============================] - 7s 3ms/step - loss: 0.2027 - val_loss: 0.2016 - lr: 0.0010\n",
      "Epoch 15/50\n",
      "2487/2487 [==============================] - 7s 3ms/step - loss: 0.2025 - val_loss: 0.2036 - lr: 0.0010\n",
      "Epoch 16/50\n",
      "2487/2487 [==============================] - 7s 3ms/step - loss: 0.2023 - val_loss: 0.1994 - lr: 0.0010\n",
      "Epoch 17/50\n",
      "2487/2487 [==============================] - 7s 3ms/step - loss: 0.2024 - val_loss: 0.2013 - lr: 0.0010\n",
      "Epoch 18/50\n",
      "2487/2487 [==============================] - 7s 3ms/step - loss: 0.2021 - val_loss: 0.2013 - lr: 0.0010\n",
      "Epoch 19/50\n",
      "2487/2487 [==============================] - 7s 3ms/step - loss: 0.2020 - val_loss: 0.2005 - lr: 0.0010\n",
      "Epoch 20/50\n",
      "2487/2487 [==============================] - 7s 3ms/step - loss: 0.2018 - val_loss: 0.1997 - lr: 0.0010\n",
      "Epoch 21/50\n",
      "2487/2487 [==============================] - 7s 3ms/step - loss: 0.2018 - val_loss: 0.1998 - lr: 0.0010\n",
      "Epoch 22/50\n",
      "2487/2487 [==============================] - 7s 3ms/step - loss: 0.1982 - val_loss: 0.1963 - lr: 3.0000e-04\n",
      "Epoch 23/50\n",
      "2487/2487 [==============================] - 7s 3ms/step - loss: 0.1978 - val_loss: 0.1956 - lr: 3.0000e-04\n",
      "Epoch 24/50\n",
      "2487/2487 [==============================] - 7s 3ms/step - loss: 0.1973 - val_loss: 0.1954 - lr: 3.0000e-04\n",
      "Epoch 25/50\n",
      "2487/2487 [==============================] - 7s 3ms/step - loss: 0.1971 - val_loss: 0.1949 - lr: 3.0000e-04\n",
      "Epoch 26/50\n",
      "2487/2487 [==============================] - 7s 3ms/step - loss: 0.1967 - val_loss: 0.1950 - lr: 3.0000e-04\n",
      "Epoch 27/50\n",
      "2487/2487 [==============================] - 7s 3ms/step - loss: 0.1964 - val_loss: 0.1950 - lr: 3.0000e-04\n",
      "Epoch 28/50\n",
      "2487/2487 [==============================] - 8s 3ms/step - loss: 0.1965 - val_loss: 0.1953 - lr: 3.0000e-04\n",
      "Epoch 29/50\n",
      "2487/2487 [==============================] - 7s 3ms/step - loss: 0.1964 - val_loss: 0.1941 - lr: 3.0000e-04\n",
      "Epoch 30/50\n",
      "2487/2487 [==============================] - 7s 3ms/step - loss: 0.1965 - val_loss: 0.1951 - lr: 3.0000e-04\n",
      "Epoch 31/50\n",
      "2487/2487 [==============================] - 7s 3ms/step - loss: 0.1961 - val_loss: 0.1946 - lr: 3.0000e-04\n",
      "Epoch 32/50\n",
      "2487/2487 [==============================] - 7s 3ms/step - loss: 0.1959 - val_loss: 0.1960 - lr: 3.0000e-04\n",
      "Epoch 33/50\n",
      "2487/2487 [==============================] - 7s 3ms/step - loss: 0.1958 - val_loss: 0.1937 - lr: 3.0000e-04\n",
      "Epoch 34/50\n",
      "2487/2487 [==============================] - 7s 3ms/step - loss: 0.1959 - val_loss: 0.1940 - lr: 3.0000e-04\n",
      "Epoch 35/50\n",
      "2487/2487 [==============================] - 7s 3ms/step - loss: 0.1958 - val_loss: 0.1941 - lr: 3.0000e-04\n",
      "Epoch 36/50\n",
      "2487/2487 [==============================] - 7s 3ms/step - loss: 0.1959 - val_loss: 0.1943 - lr: 3.0000e-04\n",
      "Epoch 37/50\n",
      "2487/2487 [==============================] - 7s 3ms/step - loss: 0.1955 - val_loss: 0.1928 - lr: 3.0000e-04\n",
      "Epoch 38/50\n",
      "2487/2487 [==============================] - 7s 3ms/step - loss: 0.1955 - val_loss: 0.1931 - lr: 3.0000e-04\n",
      "Epoch 39/50\n",
      "2487/2487 [==============================] - 7s 3ms/step - loss: 0.1954 - val_loss: 0.1930 - lr: 3.0000e-04\n",
      "Epoch 40/50\n",
      "2487/2487 [==============================] - 7s 3ms/step - loss: 0.1952 - val_loss: 0.1926 - lr: 3.0000e-04\n",
      "Epoch 41/50\n",
      "2487/2487 [==============================] - 7s 3ms/step - loss: 0.1953 - val_loss: 0.1933 - lr: 3.0000e-04\n",
      "Epoch 42/50\n",
      "2487/2487 [==============================] - 7s 3ms/step - loss: 0.1952 - val_loss: 0.1926 - lr: 3.0000e-04\n",
      "Epoch 43/50\n",
      "2487/2487 [==============================] - 7s 3ms/step - loss: 0.1951 - val_loss: 0.1927 - lr: 3.0000e-04\n",
      "Epoch 44/50\n",
      "2487/2487 [==============================] - 7s 3ms/step - loss: 0.1951 - val_loss: 0.1937 - lr: 3.0000e-04\n",
      "Epoch 45/50\n",
      "2487/2487 [==============================] - 7s 3ms/step - loss: 0.1948 - val_loss: 0.1921 - lr: 3.0000e-04\n",
      "Epoch 46/50\n",
      "2487/2487 [==============================] - 7s 3ms/step - loss: 0.1944 - val_loss: 0.1918 - lr: 3.0000e-04\n",
      "Epoch 47/50\n",
      "2487/2487 [==============================] - 7s 3ms/step - loss: 0.1944 - val_loss: 0.1924 - lr: 3.0000e-04\n",
      "Epoch 48/50\n",
      "2487/2487 [==============================] - 7s 3ms/step - loss: 0.1943 - val_loss: 0.1908 - lr: 3.0000e-04\n",
      "Epoch 49/50\n",
      "2487/2487 [==============================] - 7s 3ms/step - loss: 0.1940 - val_loss: 0.1927 - lr: 3.0000e-04\n",
      "Epoch 50/50\n",
      "2487/2487 [==============================] - 7s 3ms/step - loss: 0.1938 - val_loss: 0.1912 - lr: 3.0000e-04\n",
      "Epoch 1/50\n",
      "2487/2487 [==============================] - 8s 3ms/step - loss: 0.2885 - val_loss: 0.2192 - lr: 0.0010\n",
      "Epoch 2/50\n",
      "2487/2487 [==============================] - 8s 3ms/step - loss: 0.2216 - val_loss: 0.2158 - lr: 0.0010\n",
      "Epoch 3/50\n",
      "2487/2487 [==============================] - 8s 3ms/step - loss: 0.2179 - val_loss: 0.2118 - lr: 0.0010\n",
      "Epoch 4/50\n",
      "2487/2487 [==============================] - 8s 3ms/step - loss: 0.2156 - val_loss: 0.2097 - lr: 0.0010\n",
      "Epoch 5/50\n",
      "2487/2487 [==============================] - 8s 3ms/step - loss: 0.2136 - val_loss: 0.2110 - lr: 0.0010\n",
      "Epoch 6/50\n",
      "2487/2487 [==============================] - 8s 3ms/step - loss: 0.2120 - val_loss: 0.2096 - lr: 0.0010\n",
      "Epoch 7/50\n",
      "2487/2487 [==============================] - 8s 3ms/step - loss: 0.2112 - val_loss: 0.2071 - lr: 0.0010\n",
      "Epoch 8/50\n",
      "2487/2487 [==============================] - 8s 3ms/step - loss: 0.2099 - val_loss: 0.2043 - lr: 0.0010\n",
      "Epoch 9/50\n",
      "2487/2487 [==============================] - 8s 3ms/step - loss: 0.2086 - val_loss: 0.2057 - lr: 0.0010\n",
      "Epoch 10/50\n",
      "2487/2487 [==============================] - 8s 3ms/step - loss: 0.2080 - val_loss: 0.2042 - lr: 0.0010\n",
      "Epoch 11/50\n",
      "2487/2487 [==============================] - 8s 3ms/step - loss: 0.2076 - val_loss: 0.2023 - lr: 0.0010\n",
      "Epoch 12/50\n",
      "2487/2487 [==============================] - 8s 3ms/step - loss: 0.2072 - val_loss: 0.2023 - lr: 0.0010\n",
      "Epoch 13/50\n",
      "2487/2487 [==============================] - 8s 3ms/step - loss: 0.2071 - val_loss: 0.2020 - lr: 0.0010\n",
      "Epoch 14/50\n",
      "2487/2487 [==============================] - 8s 3ms/step - loss: 0.2070 - val_loss: 0.2019 - lr: 0.0010\n",
      "Epoch 15/50\n",
      "2487/2487 [==============================] - 8s 3ms/step - loss: 0.2066 - val_loss: 0.2012 - lr: 0.0010\n",
      "Epoch 16/50\n",
      "2487/2487 [==============================] - 8s 3ms/step - loss: 0.2064 - val_loss: 0.2025 - lr: 0.0010\n",
      "Epoch 17/50\n",
      "2487/2487 [==============================] - 8s 3ms/step - loss: 0.2064 - val_loss: 0.2052 - lr: 0.0010\n",
      "Epoch 18/50\n",
      "2487/2487 [==============================] - 8s 3ms/step - loss: 0.2062 - val_loss: 0.2009 - lr: 0.0010\n",
      "Epoch 19/50\n",
      "2487/2487 [==============================] - 8s 3ms/step - loss: 0.2062 - val_loss: 0.2005 - lr: 0.0010\n",
      "Epoch 20/50\n",
      "2487/2487 [==============================] - 8s 3ms/step - loss: 0.2062 - val_loss: 0.2021 - lr: 0.0010\n",
      "Epoch 21/50\n",
      "2487/2487 [==============================] - 8s 3ms/step - loss: 0.2059 - val_loss: 0.2015 - lr: 0.0010\n",
      "Epoch 22/50\n",
      "2487/2487 [==============================] - 8s 3ms/step - loss: 0.2060 - val_loss: 0.2017 - lr: 0.0010\n",
      "Epoch 23/50\n",
      "2487/2487 [==============================] - 8s 3ms/step - loss: 0.2058 - val_loss: 0.2039 - lr: 0.0010\n",
      "Epoch 24/50\n",
      "2487/2487 [==============================] - 8s 3ms/step - loss: 0.2058 - val_loss: 0.2038 - lr: 0.0010\n",
      "Epoch 25/50\n",
      "2487/2487 [==============================] - 8s 3ms/step - loss: 0.2023 - val_loss: 0.1996 - lr: 3.0000e-04\n",
      "Epoch 26/50\n",
      "2487/2487 [==============================] - 8s 3ms/step - loss: 0.2019 - val_loss: 0.1989 - lr: 3.0000e-04\n",
      "Epoch 27/50\n",
      "2487/2487 [==============================] - 8s 3ms/step - loss: 0.2018 - val_loss: 0.1983 - lr: 3.0000e-04\n",
      "Epoch 28/50\n",
      "2487/2487 [==============================] - 8s 3ms/step - loss: 0.2017 - val_loss: 0.1982 - lr: 3.0000e-04\n",
      "Epoch 29/50\n",
      "2487/2487 [==============================] - 8s 3ms/step - loss: 0.2016 - val_loss: 0.1987 - lr: 3.0000e-04\n",
      "Epoch 30/50\n",
      "2487/2487 [==============================] - 8s 3ms/step - loss: 0.2014 - val_loss: 0.1978 - lr: 3.0000e-04\n",
      "Epoch 31/50\n",
      "2487/2487 [==============================] - 8s 3ms/step - loss: 0.2012 - val_loss: 0.1973 - lr: 3.0000e-04\n",
      "Epoch 32/50\n",
      "2487/2487 [==============================] - 8s 3ms/step - loss: 0.2011 - val_loss: 0.1970 - lr: 3.0000e-04\n",
      "Epoch 33/50\n",
      "2487/2487 [==============================] - 8s 3ms/step - loss: 0.2007 - val_loss: 0.1968 - lr: 3.0000e-04\n",
      "Epoch 34/50\n",
      "2487/2487 [==============================] - 8s 3ms/step - loss: 0.2005 - val_loss: 0.1963 - lr: 3.0000e-04\n",
      "Epoch 35/50\n",
      "2487/2487 [==============================] - 8s 3ms/step - loss: 0.2003 - val_loss: 0.1968 - lr: 3.0000e-04\n",
      "Epoch 36/50\n",
      "2487/2487 [==============================] - 8s 3ms/step - loss: 0.2002 - val_loss: 0.1960 - lr: 3.0000e-04\n",
      "Epoch 37/50\n",
      "2487/2487 [==============================] - 8s 3ms/step - loss: 0.2001 - val_loss: 0.1957 - lr: 3.0000e-04\n",
      "Epoch 38/50\n",
      "2487/2487 [==============================] - 8s 3ms/step - loss: 0.2000 - val_loss: 0.1962 - lr: 3.0000e-04\n",
      "Epoch 39/50\n",
      "2487/2487 [==============================] - 8s 3ms/step - loss: 0.1998 - val_loss: 0.1967 - lr: 3.0000e-04\n",
      "Epoch 40/50\n",
      "2487/2487 [==============================] - 8s 3ms/step - loss: 0.1998 - val_loss: 0.1962 - lr: 3.0000e-04\n",
      "Epoch 41/50\n",
      "2487/2487 [==============================] - 8s 3ms/step - loss: 0.1993 - val_loss: 0.1953 - lr: 3.0000e-04\n",
      "Epoch 42/50\n",
      "2487/2487 [==============================] - 8s 3ms/step - loss: 0.1998 - val_loss: 0.1972 - lr: 3.0000e-04\n",
      "Epoch 43/50\n",
      "2487/2487 [==============================] - 8s 3ms/step - loss: 0.1994 - val_loss: 0.1967 - lr: 3.0000e-04\n",
      "Epoch 44/50\n",
      "2487/2487 [==============================] - 8s 3ms/step - loss: 0.1995 - val_loss: 0.1964 - lr: 3.0000e-04\n",
      "Epoch 45/50\n",
      "2487/2487 [==============================] - 8s 3ms/step - loss: 0.1994 - val_loss: 0.1954 - lr: 3.0000e-04\n",
      "Epoch 46/50\n",
      "2487/2487 [==============================] - 8s 3ms/step - loss: 0.1994 - val_loss: 0.1952 - lr: 3.0000e-04\n",
      "Epoch 47/50\n",
      "2487/2487 [==============================] - 8s 3ms/step - loss: 0.1978 - val_loss: 0.1946 - lr: 1.0000e-04\n",
      "Epoch 48/50\n",
      "2487/2487 [==============================] - 8s 3ms/step - loss: 0.1977 - val_loss: 0.1942 - lr: 1.0000e-04\n",
      "Epoch 49/50\n",
      "2487/2487 [==============================] - 8s 3ms/step - loss: 0.1976 - val_loss: 0.1944 - lr: 1.0000e-04\n",
      "Epoch 50/50\n",
      "2487/2487 [==============================] - 8s 3ms/step - loss: 0.1977 - val_loss: 0.1942 - lr: 1.0000e-04\n",
      "Epoch 1/50\n",
      "2487/2487 [==============================] - 8s 3ms/step - loss: 0.2898 - val_loss: 0.2181 - lr: 0.0010\n",
      "Epoch 2/50\n",
      "2487/2487 [==============================] - 8s 3ms/step - loss: 0.2197 - val_loss: 0.2199 - lr: 0.0010\n",
      "Epoch 3/50\n",
      "2487/2487 [==============================] - 8s 3ms/step - loss: 0.2170 - val_loss: 0.2140 - lr: 0.0010\n",
      "Epoch 4/50\n",
      "2487/2487 [==============================] - 8s 3ms/step - loss: 0.2154 - val_loss: 0.2102 - lr: 0.0010\n",
      "Epoch 5/50\n",
      "2487/2487 [==============================] - 8s 3ms/step - loss: 0.2142 - val_loss: 0.2104 - lr: 0.0010\n",
      "Epoch 6/50\n",
      "2487/2487 [==============================] - 8s 3ms/step - loss: 0.2135 - val_loss: 0.2099 - lr: 0.0010\n",
      "Epoch 7/50\n",
      "2487/2487 [==============================] - 8s 3ms/step - loss: 0.2115 - val_loss: 0.2068 - lr: 0.0010\n",
      "Epoch 8/50\n",
      "2487/2487 [==============================] - 8s 3ms/step - loss: 0.2101 - val_loss: 0.2055 - lr: 0.0010\n",
      "Epoch 9/50\n",
      "2487/2487 [==============================] - 8s 3ms/step - loss: 0.2095 - val_loss: 0.2140 - lr: 0.0010\n",
      "Epoch 10/50\n",
      "2487/2487 [==============================] - 8s 3ms/step - loss: 0.2088 - val_loss: 0.2062 - lr: 0.0010\n",
      "Epoch 11/50\n",
      "2487/2487 [==============================] - 8s 3ms/step - loss: 0.2086 - val_loss: 0.2035 - lr: 0.0010\n",
      "Epoch 12/50\n",
      "2487/2487 [==============================] - 8s 3ms/step - loss: 0.2081 - val_loss: 0.2064 - lr: 0.0010\n",
      "Epoch 13/50\n",
      "2487/2487 [==============================] - 8s 3ms/step - loss: 0.2077 - val_loss: 0.2043 - lr: 0.0010\n",
      "Epoch 14/50\n",
      "2487/2487 [==============================] - 8s 3ms/step - loss: 0.2078 - val_loss: 0.2023 - lr: 0.0010\n",
      "Epoch 15/50\n",
      "2487/2487 [==============================] - 8s 3ms/step - loss: 0.2077 - val_loss: 0.2056 - lr: 0.0010\n",
      "Epoch 16/50\n",
      "2487/2487 [==============================] - 8s 3ms/step - loss: 0.2073 - val_loss: 0.2051 - lr: 0.0010\n",
      "Epoch 17/50\n",
      "2487/2487 [==============================] - 8s 3ms/step - loss: 0.2073 - val_loss: 0.2042 - lr: 0.0010\n",
      "Epoch 18/50\n",
      "2487/2487 [==============================] - 8s 3ms/step - loss: 0.2072 - val_loss: 0.2017 - lr: 0.0010\n",
      "Epoch 19/50\n",
      "2487/2487 [==============================] - 8s 3ms/step - loss: 0.2069 - val_loss: 0.2022 - lr: 0.0010\n",
      "Epoch 20/50\n",
      "2487/2487 [==============================] - 8s 3ms/step - loss: 0.2069 - val_loss: 0.2023 - lr: 0.0010\n",
      "Epoch 21/50\n",
      "2487/2487 [==============================] - 8s 3ms/step - loss: 0.2067 - val_loss: 0.2059 - lr: 0.0010\n",
      "Epoch 22/50\n",
      "2487/2487 [==============================] - 8s 3ms/step - loss: 0.2067 - val_loss: 0.2020 - lr: 0.0010\n",
      "Epoch 23/50\n",
      "2487/2487 [==============================] - 8s 3ms/step - loss: 0.2066 - val_loss: 0.2031 - lr: 0.0010\n",
      "Epoch 24/50\n",
      "2487/2487 [==============================] - 8s 3ms/step - loss: 0.2027 - val_loss: 0.1986 - lr: 3.0000e-04\n",
      "Epoch 25/50\n",
      "2487/2487 [==============================] - 8s 3ms/step - loss: 0.2025 - val_loss: 0.1992 - lr: 3.0000e-04\n",
      "Epoch 26/50\n",
      "2487/2487 [==============================] - 8s 3ms/step - loss: 0.2023 - val_loss: 0.1989 - lr: 3.0000e-04\n",
      "Epoch 27/50\n",
      "2487/2487 [==============================] - 8s 3ms/step - loss: 0.2021 - val_loss: 0.1988 - lr: 3.0000e-04\n",
      "Epoch 28/50\n",
      "2487/2487 [==============================] - 8s 3ms/step - loss: 0.2018 - val_loss: 0.1981 - lr: 3.0000e-04\n",
      "Epoch 29/50\n",
      "2487/2487 [==============================] - 8s 3ms/step - loss: 0.2019 - val_loss: 0.1995 - lr: 3.0000e-04\n",
      "Epoch 30/50\n",
      "2487/2487 [==============================] - 8s 3ms/step - loss: 0.2020 - val_loss: 0.1981 - lr: 3.0000e-04\n",
      "Epoch 31/50\n",
      "2487/2487 [==============================] - 8s 3ms/step - loss: 0.2016 - val_loss: 0.1977 - lr: 3.0000e-04\n",
      "Epoch 32/50\n",
      "2487/2487 [==============================] - 8s 3ms/step - loss: 0.2018 - val_loss: 0.1987 - lr: 3.0000e-04\n",
      "Epoch 33/50\n",
      "2487/2487 [==============================] - 8s 3ms/step - loss: 0.2017 - val_loss: 0.1980 - lr: 3.0000e-04\n",
      "Epoch 34/50\n",
      "2487/2487 [==============================] - 8s 3ms/step - loss: 0.2016 - val_loss: 0.1977 - lr: 3.0000e-04\n",
      "Epoch 35/50\n",
      "2487/2487 [==============================] - 8s 3ms/step - loss: 0.2016 - val_loss: 0.1986 - lr: 3.0000e-04\n",
      "Epoch 36/50\n",
      "2487/2487 [==============================] - 8s 3ms/step - loss: 0.2015 - val_loss: 0.1972 - lr: 3.0000e-04\n",
      "Epoch 37/50\n",
      "2487/2487 [==============================] - 8s 3ms/step - loss: 0.2016 - val_loss: 0.1976 - lr: 3.0000e-04\n",
      "Epoch 38/50\n",
      "2487/2487 [==============================] - 8s 3ms/step - loss: 0.2013 - val_loss: 0.1976 - lr: 3.0000e-04\n",
      "Epoch 39/50\n",
      "2487/2487 [==============================] - 8s 3ms/step - loss: 0.2014 - val_loss: 0.1971 - lr: 3.0000e-04\n",
      "Epoch 40/50\n",
      "2487/2487 [==============================] - 8s 3ms/step - loss: 0.2012 - val_loss: 0.1992 - lr: 3.0000e-04\n",
      "Epoch 41/50\n",
      "2487/2487 [==============================] - 8s 3ms/step - loss: 0.2013 - val_loss: 0.1972 - lr: 3.0000e-04\n",
      "Epoch 42/50\n",
      "2487/2487 [==============================] - 8s 3ms/step - loss: 0.2000 - val_loss: 0.1960 - lr: 1.0000e-04\n",
      "Epoch 43/50\n",
      "2487/2487 [==============================] - 8s 3ms/step - loss: 0.1996 - val_loss: 0.1959 - lr: 1.0000e-04\n",
      "Epoch 44/50\n",
      "2487/2487 [==============================] - 8s 3ms/step - loss: 0.1996 - val_loss: 0.1963 - lr: 1.0000e-04\n",
      "Epoch 45/50\n",
      "2487/2487 [==============================] - 8s 3ms/step - loss: 0.1995 - val_loss: 0.1964 - lr: 1.0000e-04\n",
      "Epoch 46/50\n",
      "2487/2487 [==============================] - 8s 3ms/step - loss: 0.1994 - val_loss: 0.1963 - lr: 1.0000e-04\n",
      "Epoch 47/50\n",
      "2487/2487 [==============================] - 8s 3ms/step - loss: 0.1995 - val_loss: 0.1961 - lr: 1.0000e-04\n",
      "Epoch 48/50\n",
      "2487/2487 [==============================] - 8s 3ms/step - loss: 0.1995 - val_loss: 0.1960 - lr: 1.0000e-04\n",
      "Epoch 49/50\n",
      "2487/2487 [==============================] - 8s 3ms/step - loss: 0.1993 - val_loss: 0.1960 - lr: 1.0000e-04\n",
      "Epoch 50/50\n",
      "2487/2487 [==============================] - 8s 3ms/step - loss: 0.1994 - val_loss: 0.1958 - lr: 1.0000e-04\n",
      "Epoch 1/50\n",
      "2487/2487 [==============================] - 8s 3ms/step - loss: 0.3191 - val_loss: 0.2264 - lr: 0.0010\n",
      "Epoch 2/50\n",
      "2487/2487 [==============================] - 8s 3ms/step - loss: 0.2329 - val_loss: 0.2199 - lr: 0.0010\n",
      "Epoch 3/50\n",
      "2487/2487 [==============================] - 8s 3ms/step - loss: 0.2282 - val_loss: 0.2197 - lr: 0.0010\n",
      "Epoch 4/50\n",
      "2487/2487 [==============================] - 8s 3ms/step - loss: 0.2253 - val_loss: 0.2162 - lr: 0.0010\n",
      "Epoch 5/50\n",
      "2487/2487 [==============================] - 8s 3ms/step - loss: 0.2231 - val_loss: 0.2175 - lr: 0.0010\n",
      "Epoch 6/50\n",
      "2487/2487 [==============================] - 8s 3ms/step - loss: 0.2217 - val_loss: 0.2140 - lr: 0.0010\n",
      "Epoch 7/50\n",
      "2487/2487 [==============================] - 8s 3ms/step - loss: 0.2207 - val_loss: 0.2177 - lr: 0.0010\n",
      "Epoch 8/50\n",
      "2487/2487 [==============================] - 8s 3ms/step - loss: 0.2198 - val_loss: 0.2140 - lr: 0.0010\n",
      "Epoch 9/50\n",
      "2487/2487 [==============================] - 8s 3ms/step - loss: 0.2189 - val_loss: 0.2122 - lr: 0.0010\n",
      "Epoch 10/50\n",
      "2487/2487 [==============================] - 8s 3ms/step - loss: 0.2180 - val_loss: 0.2198 - lr: 0.0010\n",
      "Epoch 11/50\n",
      "2487/2487 [==============================] - 8s 3ms/step - loss: 0.2172 - val_loss: 0.2117 - lr: 0.0010\n",
      "Epoch 12/50\n",
      "2487/2487 [==============================] - 8s 3ms/step - loss: 0.2164 - val_loss: 0.2108 - lr: 0.0010\n",
      "Epoch 13/50\n",
      "2487/2487 [==============================] - 8s 3ms/step - loss: 0.2153 - val_loss: 0.2081 - lr: 0.0010\n",
      "Epoch 14/50\n",
      "2487/2487 [==============================] - 8s 3ms/step - loss: 0.2140 - val_loss: 0.2068 - lr: 0.0010\n",
      "Epoch 15/50\n",
      "2487/2487 [==============================] - 8s 3ms/step - loss: 0.2135 - val_loss: 0.2120 - lr: 0.0010\n",
      "Epoch 16/50\n",
      "2487/2487 [==============================] - 9s 4ms/step - loss: 0.2129 - val_loss: 0.2090 - lr: 0.0010\n",
      "Epoch 17/50\n",
      "2487/2487 [==============================] - 9s 3ms/step - loss: 0.2129 - val_loss: 0.2075 - lr: 0.0010\n",
      "Epoch 18/50\n",
      "2487/2487 [==============================] - 9s 3ms/step - loss: 0.2125 - val_loss: 0.2065 - lr: 0.0010\n",
      "Epoch 19/50\n",
      "2487/2487 [==============================] - 9s 3ms/step - loss: 0.2125 - val_loss: 0.2063 - lr: 0.0010\n",
      "Epoch 20/50\n",
      "2487/2487 [==============================] - 8s 3ms/step - loss: 0.2121 - val_loss: 0.2063 - lr: 0.0010\n",
      "Epoch 21/50\n",
      "2487/2487 [==============================] - 8s 3ms/step - loss: 0.2122 - val_loss: 0.2074 - lr: 0.0010\n",
      "Epoch 22/50\n",
      "2487/2487 [==============================] - 8s 3ms/step - loss: 0.2119 - val_loss: 0.2047 - lr: 0.0010\n",
      "Epoch 23/50\n",
      "2487/2487 [==============================] - 8s 3ms/step - loss: 0.2117 - val_loss: 0.2048 - lr: 0.0010\n",
      "Epoch 24/50\n",
      "2487/2487 [==============================] - 8s 3ms/step - loss: 0.2116 - val_loss: 0.2075 - lr: 0.0010\n",
      "Epoch 25/50\n",
      "2487/2487 [==============================] - 8s 3ms/step - loss: 0.2115 - val_loss: 0.2051 - lr: 0.0010\n",
      "Epoch 26/50\n",
      "2487/2487 [==============================] - 8s 3ms/step - loss: 0.2114 - val_loss: 0.2059 - lr: 0.0010\n",
      "Epoch 27/50\n",
      "2487/2487 [==============================] - 8s 3ms/step - loss: 0.2114 - val_loss: 0.2081 - lr: 0.0010\n",
      "Epoch 28/50\n",
      "2487/2487 [==============================] - 8s 3ms/step - loss: 0.2074 - val_loss: 0.2033 - lr: 3.0000e-04\n",
      "Epoch 29/50\n",
      "2487/2487 [==============================] - 8s 3ms/step - loss: 0.2070 - val_loss: 0.2018 - lr: 3.0000e-04\n",
      "Epoch 30/50\n",
      "2487/2487 [==============================] - 9s 3ms/step - loss: 0.2071 - val_loss: 0.2018 - lr: 3.0000e-04\n",
      "Epoch 31/50\n",
      "2487/2487 [==============================] - 8s 3ms/step - loss: 0.2068 - val_loss: 0.2018 - lr: 3.0000e-04\n",
      "Epoch 32/50\n",
      "2487/2487 [==============================] - 9s 3ms/step - loss: 0.2067 - val_loss: 0.2015 - lr: 3.0000e-04\n",
      "Epoch 33/50\n",
      "2487/2487 [==============================] - 8s 3ms/step - loss: 0.2068 - val_loss: 0.2033 - lr: 3.0000e-04\n",
      "Epoch 34/50\n",
      "2487/2487 [==============================] - 8s 3ms/step - loss: 0.2068 - val_loss: 0.2021 - lr: 3.0000e-04\n",
      "Epoch 35/50\n",
      "2487/2487 [==============================] - 8s 3ms/step - loss: 0.2067 - val_loss: 0.2014 - lr: 3.0000e-04\n",
      "Epoch 36/50\n",
      "2487/2487 [==============================] - 8s 3ms/step - loss: 0.2066 - val_loss: 0.2026 - lr: 3.0000e-04\n",
      "Epoch 37/50\n",
      "2487/2487 [==============================] - 8s 3ms/step - loss: 0.2064 - val_loss: 0.2017 - lr: 3.0000e-04\n",
      "Epoch 38/50\n",
      "2487/2487 [==============================] - 8s 3ms/step - loss: 0.2050 - val_loss: 0.2010 - lr: 1.0000e-04\n",
      "Epoch 39/50\n",
      "2487/2487 [==============================] - 8s 3ms/step - loss: 0.2049 - val_loss: 0.2004 - lr: 1.0000e-04\n",
      "Epoch 40/50\n",
      "2487/2487 [==============================] - 8s 3ms/step - loss: 0.2053 - val_loss: 0.2005 - lr: 1.0000e-04\n",
      "Epoch 41/50\n",
      "2487/2487 [==============================] - 8s 3ms/step - loss: 0.2049 - val_loss: 0.2004 - lr: 1.0000e-04\n",
      "Epoch 42/50\n",
      "2487/2487 [==============================] - 8s 3ms/step - loss: 0.2048 - val_loss: 0.2004 - lr: 1.0000e-04\n",
      "Epoch 43/50\n",
      "2487/2487 [==============================] - 8s 3ms/step - loss: 0.2046 - val_loss: 0.2009 - lr: 1.0000e-04\n",
      "Epoch 44/50\n",
      "2487/2487 [==============================] - 8s 3ms/step - loss: 0.2049 - val_loss: 0.2005 - lr: 1.0000e-04\n",
      "Epoch 45/50\n",
      "2487/2487 [==============================] - 8s 3ms/step - loss: 0.2047 - val_loss: 0.2011 - lr: 1.0000e-04\n",
      "Epoch 46/50\n",
      "2487/2487 [==============================] - 8s 3ms/step - loss: 0.2048 - val_loss: 0.2002 - lr: 1.0000e-04\n",
      "Epoch 47/50\n",
      "2487/2487 [==============================] - 8s 3ms/step - loss: 0.2049 - val_loss: 0.2001 - lr: 1.0000e-04\n",
      "Epoch 48/50\n",
      "2487/2487 [==============================] - 8s 3ms/step - loss: 0.2049 - val_loss: 0.2002 - lr: 1.0000e-04\n",
      "Epoch 49/50\n",
      "2487/2487 [==============================] - 8s 3ms/step - loss: 0.2046 - val_loss: 0.2004 - lr: 1.0000e-04\n",
      "Epoch 50/50\n",
      "2487/2487 [==============================] - 8s 3ms/step - loss: 0.2047 - val_loss: 0.2002 - lr: 1.0000e-04\n",
      "Epoch 1/50\n",
      "2487/2487 [==============================] - 9s 3ms/step - loss: 0.3275 - val_loss: 0.2248 - lr: 0.0010\n",
      "Epoch 2/50\n",
      "2487/2487 [==============================] - 9s 4ms/step - loss: 0.2287 - val_loss: 0.2190 - lr: 0.0010\n",
      "Epoch 3/50\n",
      "2487/2487 [==============================] - 9s 3ms/step - loss: 0.2252 - val_loss: 0.2185 - lr: 0.0010\n",
      "Epoch 4/50\n",
      "2487/2487 [==============================] - 8s 3ms/step - loss: 0.2227 - val_loss: 0.2164 - lr: 0.0010\n",
      "Epoch 5/50\n",
      "2487/2487 [==============================] - 8s 3ms/step - loss: 0.2218 - val_loss: 0.2166 - lr: 0.0010\n",
      "Epoch 6/50\n",
      "2487/2487 [==============================] - 9s 3ms/step - loss: 0.2208 - val_loss: 0.2139 - lr: 0.0010\n",
      "Epoch 7/50\n",
      "2487/2487 [==============================] - 9s 3ms/step - loss: 0.2200 - val_loss: 0.2137 - lr: 0.0010\n",
      "Epoch 8/50\n",
      "2487/2487 [==============================] - 9s 3ms/step - loss: 0.2196 - val_loss: 0.2133 - lr: 0.0010\n",
      "Epoch 9/50\n",
      "2487/2487 [==============================] - 8s 3ms/step - loss: 0.2188 - val_loss: 0.2153 - lr: 0.0010\n",
      "Epoch 10/50\n",
      "2487/2487 [==============================] - 8s 3ms/step - loss: 0.2178 - val_loss: 0.2142 - lr: 0.0010\n",
      "Epoch 11/50\n",
      "2487/2487 [==============================] - 8s 3ms/step - loss: 0.2169 - val_loss: 0.2108 - lr: 0.0010\n",
      "Epoch 12/50\n",
      "2487/2487 [==============================] - 8s 3ms/step - loss: 0.2161 - val_loss: 0.2103 - lr: 0.0010\n",
      "Epoch 13/50\n",
      "2487/2487 [==============================] - 9s 3ms/step - loss: 0.2161 - val_loss: 0.2102 - lr: 0.0010\n",
      "Epoch 14/50\n",
      "2487/2487 [==============================] - 9s 3ms/step - loss: 0.2154 - val_loss: 0.2107 - lr: 0.0010\n",
      "Epoch 15/50\n",
      "2487/2487 [==============================] - 9s 4ms/step - loss: 0.2151 - val_loss: 0.2091 - lr: 0.0010\n",
      "Epoch 16/50\n",
      "2487/2487 [==============================] - 9s 3ms/step - loss: 0.2149 - val_loss: 0.2117 - lr: 0.0010\n",
      "Epoch 17/50\n",
      "2487/2487 [==============================] - 8s 3ms/step - loss: 0.2145 - val_loss: 0.2108 - lr: 0.0010\n",
      "Epoch 18/50\n",
      "2487/2487 [==============================] - 9s 3ms/step - loss: 0.2143 - val_loss: 0.2105 - lr: 0.0010\n",
      "Epoch 19/50\n",
      "2487/2487 [==============================] - 8s 3ms/step - loss: 0.2141 - val_loss: 0.2114 - lr: 0.0010\n",
      "Epoch 20/50\n",
      "2487/2487 [==============================] - 9s 3ms/step - loss: 0.2138 - val_loss: 0.2125 - lr: 0.0010\n",
      "Epoch 21/50\n",
      "2487/2487 [==============================] - 9s 3ms/step - loss: 0.2103 - val_loss: 0.2058 - lr: 3.0000e-04\n",
      "Epoch 22/50\n",
      "2487/2487 [==============================] - 8s 3ms/step - loss: 0.2097 - val_loss: 0.2052 - lr: 3.0000e-04\n",
      "Epoch 23/50\n",
      "2487/2487 [==============================] - 9s 3ms/step - loss: 0.2100 - val_loss: 0.2048 - lr: 3.0000e-04\n",
      "Epoch 24/50\n",
      "2487/2487 [==============================] - 9s 3ms/step - loss: 0.2096 - val_loss: 0.2046 - lr: 3.0000e-04\n",
      "Epoch 25/50\n",
      "2487/2487 [==============================] - 9s 3ms/step - loss: 0.2095 - val_loss: 0.2050 - lr: 3.0000e-04\n",
      "Epoch 26/50\n",
      "2487/2487 [==============================] - 8s 3ms/step - loss: 0.2094 - val_loss: 0.2057 - lr: 3.0000e-04\n",
      "Epoch 27/50\n",
      "2487/2487 [==============================] - 9s 3ms/step - loss: 0.2094 - val_loss: 0.2053 - lr: 3.0000e-04\n",
      "Epoch 28/50\n",
      "2487/2487 [==============================] - 8s 3ms/step - loss: 0.2092 - val_loss: 0.2044 - lr: 3.0000e-04\n",
      "Epoch 29/50\n",
      "2487/2487 [==============================] - 8s 3ms/step - loss: 0.2093 - val_loss: 0.2063 - lr: 3.0000e-04\n",
      "Epoch 30/50\n",
      "2487/2487 [==============================] - 9s 3ms/step - loss: 0.2092 - val_loss: 0.2052 - lr: 3.0000e-04\n",
      "Epoch 31/50\n",
      "2487/2487 [==============================] - 8s 3ms/step - loss: 0.2090 - val_loss: 0.2045 - lr: 3.0000e-04\n",
      "Epoch 32/50\n",
      "2487/2487 [==============================] - 8s 3ms/step - loss: 0.2089 - val_loss: 0.2060 - lr: 3.0000e-04\n",
      "Epoch 33/50\n",
      "2487/2487 [==============================] - 9s 3ms/step - loss: 0.2090 - val_loss: 0.2050 - lr: 3.0000e-04\n",
      "Epoch 34/50\n",
      "2487/2487 [==============================] - 9s 3ms/step - loss: 0.2077 - val_loss: 0.2032 - lr: 1.0000e-04\n",
      "Epoch 35/50\n",
      "2487/2487 [==============================] - 9s 3ms/step - loss: 0.2073 - val_loss: 0.2033 - lr: 1.0000e-04\n",
      "Epoch 36/50\n",
      "2487/2487 [==============================] - 9s 3ms/step - loss: 0.2073 - val_loss: 0.2031 - lr: 1.0000e-04\n",
      "Epoch 37/50\n",
      "2487/2487 [==============================] - 8s 3ms/step - loss: 0.2072 - val_loss: 0.2032 - lr: 1.0000e-04\n",
      "Epoch 38/50\n",
      "2487/2487 [==============================] - 9s 4ms/step - loss: 0.2073 - val_loss: 0.2039 - lr: 1.0000e-04\n",
      "Epoch 39/50\n",
      "2487/2487 [==============================] - 9s 4ms/step - loss: 0.2073 - val_loss: 0.2031 - lr: 1.0000e-04\n",
      "Epoch 40/50\n",
      "2487/2487 [==============================] - 8s 3ms/step - loss: 0.2073 - val_loss: 0.2034 - lr: 1.0000e-04\n",
      "Epoch 41/50\n",
      "2487/2487 [==============================] - 9s 3ms/step - loss: 0.2074 - val_loss: 0.2032 - lr: 1.0000e-04\n",
      "Epoch 42/50\n",
      "2487/2487 [==============================] - 8s 3ms/step - loss: 0.2070 - val_loss: 0.2032 - lr: 1.0000e-04\n",
      "Epoch 43/50\n",
      "2487/2487 [==============================] - 8s 3ms/step - loss: 0.2071 - val_loss: 0.2039 - lr: 1.0000e-04\n",
      "Epoch 44/50\n",
      "2487/2487 [==============================] - 9s 3ms/step - loss: 0.2070 - val_loss: 0.2030 - lr: 1.0000e-04\n",
      "Epoch 45/50\n",
      "2487/2487 [==============================] - 9s 3ms/step - loss: 0.2071 - val_loss: 0.2030 - lr: 1.0000e-04\n",
      "Epoch 46/50\n",
      "2487/2487 [==============================] - 9s 3ms/step - loss: 0.2072 - val_loss: 0.2033 - lr: 1.0000e-04\n",
      "Epoch 47/50\n",
      "2487/2487 [==============================] - 9s 3ms/step - loss: 0.2072 - val_loss: 0.2030 - lr: 1.0000e-04\n",
      "Epoch 48/50\n",
      "2487/2487 [==============================] - 9s 3ms/step - loss: 0.2068 - val_loss: 0.2026 - lr: 1.0000e-04\n",
      "Epoch 49/50\n",
      "2487/2487 [==============================] - 8s 3ms/step - loss: 0.2071 - val_loss: 0.2030 - lr: 1.0000e-04\n",
      "Epoch 50/50\n",
      "2487/2487 [==============================] - 9s 3ms/step - loss: 0.2069 - val_loss: 0.2030 - lr: 1.0000e-04\n"
     ]
    }
   ],
   "source": [
    "preds = []\n",
    "for i in range(3):\n",
    "  for j in range(2):\n",
    "    mod = create_model(no_layers[i], size[j], drop_rate)\n",
    "    history, model = train_model(mod, epochs, batch_size, i, j, x_t, y_t, x_v, y_v)\n",
    "    preds.append(model.predict_classes(X_test_pca))"
   ]
  },
  {
   "cell_type": "code",
   "execution_count": 0,
   "metadata": {
    "colab": {},
    "colab_type": "code",
    "id": "-mEOJErwWYCS"
   },
   "outputs": [],
   "source": [
    "#from google.colab import files\n",
    "\n",
    "#files.download('model00.h5')\n",
    "#files.download('model01.h5')\n",
    "#files.download('model10.h5')\n",
    "#files.download('model11.h5')\n",
    "#files.download('model20.h5')\n",
    "#files.download('model21.h5')"
   ]
  },
  {
   "cell_type": "code",
   "execution_count": 0,
   "metadata": {
    "colab": {
     "base_uri": "https://localhost:8080/",
     "height": 1000
    },
    "colab_type": "code",
    "id": "ClnJOsCISBQi",
    "outputId": "b2a3ec18-34b4-4057-f5a0-b70ebc566c59",
    "scrolled": true
   },
   "outputs": [
    {
     "name": "stdout",
     "output_type": "stream",
     "text": [
      "confusion matrix (0):\n",
      " [[145833   5707]\n",
      " [ 15758 135782]]\n",
      "classification report (0):\n",
      "               precision    recall  f1-score   support\n",
      "\n",
      "           0       0.90      0.96      0.93    151540\n",
      "           1       0.96      0.90      0.93    151540\n",
      "\n",
      "    accuracy                           0.93    303080\n",
      "   macro avg       0.93      0.93      0.93    303080\n",
      "weighted avg       0.93      0.93      0.93    303080\n",
      "\n",
      "confusion matrix (1):\n",
      " [[146035   5505]\n",
      " [ 15875 135665]]\n",
      "classification report (1):\n",
      "               precision    recall  f1-score   support\n",
      "\n",
      "           0       0.90      0.96      0.93    151540\n",
      "           1       0.96      0.90      0.93    151540\n",
      "\n",
      "    accuracy                           0.93    303080\n",
      "   macro avg       0.93      0.93      0.93    303080\n",
      "weighted avg       0.93      0.93      0.93    303080\n",
      "\n",
      "confusion matrix (2):\n",
      " [[145263   6277]\n",
      " [ 15460 136080]]\n",
      "classification report (2):\n",
      "               precision    recall  f1-score   support\n",
      "\n",
      "           0       0.90      0.96      0.93    151540\n",
      "           1       0.96      0.90      0.93    151540\n",
      "\n",
      "    accuracy                           0.93    303080\n",
      "   macro avg       0.93      0.93      0.93    303080\n",
      "weighted avg       0.93      0.93      0.93    303080\n",
      "\n",
      "confusion matrix (3):\n",
      " [[145120   6420]\n",
      " [ 15628 135912]]\n",
      "classification report (3):\n",
      "               precision    recall  f1-score   support\n",
      "\n",
      "           0       0.90      0.96      0.93    151540\n",
      "           1       0.95      0.90      0.92    151540\n",
      "\n",
      "    accuracy                           0.93    303080\n",
      "   macro avg       0.93      0.93      0.93    303080\n",
      "weighted avg       0.93      0.93      0.93    303080\n",
      "\n",
      "confusion matrix (4):\n",
      " [[145606   5934]\n",
      " [ 16318 135222]]\n",
      "classification report (4):\n",
      "               precision    recall  f1-score   support\n",
      "\n",
      "           0       0.90      0.96      0.93    151540\n",
      "           1       0.96      0.89      0.92    151540\n",
      "\n",
      "    accuracy                           0.93    303080\n",
      "   macro avg       0.93      0.93      0.93    303080\n",
      "weighted avg       0.93      0.93      0.93    303080\n",
      "\n",
      "confusion matrix (5):\n",
      " [[145352   6188]\n",
      " [ 16568 134972]]\n",
      "classification report (5):\n",
      "               precision    recall  f1-score   support\n",
      "\n",
      "           0       0.90      0.96      0.93    151540\n",
      "           1       0.96      0.89      0.92    151540\n",
      "\n",
      "    accuracy                           0.92    303080\n",
      "   macro avg       0.93      0.92      0.92    303080\n",
      "weighted avg       0.93      0.92      0.92    303080\n",
      "\n"
     ]
    }
   ],
   "source": [
    "for i in range(6):\n",
    "  print('confusion matrix ({}):\\n'.format(i), confusion_matrix(y_test_pca, preds[i]))\n",
    "  print('classification report ({}):\\n'.format(i), classification_report(y_test_pca, preds[i]))"
   ]
  },
  {
   "cell_type": "code",
   "execution_count": 0,
   "metadata": {
    "colab": {},
    "colab_type": "code",
    "id": "nDQrXykf5K3s"
   },
   "outputs": [],
   "source": [
    "no_layers = [5, 7]\n",
    "size = [128]\n",
    "drop_rate = 0.3\n",
    "epochs = 50\n",
    "batch_size = 128"
   ]
  },
  {
   "cell_type": "code",
   "execution_count": 20,
   "metadata": {
    "colab": {
     "base_uri": "https://localhost:8080/",
     "height": 1000
    },
    "colab_type": "code",
    "id": "WYazSE355Etj",
    "outputId": "5ef2ef88-4006-4a1f-a51d-4a99f3f18c1a"
   },
   "outputs": [
    {
     "name": "stdout",
     "output_type": "stream",
     "text": [
      "Epoch 1/50\n",
      "4973/4973 [==============================] - 26s 5ms/step - loss: 0.3113 - val_loss: 0.2298 - lr: 0.0010\n",
      "Epoch 2/50\n",
      "4973/4973 [==============================] - 26s 5ms/step - loss: 0.2376 - val_loss: 0.2258 - lr: 0.0010\n",
      "Epoch 3/50\n",
      "4973/4973 [==============================] - 26s 5ms/step - loss: 0.2329 - val_loss: 0.2255 - lr: 0.0010\n",
      "Epoch 4/50\n",
      "4973/4973 [==============================] - 26s 5ms/step - loss: 0.2306 - val_loss: 0.2236 - lr: 0.0010\n",
      "Epoch 5/50\n",
      "4973/4973 [==============================] - 27s 5ms/step - loss: 0.2297 - val_loss: 0.2237 - lr: 0.0010\n",
      "Epoch 6/50\n",
      "4973/4973 [==============================] - 25s 5ms/step - loss: 0.2284 - val_loss: 0.2217 - lr: 0.0010\n",
      "Epoch 7/50\n",
      "4973/4973 [==============================] - 25s 5ms/step - loss: 0.2276 - val_loss: 0.2192 - lr: 0.0010\n",
      "Epoch 8/50\n",
      "4973/4973 [==============================] - 24s 5ms/step - loss: 0.2268 - val_loss: 0.2194 - lr: 0.0010\n",
      "Epoch 9/50\n",
      "4973/4973 [==============================] - 25s 5ms/step - loss: 0.2259 - val_loss: 0.2219 - lr: 0.0010\n",
      "Epoch 10/50\n",
      "4973/4973 [==============================] - 25s 5ms/step - loss: 0.2246 - val_loss: 0.2183 - lr: 0.0010\n",
      "Epoch 11/50\n",
      "4973/4973 [==============================] - 27s 5ms/step - loss: 0.2240 - val_loss: 0.2157 - lr: 0.0010\n",
      "Epoch 12/50\n",
      "4973/4973 [==============================] - 25s 5ms/step - loss: 0.2238 - val_loss: 0.2133 - lr: 0.0010\n",
      "Epoch 13/50\n",
      "4973/4973 [==============================] - 25s 5ms/step - loss: 0.2228 - val_loss: 0.2164 - lr: 0.0010\n",
      "Epoch 14/50\n",
      "4973/4973 [==============================] - 25s 5ms/step - loss: 0.2227 - val_loss: 0.2157 - lr: 0.0010\n",
      "Epoch 15/50\n",
      "4973/4973 [==============================] - 26s 5ms/step - loss: 0.2223 - val_loss: 0.2153 - lr: 0.0010\n",
      "Epoch 16/50\n",
      "4973/4973 [==============================] - 26s 5ms/step - loss: 0.2226 - val_loss: 0.2168 - lr: 0.0010\n",
      "Epoch 17/50\n",
      "4973/4973 [==============================] - 27s 5ms/step - loss: 0.2220 - val_loss: 0.2122 - lr: 0.0010\n",
      "Epoch 18/50\n",
      "4973/4973 [==============================] - 27s 5ms/step - loss: 0.2219 - val_loss: 0.2137 - lr: 0.0010\n",
      "Epoch 19/50\n",
      "4973/4973 [==============================] - 26s 5ms/step - loss: 0.2215 - val_loss: 0.2164 - lr: 0.0010\n",
      "Epoch 20/50\n",
      "4973/4973 [==============================] - 26s 5ms/step - loss: 0.2215 - val_loss: 0.2155 - lr: 0.0010\n",
      "Epoch 21/50\n",
      "4973/4973 [==============================] - 26s 5ms/step - loss: 0.2216 - val_loss: 0.2150 - lr: 0.0010\n",
      "Epoch 22/50\n",
      "4973/4973 [==============================] - 27s 5ms/step - loss: 0.2211 - val_loss: 0.2123 - lr: 0.0010\n",
      "Epoch 23/50\n",
      "4973/4973 [==============================] - 26s 5ms/step - loss: 0.2164 - val_loss: 0.2089 - lr: 3.0000e-04\n",
      "Epoch 24/50\n",
      "4973/4973 [==============================] - 25s 5ms/step - loss: 0.2159 - val_loss: 0.2084 - lr: 3.0000e-04\n",
      "Epoch 25/50\n",
      "4973/4973 [==============================] - 26s 5ms/step - loss: 0.2157 - val_loss: 0.2091 - lr: 3.0000e-04\n",
      "Epoch 26/50\n",
      "4973/4973 [==============================] - 25s 5ms/step - loss: 0.2157 - val_loss: 0.2085 - lr: 3.0000e-04\n",
      "Epoch 27/50\n",
      "4973/4973 [==============================] - 25s 5ms/step - loss: 0.2156 - val_loss: 0.2089 - lr: 3.0000e-04\n",
      "Epoch 28/50\n",
      "4973/4973 [==============================] - 25s 5ms/step - loss: 0.2154 - val_loss: 0.2082 - lr: 3.0000e-04\n",
      "Epoch 29/50\n",
      "4973/4973 [==============================] - 27s 5ms/step - loss: 0.2152 - val_loss: 0.2086 - lr: 3.0000e-04\n",
      "Epoch 30/50\n",
      "4973/4973 [==============================] - 26s 5ms/step - loss: 0.2152 - val_loss: 0.2096 - lr: 3.0000e-04\n",
      "Epoch 31/50\n",
      "4973/4973 [==============================] - 26s 5ms/step - loss: 0.2151 - val_loss: 0.2085 - lr: 3.0000e-04\n",
      "Epoch 32/50\n",
      "4973/4973 [==============================] - 26s 5ms/step - loss: 0.2151 - val_loss: 0.2085 - lr: 3.0000e-04\n",
      "Epoch 33/50\n",
      "4973/4973 [==============================] - 25s 5ms/step - loss: 0.2151 - val_loss: 0.2075 - lr: 3.0000e-04\n",
      "Epoch 34/50\n",
      "4973/4973 [==============================] - 26s 5ms/step - loss: 0.2149 - val_loss: 0.2078 - lr: 3.0000e-04\n",
      "Epoch 35/50\n",
      "4973/4973 [==============================] - 25s 5ms/step - loss: 0.2149 - val_loss: 0.2081 - lr: 3.0000e-04\n",
      "Epoch 36/50\n",
      "4973/4973 [==============================] - 25s 5ms/step - loss: 0.2147 - val_loss: 0.2073 - lr: 3.0000e-04\n",
      "Epoch 37/50\n",
      "4973/4973 [==============================] - 25s 5ms/step - loss: 0.2146 - val_loss: 0.2076 - lr: 3.0000e-04\n",
      "Epoch 38/50\n",
      "4973/4973 [==============================] - 25s 5ms/step - loss: 0.2148 - val_loss: 0.2078 - lr: 3.0000e-04\n",
      "Epoch 39/50\n",
      "4973/4973 [==============================] - 25s 5ms/step - loss: 0.2142 - val_loss: 0.2074 - lr: 3.0000e-04\n",
      "Epoch 40/50\n",
      "4973/4973 [==============================] - 25s 5ms/step - loss: 0.2144 - val_loss: 0.2074 - lr: 3.0000e-04\n",
      "Epoch 41/50\n",
      "4973/4973 [==============================] - 25s 5ms/step - loss: 0.2146 - val_loss: 0.2073 - lr: 3.0000e-04\n",
      "Epoch 42/50\n",
      "4973/4973 [==============================] - 26s 5ms/step - loss: 0.2127 - val_loss: 0.2061 - lr: 1.0000e-04\n",
      "Epoch 43/50\n",
      "4973/4973 [==============================] - 24s 5ms/step - loss: 0.2126 - val_loss: 0.2062 - lr: 1.0000e-04\n",
      "Epoch 44/50\n",
      "4973/4973 [==============================] - 24s 5ms/step - loss: 0.2127 - val_loss: 0.2069 - lr: 1.0000e-04\n",
      "Epoch 45/50\n",
      "4973/4973 [==============================] - 24s 5ms/step - loss: 0.2125 - val_loss: 0.2059 - lr: 1.0000e-04\n",
      "Epoch 46/50\n",
      "4973/4973 [==============================] - 25s 5ms/step - loss: 0.2122 - val_loss: 0.2068 - lr: 1.0000e-04\n",
      "Epoch 47/50\n",
      "4973/4973 [==============================] - 24s 5ms/step - loss: 0.2123 - val_loss: 0.2060 - lr: 1.0000e-04\n",
      "Epoch 48/50\n",
      "4973/4973 [==============================] - 25s 5ms/step - loss: 0.2123 - val_loss: 0.2065 - lr: 1.0000e-04\n",
      "Epoch 49/50\n",
      "4973/4973 [==============================] - 25s 5ms/step - loss: 0.2124 - val_loss: 0.2062 - lr: 1.0000e-04\n",
      "Epoch 50/50\n",
      "4973/4973 [==============================] - 25s 5ms/step - loss: 0.2123 - val_loss: 0.2066 - lr: 1.0000e-04\n",
      "Epoch 1/50\n",
      "4973/4973 [==============================] - 35s 7ms/step - loss: 0.3689 - val_loss: 0.2732 - lr: 0.0010\n",
      "Epoch 2/50\n",
      "4973/4973 [==============================] - 33s 7ms/step - loss: 0.2697 - val_loss: 0.2505 - lr: 0.0010\n",
      "Epoch 3/50\n",
      "4973/4973 [==============================] - 35s 7ms/step - loss: 0.2629 - val_loss: 0.2487 - lr: 0.0010\n",
      "Epoch 4/50\n",
      "4973/4973 [==============================] - 33s 7ms/step - loss: 0.2580 - val_loss: 0.2398 - lr: 0.0010\n",
      "Epoch 5/50\n",
      "4973/4973 [==============================] - 34s 7ms/step - loss: 0.2548 - val_loss: 0.2464 - lr: 0.0010\n",
      "Epoch 6/50\n",
      "4973/4973 [==============================] - 34s 7ms/step - loss: 0.2520 - val_loss: 0.2361 - lr: 0.0010\n",
      "Epoch 7/50\n",
      "4973/4973 [==============================] - 33s 7ms/step - loss: 0.2511 - val_loss: 0.2429 - lr: 0.0010\n",
      "Epoch 8/50\n",
      "4973/4973 [==============================] - 34s 7ms/step - loss: 0.2493 - val_loss: 0.2459 - lr: 0.0010\n",
      "Epoch 9/50\n",
      "4973/4973 [==============================] - 34s 7ms/step - loss: 0.2481 - val_loss: 0.2341 - lr: 0.0010\n",
      "Epoch 10/50\n",
      "4973/4973 [==============================] - 34s 7ms/step - loss: 0.2471 - val_loss: 0.2362 - lr: 0.0010\n",
      "Epoch 11/50\n",
      "4973/4973 [==============================] - 34s 7ms/step - loss: 0.2459 - val_loss: 0.2354 - lr: 0.0010\n",
      "Epoch 12/50\n",
      "4973/4973 [==============================] - 35s 7ms/step - loss: 0.2457 - val_loss: 0.2327 - lr: 0.0010\n",
      "Epoch 13/50\n",
      "4973/4973 [==============================] - 34s 7ms/step - loss: 0.2447 - val_loss: 0.2323 - lr: 0.0010\n",
      "Epoch 14/50\n",
      "4973/4973 [==============================] - 34s 7ms/step - loss: 0.2441 - val_loss: 0.2288 - lr: 0.0010\n",
      "Epoch 15/50\n",
      "4973/4973 [==============================] - 35s 7ms/step - loss: 0.2437 - val_loss: 0.2355 - lr: 0.0010\n",
      "Epoch 16/50\n",
      "4973/4973 [==============================] - 33s 7ms/step - loss: 0.2431 - val_loss: 0.2337 - lr: 0.0010\n",
      "Epoch 17/50\n",
      "4973/4973 [==============================] - 33s 7ms/step - loss: 0.2431 - val_loss: 0.2292 - lr: 0.0010\n",
      "Epoch 18/50\n",
      "4973/4973 [==============================] - 34s 7ms/step - loss: 0.2425 - val_loss: 0.2356 - lr: 0.0010\n",
      "Epoch 19/50\n",
      "4973/4973 [==============================] - 33s 7ms/step - loss: 0.2427 - val_loss: 0.2313 - lr: 0.0010\n",
      "Epoch 20/50\n",
      "4973/4973 [==============================] - 33s 7ms/step - loss: 0.2353 - val_loss: 0.2252 - lr: 3.0000e-04\n",
      "Epoch 21/50\n",
      "4973/4973 [==============================] - 35s 7ms/step - loss: 0.2353 - val_loss: 0.2242 - lr: 3.0000e-04\n",
      "Epoch 22/50\n",
      "4973/4973 [==============================] - 35s 7ms/step - loss: 0.2352 - val_loss: 0.2246 - lr: 3.0000e-04\n",
      "Epoch 23/50\n",
      "4973/4973 [==============================] - 34s 7ms/step - loss: 0.2349 - val_loss: 0.2243 - lr: 3.0000e-04\n",
      "Epoch 24/50\n",
      "4973/4973 [==============================] - 35s 7ms/step - loss: 0.2345 - val_loss: 0.2257 - lr: 3.0000e-04\n",
      "Epoch 25/50\n",
      "4973/4973 [==============================] - 34s 7ms/step - loss: 0.2345 - val_loss: 0.2258 - lr: 3.0000e-04\n",
      "Epoch 26/50\n",
      "4973/4973 [==============================] - 35s 7ms/step - loss: 0.2343 - val_loss: 0.2242 - lr: 3.0000e-04\n",
      "Epoch 27/50\n",
      "4973/4973 [==============================] - 35s 7ms/step - loss: 0.2324 - val_loss: 0.2232 - lr: 1.0000e-04\n",
      "Epoch 28/50\n",
      "4973/4973 [==============================] - 35s 7ms/step - loss: 0.2320 - val_loss: 0.2230 - lr: 1.0000e-04\n",
      "Epoch 29/50\n",
      "4973/4973 [==============================] - 35s 7ms/step - loss: 0.2317 - val_loss: 0.2232 - lr: 1.0000e-04\n",
      "Epoch 30/50\n",
      "4973/4973 [==============================] - 36s 7ms/step - loss: 0.2321 - val_loss: 0.2238 - lr: 1.0000e-04\n",
      "Epoch 31/50\n",
      "4973/4973 [==============================] - 34s 7ms/step - loss: 0.2317 - val_loss: 0.2232 - lr: 1.0000e-04\n",
      "Epoch 32/50\n",
      "4973/4973 [==============================] - 34s 7ms/step - loss: 0.2317 - val_loss: 0.2235 - lr: 1.0000e-04\n",
      "Epoch 33/50\n",
      "4973/4973 [==============================] - 35s 7ms/step - loss: 0.2315 - val_loss: 0.2233 - lr: 1.0000e-04\n",
      "Epoch 34/50\n",
      "4973/4973 [==============================] - 34s 7ms/step - loss: 0.2313 - val_loss: 0.2225 - lr: 1.0000e-04\n",
      "Epoch 35/50\n",
      "4973/4973 [==============================] - 35s 7ms/step - loss: 0.2313 - val_loss: 0.2228 - lr: 1.0000e-04\n",
      "Epoch 36/50\n",
      "4973/4973 [==============================] - 34s 7ms/step - loss: 0.2317 - val_loss: 0.2233 - lr: 1.0000e-04\n",
      "Epoch 37/50\n",
      "4973/4973 [==============================] - 34s 7ms/step - loss: 0.2312 - val_loss: 0.2238 - lr: 1.0000e-04\n",
      "Epoch 38/50\n",
      "4973/4973 [==============================] - 34s 7ms/step - loss: 0.2312 - val_loss: 0.2238 - lr: 1.0000e-04\n",
      "Epoch 39/50\n",
      "4973/4973 [==============================] - 36s 7ms/step - loss: 0.2310 - val_loss: 0.2222 - lr: 1.0000e-04\n",
      "Epoch 40/50\n",
      "4973/4973 [==============================] - 35s 7ms/step - loss: 0.2314 - val_loss: 0.2216 - lr: 1.0000e-04\n",
      "Epoch 41/50\n",
      "4973/4973 [==============================] - 35s 7ms/step - loss: 0.2312 - val_loss: 0.2234 - lr: 1.0000e-04\n",
      "Epoch 42/50\n",
      "4973/4973 [==============================] - 36s 7ms/step - loss: 0.2311 - val_loss: 0.2242 - lr: 1.0000e-04\n",
      "Epoch 43/50\n",
      "4973/4973 [==============================] - 35s 7ms/step - loss: 0.2310 - val_loss: 0.2240 - lr: 1.0000e-04\n",
      "Epoch 44/50\n",
      "4973/4973 [==============================] - 34s 7ms/step - loss: 0.2308 - val_loss: 0.2237 - lr: 1.0000e-04\n",
      "Epoch 45/50\n",
      "4973/4973 [==============================] - 35s 7ms/step - loss: 0.2310 - val_loss: 0.2226 - lr: 1.0000e-04\n",
      "Epoch 46/50\n",
      "4973/4973 [==============================] - 35s 7ms/step - loss: 0.2306 - val_loss: 0.2212 - lr: 1.0000e-04\n",
      "Epoch 47/50\n",
      "4973/4973 [==============================] - 35s 7ms/step - loss: 0.2307 - val_loss: 0.2213 - lr: 1.0000e-04\n",
      "Epoch 48/50\n",
      "4973/4973 [==============================] - 35s 7ms/step - loss: 0.2307 - val_loss: 0.2226 - lr: 1.0000e-04\n",
      "Epoch 49/50\n",
      "4973/4973 [==============================] - 34s 7ms/step - loss: 0.2312 - val_loss: 0.2227 - lr: 1.0000e-04\n",
      "Epoch 50/50\n",
      "4973/4973 [==============================] - 34s 7ms/step - loss: 0.2305 - val_loss: 0.2212 - lr: 1.0000e-04\n"
     ]
    }
   ],
   "source": [
    "y_preds = []\n",
    "for i in range(2):\n",
    "  for j in range(1):\n",
    "    mod = create_model(no_layers[i], size[j], drop_rate)\n",
    "    history, model = train_model(mod, epochs, batch_size, i+10, j+10, x_t, y_t, x_v, y_v)\n",
    "    y_preds.append(model.predict_classes(X_test_pca))"
   ]
  },
  {
   "cell_type": "code",
   "execution_count": 21,
   "metadata": {
    "colab": {
     "base_uri": "https://localhost:8080/",
     "height": 452
    },
    "colab_type": "code",
    "id": "Q9CR6Q065BMH",
    "outputId": "9b0e9071-7817-4ab9-df95-2c73c4204ec7"
   },
   "outputs": [
    {
     "name": "stdout",
     "output_type": "stream",
     "text": [
      "confusion matrix (6):\n",
      " [[145203   6337]\n",
      " [ 16405 135135]]\n",
      "classification report (6):\n",
      "               precision    recall  f1-score   support\n",
      "\n",
      "           0       0.90      0.96      0.93    151540\n",
      "           1       0.96      0.89      0.92    151540\n",
      "\n",
      "    accuracy                           0.92    303080\n",
      "   macro avg       0.93      0.92      0.92    303080\n",
      "weighted avg       0.93      0.92      0.92    303080\n",
      "\n",
      "confusion matrix (7):\n",
      " [[144944   6596]\n",
      " [ 16828 134712]]\n",
      "classification report (7):\n",
      "               precision    recall  f1-score   support\n",
      "\n",
      "           0       0.90      0.96      0.93    151540\n",
      "           1       0.95      0.89      0.92    151540\n",
      "\n",
      "    accuracy                           0.92    303080\n",
      "   macro avg       0.92      0.92      0.92    303080\n",
      "weighted avg       0.92      0.92      0.92    303080\n",
      "\n"
     ]
    }
   ],
   "source": [
    "for i in range(2):\n",
    "  print('confusion matrix ({}):\\n'.format(i+6), confusion_matrix(y_test_pca, y_preds[i]))\n",
    "  print('classification report ({}):\\n'.format(i+6), classification_report(y_test_pca, y_preds[i]))"
   ]
  },
  {
   "cell_type": "markdown",
   "metadata": {
    "colab_type": "text",
    "id": "_1e19gVmPM4e"
   },
   "source": [
    "# Modelling Summary\n",
    "    * Models performed slightly better on data decomposed using PCA.\n",
    "    * Logistic regression model obtained an f1-score of 0.92.\n",
    "    * LinearSVC model obtained an f1-score of 0.92\n",
    "    * SVC (rbf kernel) model obtained an f1-score of 0.94.\n",
    "    * XGBoost classifier obtained an f1-score of 0.92.\n",
    "    * On boosting XGBoost classifier with AdaBoost an avg f1-score of 0.34 was obtained. Adaboost seems to be predicting a single class for all data points.\n",
    "    * RandomForest classifier (500 trees) obtained an f1-score of 0.95. \n",
    "    * Increasing number of estimators did not have a significant impact. RandomForest classifier (1000 trees) obtained an f1-score of 0.95\n",
    "    * Deep neurel nets were used with differing layers and sizes. The highest f1-score was achived by a dnn with 5 hidden layers and of size 128. F1-score was 0.93.\n",
    "\n",
    "\n"
   ]
  },
  {
   "cell_type": "markdown",
   "metadata": {},
   "source": [
    "Highest testing accuracy of 95% and testing f1-score of 0.95 was achieved from RandomForest classifier."
   ]
  }
 ],
 "metadata": {
  "accelerator": "TPU",
  "colab": {
   "collapsed_sections": [],
   "machine_shape": "hm",
   "name": "auto_insurance1.ipynb",
   "provenance": [],
   "toc_visible": true
  },
  "kernelspec": {
   "display_name": "Python 3",
   "language": "python",
   "name": "python3"
  },
  "language_info": {
   "codemirror_mode": {
    "name": "ipython",
    "version": 3
   },
   "file_extension": ".py",
   "mimetype": "text/x-python",
   "name": "python",
   "nbconvert_exporter": "python",
   "pygments_lexer": "ipython3",
   "version": "3.6.5"
  }
 },
 "nbformat": 4,
 "nbformat_minor": 1
}
